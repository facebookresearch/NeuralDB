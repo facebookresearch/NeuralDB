{
 "cells": [
  {
   "cell_type": "code",
   "execution_count": 40,
   "metadata": {
    "collapsed": true
   },
   "outputs": [],
   "source": [
    "import itertools\n",
    "import operator\n",
    "import sys\n",
    "import os\n",
    "sys.path.append(\"../src\")\n",
    "from glob import glob\n",
    "import pandas as pd\n",
    "from neuraldb.dataset.base_reader import NeuralDatabaseDatasetReader\n",
    "from neuraldb.dataset.generators.v0_4_database_reader import V4DatabaseSpecificReader"
   ]
  },
  {
   "cell_type": "code",
   "execution_count": 41,
   "outputs": [
    {
     "name": "stdout",
     "output_type": "stream",
     "text": [
      "40\n"
     ]
    }
   ],
   "source": [
    "search_root = \"/checkpoint/jth/job_staging/neuraldb_expts/experiment=*oracle*\"\n",
    "checkpoint_name = \"best_em.ckpt\"\n",
    "files = glob(\"{}*/**/{}\".format(search_root,checkpoint_name), recursive=True)\n",
    "\n",
    "\n",
    "print(len(files))"
   ],
   "metadata": {
    "collapsed": false,
    "pycharm": {
     "name": "#%%\n"
    }
   }
  },
  {
   "cell_type": "code",
   "execution_count": 42,
   "outputs": [],
   "source": [
    "def expand(idx,chunk):\n",
    "  #if idx == 0:\n",
    "  #  return [\"job_id={}\".format(chunk)]\n",
    "  #elif idx == 1:\n",
    "  #  return [\"experiment={}\".format(chunk)]\n",
    "  if chunk.startswith(\"seed-\"):\n",
    "    return [\"seed={}\".format(chunk.replace(\"seed-\",\"\"))]\n",
    "  elif \",\" in chunk:\n",
    "    return chunk.split(\",\")\n",
    "  elif \"=\" in chunk:\n",
    "    return [chunk]\n",
    "  return []\n",
    "\n",
    "experiments = []\n",
    "for file in files:\n",
    "    chunks = file.replace(search_root,\"\").split(\"/\")\n",
    "    chunks = itertools.chain(*[expand(idx, chunk) for idx, chunk in enumerate(chunks)])\n",
    "\n",
    "    data = {k:v for k,v in (chunk.split(\"=\") for chunk in chunks)}\n",
    "    data[\"file\"] = file\n",
    "    data['dir'] = os.path.dirname(file)\n",
    "    experiments.append(data)\n",
    "\n",
    "\n"
   ],
   "metadata": {
    "collapsed": false,
    "pycharm": {
     "name": "#%%\n"
    }
   }
  },
  {
   "cell_type": "code",
   "execution_count": 43,
   "outputs": [
    {
     "name": "stdout",
     "output_type": "stream",
     "text": [
      "python -m neuraldb.commands.t5train2 --output_dir /checkpoint/jth/job_staging/neuraldb_expts/experiment=oracle_concat/dataset=ndb,model=t5-base,oracle=true,version=v0.5/lr=0.0005/context=50,filters=null,max_queries=null/seed-3 --model_name_or_path t5-base --do_predict --train_batch_size 8 --eval_batch_size 8 --n_gpu 2 --oracle --train_path=v0.5/train_queries_last_50.json --val_path=v0.5/dev_queries_last_50.json --test_path=v0.5/dev_queries_last_50.json --dataset_version=v0.5\n",
      "python -m neuraldb.commands.t5train2 --output_dir /checkpoint/jth/job_staging/neuraldb_expts/experiment=oracle_concat/dataset=ndb,model=t5-base,oracle=true,version=v0.5/lr=0.0005/context=50,filters=null,max_queries=null/seed-1 --model_name_or_path t5-base --do_predict --train_batch_size 8 --eval_batch_size 8 --n_gpu 2 --oracle --train_path=v0.5/train_queries_last_50.json --val_path=v0.5/dev_queries_last_50.json --test_path=v0.5/dev_queries_last_50.json --dataset_version=v0.5\n",
      "python -m neuraldb.commands.t5train2 --output_dir /checkpoint/jth/job_staging/neuraldb_expts/experiment=oracle_concat/dataset=ndb,model=t5-base,oracle=true,version=v0.5/lr=0.0005/context=50,filters=null,max_queries=null/seed-2 --model_name_or_path t5-base --do_predict --train_batch_size 8 --eval_batch_size 8 --n_gpu 2 --oracle --train_path=v0.5/train_queries_last_50.json --val_path=v0.5/dev_queries_last_50.json --test_path=v0.5/dev_queries_last_50.json --dataset_version=v0.5\n",
      "python -m neuraldb.commands.t5train2 --output_dir /checkpoint/jth/job_staging/neuraldb_expts/experiment=oracle_concat/dataset=ndb,model=t5-base,oracle=true,version=v0.5/lr=0.0005/context=50,filters=null,max_queries=null/seed-5 --model_name_or_path t5-base --do_predict --train_batch_size 8 --eval_batch_size 8 --n_gpu 2 --oracle --train_path=v0.5/train_queries_last_50.json --val_path=v0.5/dev_queries_last_50.json --test_path=v0.5/dev_queries_last_50.json --dataset_version=v0.5\n",
      "python -m neuraldb.commands.t5train2 --output_dir /checkpoint/jth/job_staging/neuraldb_expts/experiment=oracle_concat/dataset=ndb,model=t5-base,oracle=true,version=v0.5/lr=0.0005/context=50,filters=null,max_queries=null/seed-4 --model_name_or_path t5-base --do_predict --train_batch_size 8 --eval_batch_size 8 --n_gpu 2 --oracle --train_path=v0.5/train_queries_last_50.json --val_path=v0.5/dev_queries_last_50.json --test_path=v0.5/dev_queries_last_50.json --dataset_version=v0.5\n",
      "python -m neuraldb.commands.t5train2 --output_dir /checkpoint/jth/job_staging/neuraldb_expts/experiment=oracle_concat/dataset=ndb,model=t5-base,oracle=true,version=v0.5/lr=0.0005/context=100,filters=null,max_queries=null/seed-3 --model_name_or_path t5-base --do_predict --train_batch_size 8 --eval_batch_size 8 --n_gpu 2 --oracle --train_path=v0.5/train_queries_last_100.json --val_path=v0.5/dev_queries_last_100.json --test_path=v0.5/dev_queries_last_100.json --dataset_version=v0.5\n",
      "python -m neuraldb.commands.t5train2 --output_dir /checkpoint/jth/job_staging/neuraldb_expts/experiment=oracle_concat/dataset=ndb,model=t5-base,oracle=true,version=v0.5/lr=0.0005/context=100,filters=null,max_queries=null/seed-4 --model_name_or_path t5-base --do_predict --train_batch_size 8 --eval_batch_size 8 --n_gpu 2 --oracle --train_path=v0.5/train_queries_last_100.json --val_path=v0.5/dev_queries_last_100.json --test_path=v0.5/dev_queries_last_100.json --dataset_version=v0.5\n",
      "python -m neuraldb.commands.t5train2 --output_dir /checkpoint/jth/job_staging/neuraldb_expts/experiment=oracle_concat/dataset=ndb,model=t5-base,oracle=true,version=v0.5/lr=0.0005/context=100,filters=null,max_queries=null/seed-5 --model_name_or_path t5-base --do_predict --train_batch_size 8 --eval_batch_size 8 --n_gpu 2 --oracle --train_path=v0.5/train_queries_last_100.json --val_path=v0.5/dev_queries_last_100.json --test_path=v0.5/dev_queries_last_100.json --dataset_version=v0.5\n",
      "python -m neuraldb.commands.t5train2 --output_dir /checkpoint/jth/job_staging/neuraldb_expts/experiment=oracle_concat/dataset=ndb,model=t5-base,oracle=true,version=v0.5/lr=0.0005/context=100,filters=null,max_queries=null/seed-1 --model_name_or_path t5-base --do_predict --train_batch_size 8 --eval_batch_size 8 --n_gpu 2 --oracle --train_path=v0.5/train_queries_last_100.json --val_path=v0.5/dev_queries_last_100.json --test_path=v0.5/dev_queries_last_100.json --dataset_version=v0.5\n",
      "python -m neuraldb.commands.t5train2 --output_dir /checkpoint/jth/job_staging/neuraldb_expts/experiment=oracle_concat/dataset=ndb,model=t5-base,oracle=true,version=v0.5/lr=0.0005/context=100,filters=null,max_queries=null/seed-2 --model_name_or_path t5-base --do_predict --train_batch_size 8 --eval_batch_size 8 --n_gpu 2 --oracle --train_path=v0.5/train_queries_last_100.json --val_path=v0.5/dev_queries_last_100.json --test_path=v0.5/dev_queries_last_100.json --dataset_version=v0.5\n",
      "python -m neuraldb.commands.t5train2 --output_dir /checkpoint/jth/job_staging/neuraldb_expts/experiment=oracle_concat/dataset=ndb,model=t5-base,oracle=true,version=v0.5/lr=0.0008/context=50,filters=null,max_queries=null/seed-5 --model_name_or_path t5-base --do_predict --train_batch_size 8 --eval_batch_size 8 --n_gpu 2 --oracle --train_path=v0.5/train_queries_last_50.json --val_path=v0.5/dev_queries_last_50.json --test_path=v0.5/dev_queries_last_50.json --dataset_version=v0.5\n",
      "python -m neuraldb.commands.t5train2 --output_dir /checkpoint/jth/job_staging/neuraldb_expts/experiment=oracle_concat/dataset=ndb,model=t5-base,oracle=true,version=v0.5/lr=0.0008/context=50,filters=null,max_queries=null/seed-2 --model_name_or_path t5-base --do_predict --train_batch_size 8 --eval_batch_size 8 --n_gpu 2 --oracle --train_path=v0.5/train_queries_last_50.json --val_path=v0.5/dev_queries_last_50.json --test_path=v0.5/dev_queries_last_50.json --dataset_version=v0.5\n",
      "python -m neuraldb.commands.t5train2 --output_dir /checkpoint/jth/job_staging/neuraldb_expts/experiment=oracle_concat/dataset=ndb,model=t5-base,oracle=true,version=v0.5/lr=0.0008/context=50,filters=null,max_queries=null/seed-1 --model_name_or_path t5-base --do_predict --train_batch_size 8 --eval_batch_size 8 --n_gpu 2 --oracle --train_path=v0.5/train_queries_last_50.json --val_path=v0.5/dev_queries_last_50.json --test_path=v0.5/dev_queries_last_50.json --dataset_version=v0.5\n",
      "python -m neuraldb.commands.t5train2 --output_dir /checkpoint/jth/job_staging/neuraldb_expts/experiment=oracle_concat/dataset=ndb,model=t5-base,oracle=true,version=v0.5/lr=0.0008/context=50,filters=null,max_queries=null/seed-3 --model_name_or_path t5-base --do_predict --train_batch_size 8 --eval_batch_size 8 --n_gpu 2 --oracle --train_path=v0.5/train_queries_last_50.json --val_path=v0.5/dev_queries_last_50.json --test_path=v0.5/dev_queries_last_50.json --dataset_version=v0.5\n",
      "python -m neuraldb.commands.t5train2 --output_dir /checkpoint/jth/job_staging/neuraldb_expts/experiment=oracle_concat/dataset=ndb,model=t5-base,oracle=true,version=v0.5/lr=0.0008/context=50,filters=null,max_queries=null/seed-4 --model_name_or_path t5-base --do_predict --train_batch_size 8 --eval_batch_size 8 --n_gpu 2 --oracle --train_path=v0.5/train_queries_last_50.json --val_path=v0.5/dev_queries_last_50.json --test_path=v0.5/dev_queries_last_50.json --dataset_version=v0.5\n",
      "python -m neuraldb.commands.t5train2 --output_dir /checkpoint/jth/job_staging/neuraldb_expts/experiment=oracle_concat/dataset=ndb,model=t5-base,oracle=true,version=v0.5/lr=0.0008/context=100,filters=null,max_queries=null/seed-3 --model_name_or_path t5-base --do_predict --train_batch_size 8 --eval_batch_size 8 --n_gpu 2 --oracle --train_path=v0.5/train_queries_last_100.json --val_path=v0.5/dev_queries_last_100.json --test_path=v0.5/dev_queries_last_100.json --dataset_version=v0.5\n",
      "python -m neuraldb.commands.t5train2 --output_dir /checkpoint/jth/job_staging/neuraldb_expts/experiment=oracle_concat/dataset=ndb,model=t5-base,oracle=true,version=v0.5/lr=0.0008/context=100,filters=null,max_queries=null/seed-5 --model_name_or_path t5-base --do_predict --train_batch_size 8 --eval_batch_size 8 --n_gpu 2 --oracle --train_path=v0.5/train_queries_last_100.json --val_path=v0.5/dev_queries_last_100.json --test_path=v0.5/dev_queries_last_100.json --dataset_version=v0.5\n",
      "python -m neuraldb.commands.t5train2 --output_dir /checkpoint/jth/job_staging/neuraldb_expts/experiment=oracle_concat/dataset=ndb,model=t5-base,oracle=true,version=v0.5/lr=0.0008/context=100,filters=null,max_queries=null/seed-1 --model_name_or_path t5-base --do_predict --train_batch_size 8 --eval_batch_size 8 --n_gpu 2 --oracle --train_path=v0.5/train_queries_last_100.json --val_path=v0.5/dev_queries_last_100.json --test_path=v0.5/dev_queries_last_100.json --dataset_version=v0.5\n",
      "python -m neuraldb.commands.t5train2 --output_dir /checkpoint/jth/job_staging/neuraldb_expts/experiment=oracle_concat/dataset=ndb,model=t5-base,oracle=true,version=v0.5/lr=0.0008/context=100,filters=null,max_queries=null/seed-2 --model_name_or_path t5-base --do_predict --train_batch_size 8 --eval_batch_size 8 --n_gpu 2 --oracle --train_path=v0.5/train_queries_last_100.json --val_path=v0.5/dev_queries_last_100.json --test_path=v0.5/dev_queries_last_100.json --dataset_version=v0.5\n",
      "python -m neuraldb.commands.t5train2 --output_dir /checkpoint/jth/job_staging/neuraldb_expts/experiment=oracle_concat/dataset=ndb,model=t5-base,oracle=true,version=v0.5/lr=0.0008/context=100,filters=null,max_queries=null/seed-4 --model_name_or_path t5-base --do_predict --train_batch_size 8 --eval_batch_size 8 --n_gpu 2 --oracle --train_path=v0.5/train_queries_last_100.json --val_path=v0.5/dev_queries_last_100.json --test_path=v0.5/dev_queries_last_100.json --dataset_version=v0.5\n",
      "python -m neuraldb.commands.t5train2_fusion --output_dir /checkpoint/jth/job_staging/neuraldb_expts/experiment=oracle_fusion/dataset=ndb,model=t5-base,retrieval=oracle,version=v0.5/lr=0.00008,filter_size=12/context=50/seed-2 --model_name_or_path t5-base --do_predict --train_batch_size 8 --eval_batch_size 8 --n_gpu 2 --oracle --train_path=v0.5/train_queries_last_50.json --val_path=v0.5/dev_queries_last_50.json --test_path=v0.5/dev_queries_last_50.json --dataset_version=v0.5\n",
      "python -m neuraldb.commands.t5train2_fusion --output_dir /checkpoint/jth/job_staging/neuraldb_expts/experiment=oracle_fusion/dataset=ndb,model=t5-base,retrieval=oracle,version=v0.5/lr=0.00008,filter_size=12/context=50/seed-3 --model_name_or_path t5-base --do_predict --train_batch_size 8 --eval_batch_size 8 --n_gpu 2 --oracle --train_path=v0.5/train_queries_last_50.json --val_path=v0.5/dev_queries_last_50.json --test_path=v0.5/dev_queries_last_50.json --dataset_version=v0.5\n",
      "python -m neuraldb.commands.t5train2_fusion --output_dir /checkpoint/jth/job_staging/neuraldb_expts/experiment=oracle_fusion/dataset=ndb,model=t5-base,retrieval=oracle,version=v0.5/lr=0.00008,filter_size=12/context=50/seed-1 --model_name_or_path t5-base --do_predict --train_batch_size 8 --eval_batch_size 8 --n_gpu 2 --oracle --train_path=v0.5/train_queries_last_50.json --val_path=v0.5/dev_queries_last_50.json --test_path=v0.5/dev_queries_last_50.json --dataset_version=v0.5\n",
      "python -m neuraldb.commands.t5train2_fusion --output_dir /checkpoint/jth/job_staging/neuraldb_expts/experiment=oracle_fusion/dataset=ndb,model=t5-base,retrieval=oracle,version=v0.5/lr=0.00008,filter_size=12/context=50/seed-4 --model_name_or_path t5-base --do_predict --train_batch_size 8 --eval_batch_size 8 --n_gpu 2 --oracle --train_path=v0.5/train_queries_last_50.json --val_path=v0.5/dev_queries_last_50.json --test_path=v0.5/dev_queries_last_50.json --dataset_version=v0.5\n",
      "python -m neuraldb.commands.t5train2_fusion --output_dir /checkpoint/jth/job_staging/neuraldb_expts/experiment=oracle_fusion/dataset=ndb,model=t5-base,retrieval=oracle,version=v0.5/lr=0.00008,filter_size=12/context=50/seed-5 --model_name_or_path t5-base --do_predict --train_batch_size 8 --eval_batch_size 8 --n_gpu 2 --oracle --train_path=v0.5/train_queries_last_50.json --val_path=v0.5/dev_queries_last_50.json --test_path=v0.5/dev_queries_last_50.json --dataset_version=v0.5\n",
      "python -m neuraldb.commands.t5train2_fusion --output_dir /checkpoint/jth/job_staging/neuraldb_expts/experiment=oracle_fusion/dataset=ndb,model=t5-base,retrieval=oracle,version=v0.5/lr=0.00008,filter_size=12/context=100/seed-2 --model_name_or_path t5-base --do_predict --train_batch_size 8 --eval_batch_size 8 --n_gpu 2 --oracle --train_path=v0.5/train_queries_last_100.json --val_path=v0.5/dev_queries_last_100.json --test_path=v0.5/dev_queries_last_100.json --dataset_version=v0.5\n",
      "python -m neuraldb.commands.t5train2_fusion --output_dir /checkpoint/jth/job_staging/neuraldb_expts/experiment=oracle_fusion/dataset=ndb,model=t5-base,retrieval=oracle,version=v0.5/lr=0.00008,filter_size=12/context=100/seed-5 --model_name_or_path t5-base --do_predict --train_batch_size 8 --eval_batch_size 8 --n_gpu 2 --oracle --train_path=v0.5/train_queries_last_100.json --val_path=v0.5/dev_queries_last_100.json --test_path=v0.5/dev_queries_last_100.json --dataset_version=v0.5\n",
      "python -m neuraldb.commands.t5train2_fusion --output_dir /checkpoint/jth/job_staging/neuraldb_expts/experiment=oracle_fusion/dataset=ndb,model=t5-base,retrieval=oracle,version=v0.5/lr=0.00008,filter_size=12/context=100/seed-4 --model_name_or_path t5-base --do_predict --train_batch_size 8 --eval_batch_size 8 --n_gpu 2 --oracle --train_path=v0.5/train_queries_last_100.json --val_path=v0.5/dev_queries_last_100.json --test_path=v0.5/dev_queries_last_100.json --dataset_version=v0.5\n",
      "python -m neuraldb.commands.t5train2_fusion --output_dir /checkpoint/jth/job_staging/neuraldb_expts/experiment=oracle_fusion/dataset=ndb,model=t5-base,retrieval=oracle,version=v0.5/lr=0.00008,filter_size=12/context=100/seed-1 --model_name_or_path t5-base --do_predict --train_batch_size 8 --eval_batch_size 8 --n_gpu 2 --oracle --train_path=v0.5/train_queries_last_100.json --val_path=v0.5/dev_queries_last_100.json --test_path=v0.5/dev_queries_last_100.json --dataset_version=v0.5\n",
      "python -m neuraldb.commands.t5train2_fusion --output_dir /checkpoint/jth/job_staging/neuraldb_expts/experiment=oracle_fusion/dataset=ndb,model=t5-base,retrieval=oracle,version=v0.5/lr=0.00008,filter_size=12/context=100/seed-3 --model_name_or_path t5-base --do_predict --train_batch_size 8 --eval_batch_size 8 --n_gpu 2 --oracle --train_path=v0.5/train_queries_last_100.json --val_path=v0.5/dev_queries_last_100.json --test_path=v0.5/dev_queries_last_100.json --dataset_version=v0.5\n",
      "python -m neuraldb.commands.t5train2_fusion --output_dir /checkpoint/jth/job_staging/neuraldb_expts/experiment=oracle_fusion/dataset=ndb,model=t5-base,retrieval=oracle,version=v0.5/lr=0.0005,filter_size=12/context=100/seed-5 --model_name_or_path t5-base --do_predict --train_batch_size 8 --eval_batch_size 8 --n_gpu 2 --oracle --train_path=v0.5/train_queries_last_100.json --val_path=v0.5/dev_queries_last_100.json --test_path=v0.5/dev_queries_last_100.json --dataset_version=v0.5\n",
      "python -m neuraldb.commands.t5train2_fusion --output_dir /checkpoint/jth/job_staging/neuraldb_expts/experiment=oracle_fusion/dataset=ndb,model=t5-base,retrieval=oracle,version=v0.5/lr=0.0005,filter_size=12/context=100/seed-4 --model_name_or_path t5-base --do_predict --train_batch_size 8 --eval_batch_size 8 --n_gpu 2 --oracle --train_path=v0.5/train_queries_last_100.json --val_path=v0.5/dev_queries_last_100.json --test_path=v0.5/dev_queries_last_100.json --dataset_version=v0.5\n",
      "python -m neuraldb.commands.t5train2_fusion --output_dir /checkpoint/jth/job_staging/neuraldb_expts/experiment=oracle_fusion/dataset=ndb,model=t5-base,retrieval=oracle,version=v0.5/lr=0.0005,filter_size=12/context=100/seed-2 --model_name_or_path t5-base --do_predict --train_batch_size 8 --eval_batch_size 8 --n_gpu 2 --oracle --train_path=v0.5/train_queries_last_100.json --val_path=v0.5/dev_queries_last_100.json --test_path=v0.5/dev_queries_last_100.json --dataset_version=v0.5\n",
      "python -m neuraldb.commands.t5train2_fusion --output_dir /checkpoint/jth/job_staging/neuraldb_expts/experiment=oracle_fusion/dataset=ndb,model=t5-base,retrieval=oracle,version=v0.5/lr=0.0005,filter_size=12/context=100/seed-1 --model_name_or_path t5-base --do_predict --train_batch_size 8 --eval_batch_size 8 --n_gpu 2 --oracle --train_path=v0.5/train_queries_last_100.json --val_path=v0.5/dev_queries_last_100.json --test_path=v0.5/dev_queries_last_100.json --dataset_version=v0.5\n",
      "python -m neuraldb.commands.t5train2_fusion --output_dir /checkpoint/jth/job_staging/neuraldb_expts/experiment=oracle_fusion/dataset=ndb,model=t5-base,retrieval=oracle,version=v0.5/lr=0.0005,filter_size=12/context=100/seed-3 --model_name_or_path t5-base --do_predict --train_batch_size 8 --eval_batch_size 8 --n_gpu 2 --oracle --train_path=v0.5/train_queries_last_100.json --val_path=v0.5/dev_queries_last_100.json --test_path=v0.5/dev_queries_last_100.json --dataset_version=v0.5\n",
      "python -m neuraldb.commands.t5train2_fusion --output_dir /checkpoint/jth/job_staging/neuraldb_expts/experiment=oracle_fusion/dataset=ndb,model=t5-base,retrieval=oracle,version=v0.5/lr=0.0005,filter_size=12/context=50/seed-1 --model_name_or_path t5-base --do_predict --train_batch_size 8 --eval_batch_size 8 --n_gpu 2 --oracle --train_path=v0.5/train_queries_last_50.json --val_path=v0.5/dev_queries_last_50.json --test_path=v0.5/dev_queries_last_50.json --dataset_version=v0.5\n",
      "python -m neuraldb.commands.t5train2_fusion --output_dir /checkpoint/jth/job_staging/neuraldb_expts/experiment=oracle_fusion/dataset=ndb,model=t5-base,retrieval=oracle,version=v0.5/lr=0.0005,filter_size=12/context=50/seed-2 --model_name_or_path t5-base --do_predict --train_batch_size 8 --eval_batch_size 8 --n_gpu 2 --oracle --train_path=v0.5/train_queries_last_50.json --val_path=v0.5/dev_queries_last_50.json --test_path=v0.5/dev_queries_last_50.json --dataset_version=v0.5\n",
      "python -m neuraldb.commands.t5train2_fusion --output_dir /checkpoint/jth/job_staging/neuraldb_expts/experiment=oracle_fusion/dataset=ndb,model=t5-base,retrieval=oracle,version=v0.5/lr=0.0005,filter_size=12/context=50/seed-4 --model_name_or_path t5-base --do_predict --train_batch_size 8 --eval_batch_size 8 --n_gpu 2 --oracle --train_path=v0.5/train_queries_last_50.json --val_path=v0.5/dev_queries_last_50.json --test_path=v0.5/dev_queries_last_50.json --dataset_version=v0.5\n",
      "python -m neuraldb.commands.t5train2_fusion --output_dir /checkpoint/jth/job_staging/neuraldb_expts/experiment=oracle_fusion/dataset=ndb,model=t5-base,retrieval=oracle,version=v0.5/lr=0.0005,filter_size=12/context=50/seed-5 --model_name_or_path t5-base --do_predict --train_batch_size 8 --eval_batch_size 8 --n_gpu 2 --oracle --train_path=v0.5/train_queries_last_50.json --val_path=v0.5/dev_queries_last_50.json --test_path=v0.5/dev_queries_last_50.json --dataset_version=v0.5\n",
      "python -m neuraldb.commands.t5train2_fusion --output_dir /checkpoint/jth/job_staging/neuraldb_expts/experiment=oracle_fusion/dataset=ndb,model=t5-base,retrieval=oracle,version=v0.5/lr=0.0005,filter_size=12/context=50/seed-3 --model_name_or_path t5-base --do_predict --train_batch_size 8 --eval_batch_size 8 --n_gpu 2 --oracle --train_path=v0.5/train_queries_last_50.json --val_path=v0.5/dev_queries_last_50.json --test_path=v0.5/dev_queries_last_50.json --dataset_version=v0.5\n"
     ]
    }
   ],
   "source": [
    "for exp in experiments:\n",
    "    version = exp[\"version\"]\n",
    "\n",
    "    if version != \"v0.5\":\n",
    "        continue\n",
    "\n",
    "    module = \"neuraldb.commands.t5train2\" if \"fusion\" not in exp[\"file\"] else \"neuraldb.commands.t5train2_fusion\"\n",
    "\n",
    "    print(\"python -m {} \"\n",
    "          \"--output_dir {} \"\n",
    "          \"--model_name_or_path t5-base \"\n",
    "          \"--do_predict \"\n",
    "          \"--train_batch_size 8 \"\n",
    "          \"--eval_batch_size 8 \"\n",
    "          \"--n_gpu 2 \"\n",
    "          \"--oracle \"\n",
    "          \"--train_path={}/train_queries_last_{}.json \"\n",
    "          \"--val_path={}/dev_queries_last_{}.json \"\n",
    "          \"--test_path={}/dev_queries_last_{}.json \"\n",
    "          \"--dataset_version={}\".format(module, exp['dir'],version,exp['context'],version,exp['context'],version,exp['context'],version))\n",
    "\n"
   ],
   "metadata": {
    "collapsed": false,
    "pycharm": {
     "name": "#%%\n"
    }
   }
  }
 ],
 "metadata": {
  "kernelspec": {
   "name": "neuraldb",
   "language": "python",
   "display_name": "neuraldb"
  },
  "language_info": {
   "codemirror_mode": {
    "name": "ipython",
    "version": 2
   },
   "file_extension": ".py",
   "mimetype": "text/x-python",
   "name": "python",
   "nbconvert_exporter": "python",
   "pygments_lexer": "ipython2",
   "version": "2.7.6"
  }
 },
 "nbformat": 4,
 "nbformat_minor": 0
}