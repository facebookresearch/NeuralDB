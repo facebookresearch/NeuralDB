{
 "cells": [
  {
   "cell_type": "code",
   "execution_count": 1,
   "metadata": {
    "collapsed": true
   },
   "outputs": [],
   "source": [
    "import itertools\n",
    "import operator\n",
    "import sys\n",
    "import os\n",
    "sys.path.append(\"../src\")\n",
    "from glob import glob"
   ]
  },
  {
   "cell_type": "code",
   "execution_count": 2,
   "outputs": [
    {
     "name": "stdout",
     "output_type": "stream",
     "text": [
      "666\n"
     ]
    }
   ],
   "source": [
    "search_root = \"/checkpoint/jth/job_staging/neuraldb_expts/experiment=operator_sweep/\"\n",
    "checkpoint_name = \"best_em.ckpt\"\n",
    "files = glob(\"{}/**/{}\".format(search_root,checkpoint_name), recursive=True)\n",
    "\n",
    "\n",
    "print(len(files))"
   ],
   "metadata": {
    "collapsed": false,
    "pycharm": {
     "name": "#%%\n"
    }
   }
  },
  {
   "cell_type": "code",
   "execution_count": 7,
   "outputs": [
    {
     "name": "stdout",
     "output_type": "stream",
     "text": [
      "15\n"
     ]
    }
   ],
   "source": [
    "def expand(idx,chunk):\n",
    "\n",
    "  #elif idx == 1:\n",
    "  #  return [\"experiment={}\".format(chunk)]\n",
    "  if chunk.startswith(\"seed-\"):\n",
    "    return [\"seed={}\".format(chunk.replace(\"seed-\",\"\"))]\n",
    "  elif \",\" in chunk:\n",
    "    return chunk.split(\",\")\n",
    "  elif \"=\" in chunk:\n",
    "    return [chunk]\n",
    "  return []\n",
    "\n",
    "\n",
    "experiments = []\n",
    "for file in files:\n",
    "    chunks = file.replace(search_root,\"\").split(\"/\")\n",
    "    chunks = itertools.chain(*[expand(idx, chunk) for idx, chunk in enumerate(chunks)])\n",
    "\n",
    "    data = {k:v for k,v in (chunk.split(\"=\") for chunk in chunks)}\n",
    "    data[\"file\"] = file\n",
    "    data['dir'] = os.path.dirname(file)\n",
    "    if \"rand\" in data[\"model\"] and data[\"version\"] in [\"v1.1.4\"] and data[\"train_percentage\"] == \"1.0\":\n",
    "        experiments.append(data)\n",
    "\n",
    "\n",
    "print(len(experiments))"
   ],
   "metadata": {
    "collapsed": false,
    "pycharm": {
     "name": "#%%\n"
    }
   }
  },
  {
   "cell_type": "code",
   "execution_count": 8,
   "outputs": [
    {
     "name": "stdout",
     "output_type": "stream",
     "text": [
      "python -m neuraldb.commands.t5train2_operator --output_dir /checkpoint/jth/job_staging/neuraldb_expts/experiment=operator_sweep/dataset=operator,model=t5-base-rand,version=v1.1.4/lr=8e-6/filters=null,train_percentage=1.0/seed-1 --model_name_or_path t5-base --do_predict --eval_batch_size 128 --n_gpu 4 --test_name metrics_test.jsonl --train_path=v1.1.4/generated_clean_train.jsonl --val_path=v1.1.4/generated_clean_val.jsonl --test_path=v1.1.4/generated_clean_test.jsonl \n",
      "python -m neuraldb.commands.t5train2_operator --output_dir /checkpoint/jth/job_staging/neuraldb_expts/experiment=operator_sweep/dataset=operator,model=t5-base-rand,version=v1.1.4/lr=8e-6/filters=null,train_percentage=1.0/seed-2 --model_name_or_path t5-base --do_predict --eval_batch_size 128 --n_gpu 4 --test_name metrics_test.jsonl --train_path=v1.1.4/generated_clean_train.jsonl --val_path=v1.1.4/generated_clean_val.jsonl --test_path=v1.1.4/generated_clean_test.jsonl \n",
      "python -m neuraldb.commands.t5train2_operator --output_dir /checkpoint/jth/job_staging/neuraldb_expts/experiment=operator_sweep/dataset=operator,model=t5-base-rand,version=v1.1.4/lr=8e-6/filters=null,train_percentage=1.0/seed-3 --model_name_or_path t5-base --do_predict --eval_batch_size 128 --n_gpu 4 --test_name metrics_test.jsonl --train_path=v1.1.4/generated_clean_train.jsonl --val_path=v1.1.4/generated_clean_val.jsonl --test_path=v1.1.4/generated_clean_test.jsonl \n",
      "python -m neuraldb.commands.t5train2_operator --output_dir /checkpoint/jth/job_staging/neuraldb_expts/experiment=operator_sweep/dataset=operator,model=t5-base-rand,version=v1.1.4/lr=8e-6/filters=null,train_percentage=1.0/seed-4 --model_name_or_path t5-base --do_predict --eval_batch_size 128 --n_gpu 4 --test_name metrics_test.jsonl --train_path=v1.1.4/generated_clean_train.jsonl --val_path=v1.1.4/generated_clean_val.jsonl --test_path=v1.1.4/generated_clean_test.jsonl \n",
      "python -m neuraldb.commands.t5train2_operator --output_dir /checkpoint/jth/job_staging/neuraldb_expts/experiment=operator_sweep/dataset=operator,model=t5-base-rand,version=v1.1.4/lr=8e-6/filters=null,train_percentage=1.0/seed-5 --model_name_or_path t5-base --do_predict --eval_batch_size 128 --n_gpu 4 --test_name metrics_test.jsonl --train_path=v1.1.4/generated_clean_train.jsonl --val_path=v1.1.4/generated_clean_val.jsonl --test_path=v1.1.4/generated_clean_test.jsonl \n",
      "python -m neuraldb.commands.t5train2_operator --output_dir /checkpoint/jth/job_staging/neuraldb_expts/experiment=operator_sweep/dataset=operator,model=t5-base-rand,version=v1.1.4/lr=8e-5/filters=null,train_percentage=1.0/seed-1 --model_name_or_path t5-base --do_predict --eval_batch_size 128 --n_gpu 4 --test_name metrics_test.jsonl --train_path=v1.1.4/generated_clean_train.jsonl --val_path=v1.1.4/generated_clean_val.jsonl --test_path=v1.1.4/generated_clean_test.jsonl \n",
      "python -m neuraldb.commands.t5train2_operator --output_dir /checkpoint/jth/job_staging/neuraldb_expts/experiment=operator_sweep/dataset=operator,model=t5-base-rand,version=v1.1.4/lr=8e-5/filters=null,train_percentage=1.0/seed-2 --model_name_or_path t5-base --do_predict --eval_batch_size 128 --n_gpu 4 --test_name metrics_test.jsonl --train_path=v1.1.4/generated_clean_train.jsonl --val_path=v1.1.4/generated_clean_val.jsonl --test_path=v1.1.4/generated_clean_test.jsonl \n",
      "python -m neuraldb.commands.t5train2_operator --output_dir /checkpoint/jth/job_staging/neuraldb_expts/experiment=operator_sweep/dataset=operator,model=t5-base-rand,version=v1.1.4/lr=8e-5/filters=null,train_percentage=1.0/seed-4 --model_name_or_path t5-base --do_predict --eval_batch_size 128 --n_gpu 4 --test_name metrics_test.jsonl --train_path=v1.1.4/generated_clean_train.jsonl --val_path=v1.1.4/generated_clean_val.jsonl --test_path=v1.1.4/generated_clean_test.jsonl \n",
      "python -m neuraldb.commands.t5train2_operator --output_dir /checkpoint/jth/job_staging/neuraldb_expts/experiment=operator_sweep/dataset=operator,model=t5-base-rand,version=v1.1.4/lr=8e-5/filters=null,train_percentage=1.0/seed-3 --model_name_or_path t5-base --do_predict --eval_batch_size 128 --n_gpu 4 --test_name metrics_test.jsonl --train_path=v1.1.4/generated_clean_train.jsonl --val_path=v1.1.4/generated_clean_val.jsonl --test_path=v1.1.4/generated_clean_test.jsonl \n",
      "python -m neuraldb.commands.t5train2_operator --output_dir /checkpoint/jth/job_staging/neuraldb_expts/experiment=operator_sweep/dataset=operator,model=t5-base-rand,version=v1.1.4/lr=8e-5/filters=null,train_percentage=1.0/seed-5 --model_name_or_path t5-base --do_predict --eval_batch_size 128 --n_gpu 4 --test_name metrics_test.jsonl --train_path=v1.1.4/generated_clean_train.jsonl --val_path=v1.1.4/generated_clean_val.jsonl --test_path=v1.1.4/generated_clean_test.jsonl \n",
      "python -m neuraldb.commands.t5train2_operator --output_dir /checkpoint/jth/job_staging/neuraldb_expts/experiment=operator_sweep/dataset=operator,model=t5-base-rand,version=v1.1.4/lr=8e-4/filters=null,train_percentage=1.0/seed-1 --model_name_or_path t5-base --do_predict --eval_batch_size 128 --n_gpu 4 --test_name metrics_test.jsonl --train_path=v1.1.4/generated_clean_train.jsonl --val_path=v1.1.4/generated_clean_val.jsonl --test_path=v1.1.4/generated_clean_test.jsonl \n",
      "python -m neuraldb.commands.t5train2_operator --output_dir /checkpoint/jth/job_staging/neuraldb_expts/experiment=operator_sweep/dataset=operator,model=t5-base-rand,version=v1.1.4/lr=8e-4/filters=null,train_percentage=1.0/seed-2 --model_name_or_path t5-base --do_predict --eval_batch_size 128 --n_gpu 4 --test_name metrics_test.jsonl --train_path=v1.1.4/generated_clean_train.jsonl --val_path=v1.1.4/generated_clean_val.jsonl --test_path=v1.1.4/generated_clean_test.jsonl \n",
      "python -m neuraldb.commands.t5train2_operator --output_dir /checkpoint/jth/job_staging/neuraldb_expts/experiment=operator_sweep/dataset=operator,model=t5-base-rand,version=v1.1.4/lr=8e-4/filters=null,train_percentage=1.0/seed-3 --model_name_or_path t5-base --do_predict --eval_batch_size 128 --n_gpu 4 --test_name metrics_test.jsonl --train_path=v1.1.4/generated_clean_train.jsonl --val_path=v1.1.4/generated_clean_val.jsonl --test_path=v1.1.4/generated_clean_test.jsonl \n",
      "python -m neuraldb.commands.t5train2_operator --output_dir /checkpoint/jth/job_staging/neuraldb_expts/experiment=operator_sweep/dataset=operator,model=t5-base-rand,version=v1.1.4/lr=8e-4/filters=null,train_percentage=1.0/seed-4 --model_name_or_path t5-base --do_predict --eval_batch_size 128 --n_gpu 4 --test_name metrics_test.jsonl --train_path=v1.1.4/generated_clean_train.jsonl --val_path=v1.1.4/generated_clean_val.jsonl --test_path=v1.1.4/generated_clean_test.jsonl \n",
      "python -m neuraldb.commands.t5train2_operator --output_dir /checkpoint/jth/job_staging/neuraldb_expts/experiment=operator_sweep/dataset=operator,model=t5-base-rand,version=v1.1.4/lr=8e-4/filters=null,train_percentage=1.0/seed-5 --model_name_or_path t5-base --do_predict --eval_batch_size 128 --n_gpu 4 --test_name metrics_test.jsonl --train_path=v1.1.4/generated_clean_train.jsonl --val_path=v1.1.4/generated_clean_val.jsonl --test_path=v1.1.4/generated_clean_test.jsonl \n"
     ]
    }
   ],
   "source": [
    "for exp in experiments:\n",
    "    version = \"v1.1.4\"\n",
    "    print(\"python -m neuraldb.commands.t5train2_operator \"\n",
    "          \"--output_dir {} \"\n",
    "          \"--model_name_or_path t5-base \"\n",
    "          \"--do_predict \"\n",
    "          \"--eval_batch_size 128 \"\n",
    "          \"--n_gpu 4 \"\n",
    "          \"--test_name metrics_test.jsonl \"\n",
    "          \"--train_path={}/generated_clean_train.jsonl \"\n",
    "          \"--val_path={}/generated_clean_val.jsonl \"\n",
    "          \"--test_path={}/generated_clean_test.jsonl \"\n",
    "          .format(exp['dir'],version,version,version))\n",
    "\n"
   ],
   "metadata": {
    "collapsed": false,
    "pycharm": {
     "name": "#%%\n"
    }
   }
  }
 ],
 "metadata": {
  "kernelspec": {
   "name": "neuraldb",
   "language": "python",
   "display_name": "neuraldb"
  },
  "language_info": {
   "codemirror_mode": {
    "name": "ipython",
    "version": 2
   },
   "file_extension": ".py",
   "mimetype": "text/x-python",
   "name": "python",
   "nbconvert_exporter": "python",
   "pygments_lexer": "ipython2",
   "version": "2.7.6"
  }
 },
 "nbformat": 4,
 "nbformat_minor": 0
}