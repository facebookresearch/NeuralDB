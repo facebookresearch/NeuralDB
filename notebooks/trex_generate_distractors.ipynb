{
 "cells": [
  {
   "cell_type": "code",
   "execution_count": 96,
   "metadata": {
    "collapsed": true
   },
   "outputs": [],
   "source": [
    "import json\n",
    "import os\n",
    "from collections import Counter, defaultdict\n",
    "\n"
   ]
  },
  {
   "cell_type": "code",
   "execution_count": 80,
   "outputs": [],
   "source": [
    "from functools import lru_cache\n",
    "from tqdm.notebook import tqdm\n",
    "with open(\"../trex/re-nlg_0-10000.json\") as f:\n",
    "    trex = json.load(f)"
   ],
   "metadata": {
    "collapsed": false,
    "pycharm": {
     "name": "#%%\n"
    }
   }
  },
  {
   "cell_type": "code",
   "execution_count": null,
   "outputs": [
    {
     "data": {
      "text/plain": "HBox(children=(FloatProgress(value=1.0, bar_style='info', max=1.0), HTML(value='')))",
      "application/vnd.jupyter.widget-view+json": {
       "version_major": 2,
       "version_minor": 0,
       "model_id": "1554aa941e4547299fb0f0b220d4712a"
      }
     },
     "metadata": {},
     "output_type": "display_data"
    },
    {
     "name": "stderr",
     "output_type": "stream",
     "text": [
      "Wikidata redirect detected.  Input entity id=Q11707850. Returned entity id=Q3221083.\n",
      "Wikidata redirect detected.  Input entity id=Q3281788. Returned entity id=Q1367434.\n",
      "Wikidata redirect detected.  Input entity id=Q47250. Returned entity id=Q27477249.\n",
      "Wikidata redirect detected.  Input entity id=Q2455704. Returned entity id=Q164280.\n",
      "Wikidata redirect detected.  Input entity id=Q3745054. Returned entity id=Q1160573.\n",
      "Wikidata redirect detected.  Input entity id=Q2258363. Returned entity id=Q895060.\n",
      "Wikidata redirect detected.  Input entity id=Q5641. Returned entity id=Q3407658.\n",
      "Wikidata redirect detected.  Input entity id=Q152735. Returned entity id=Q16927441.\n",
      "Wikidata redirect detected.  Input entity id=Q5019589. Returned entity id=Q2507067.\n",
      "Wikidata redirect detected.  Input entity id=Q133226. Returned entity id=Q14763008.\n",
      "Wikidata redirect detected.  Input entity id=Q1379. Returned entity id=Q25550430.\n",
      "Wikidata redirect detected.  Input entity id=Q1079082. Returned entity id=Q380091.\n",
      "Wikidata redirect detected.  Input entity id=Q7593. Returned entity id=Q7715973.\n",
      "Wikidata redirect detected.  Input entity id=Q189842. Returned entity id=Q12391356.\n",
      "Wikidata redirect detected.  Input entity id=Q3752183. Returned entity id=Q3044818.\n",
      "Wikidata redirect detected.  Input entity id=Q28775. Returned entity id=Q12499775.\n",
      "Wikidata redirect detected.  Input entity id=Q190199. Returned entity id=Q29956617.\n",
      "Wikidata redirect detected.  Input entity id=Q79746. Returned entity id=Q12888135.\n",
      "Wikidata redirect detected.  Input entity id=Q39798. Returned entity id=Q7240673.\n",
      "Wikidata redirect detected.  Input entity id=Q14975330. Returned entity id=Q10564271.\n",
      "Wikidata redirect detected.  Input entity id=Q17060152. Returned entity id=Q2384313.\n",
      "Wikidata redirect detected.  Input entity id=Q7574915. Returned entity id=Q1391417.\n",
      "Wikidata redirect detected.  Input entity id=Q2725442. Returned entity id=Q1321845.\n"
     ]
    }
   ],
   "source": [
    "from qwikidata.entity import WikidataItem, WikidataLexeme, WikidataProperty\n",
    "from qwikidata.linked_data_interface import get_entity_dict_from_api\n",
    "prohibited_types = {\n",
    "    \"Q5\",\n",
    "    \"Q3918\",\n",
    "    \"Q783794\",\n",
    "    \"Q2221906\"\n",
    "}\n",
    "\n",
    "@lru_cache(maxsize=1000000)\n",
    "def get_types_of_instance(instance_id):\n",
    "    if not instance_id.startswith(\"Q\"):\n",
    "        return prohibited_types\n",
    "\n",
    "    types = get_entity_dict_from_api(instance_id)\n",
    "\n",
    "    if \"claims\" in types and \"P31\" in types[\"claims\"]:\n",
    "        instance_of = types[\"claims\"][\"P31\"]\n",
    "        return {instance[\"mainsnak\"][\"datavalue\"][\"value\"][\"id\"] for instance in instance_of}\n",
    "    else:\n",
    "        return prohibited_types\n",
    "        \n",
    "        \n",
    "def contains_prohibited(triples):\n",
    "    for triple in triples:\n",
    "        subj_types = get_types_of_instance(triple[\"subject\"][\"uri\"].replace(\"http://www.wikidata.org/entity/\",\"\"))\n",
    "        obj_types = get_types_of_instance(triple[\"object\"][\"uri\"].replace(\"http://www.wikidata.org/entity/\",\"\"))\n",
    "\n",
    "        if any(t in prohibited_types for t in subj_types.union(obj_types)):\n",
    "            return True\n",
    "\n",
    "    return False\n",
    "\n",
    "def filter_distractor(i):\n",
    "    sentence_triples = defaultdict(list)\n",
    "\n",
    "    for trip in i['triples']:\n",
    "        sentence_triples[trip['sentence_id']].append(trip)\n",
    "\n",
    "    sentences = i[\"sentences_boundaries\"]\n",
    "    for sent_id,triples in sentence_triples.items():\n",
    "        if contains_prohibited(triples):\n",
    "            continue\n",
    "        else:\n",
    "            start,end = sentences[sent_id]\n",
    "            yield i[\"text\"][start:end]\n",
    "\n",
    "\n",
    "from multiprocessing.pool import ThreadPool\n",
    "\n",
    "distractor_sents = []\n",
    "\n",
    "def get_all(p):\n",
    "    pool = ThreadPool(processes=12)\n",
    "    pmap = pool.imap_unordered\n",
    "    for i in pmap(filter_distractor,p):\n",
    "        yield from i\n",
    "\n",
    "for sent in tqdm(filter(lambda i: i is not None, get_all(trex))):\n",
    "    distractor_sents.append(sent)"
   ],
   "metadata": {
    "collapsed": false,
    "pycharm": {
     "name": "#%%\n",
     "is_executing": true
    }
   }
  },
  {
   "cell_type": "code",
   "execution_count": 104,
   "outputs": [
    {
     "name": "stdout",
     "output_type": "stream",
     "text": [
      "11270\n",
      "The Austroasiatic languages, in recent classifications synonymous with Mon–Khmer, are a large language family of continental Southeast Asia, also scattered throughout India, Bangladesh, Nepal and the southern border of China.\n",
      "The name Austroasiatic comes from the Latin words for \"south\" and \"Asia\", hence \"South Asia\".\n",
      "Of these languages, only Vietnamese, Khmer, and Mon have a long-established recorded history, and only Vietnamese and Khmer have official status (in Vietnam and Cambodia, respectively).\n",
      "These form thirteen established families (plus perhaps Shompen, which is poorly attested, as a fourteenth), which have traditionally been grouped into two, as Mon–Khmer and Munda.\n",
      "However, one recent classification posits three groups (Munda, Nuclear Mon-Khmer and Khasi-Khmuic) while another has abandoned Mon–Khmer as a taxon altogether, making it synonymous with the larger family.\n",
      "In addition to mathematics and statistics, the arithmetic mean is used frequently in fields such as economics, sociology, and history, and it is used in almost every academic field to some extent.\n",
      "In philosophy and logic, an argument is an attempt to persuade someone of something, or give evidence or reasons for accepting a particular conclusion.\n",
      "Agricultural science is a broad multidisciplinary field of biology that encompasses the parts of exact, natural, economic and social sciences that are used in the practice and understanding of agriculture.\n",
      "The Arrhenius definition defines acids as substances which increase the concentration of hydrogen ions (H+), or more accurately, hydronium ions (H3O+), when dissolved in water.\n",
      "Apollo (Attic, Ionic, and Homeric Greek: Ἀπόλλων, Apollōn (Ἀπόλλωνος); Doric: Ἀπέλλων, Apellōn; Arcadocypriot: Ἀπείλων, Apeilōn; Aeolic: Ἄπλουν, Aploun; Latin: Apollō) is one of the most important and complex of the Olympian deities in classical Greek and Roman religion and Greek and Roman mythology.\n"
     ]
    }
   ],
   "source": [
    "print(len(distractor_sents))\n",
    "for a in distractor_sents[:10]:\n",
    "    print(a)\n",
    "\n",
    "with open(\"distractors.txt\",\"w+\") as f:\n",
    "    for line in distractor_sents:\n",
    "        f.write(line+\"\\n\")"
   ],
   "metadata": {
    "collapsed": false,
    "pycharm": {
     "name": "#%%\n"
    }
   }
  },
  {
   "cell_type": "code",
   "execution_count": 106,
   "outputs": [
    {
     "data": {
      "text/plain": "HBox(children=(FloatProgress(value=1.0, bar_style='info', max=1.0), HTML(value='')))",
      "application/vnd.jupyter.widget-view+json": {
       "version_major": 2,
       "version_minor": 0,
       "model_id": "6ba45c44ba6c46a197c0dd1e819706c6"
      }
     },
     "metadata": {},
     "output_type": "display_data"
    },
    {
     "name": "stdout",
     "output_type": "stream",
     "text": [
      "\n"
     ]
    }
   ],
   "source": [
    "def only_distractor(i):\n",
    "    sentence_triples = defaultdict(list)\n",
    "\n",
    "    for trip in i['triples']:\n",
    "        sentence_triples[trip['sentence_id']].append(trip)\n",
    "\n",
    "    sentences = i[\"sentences_boundaries\"]\n",
    "    for sent_id,triples in sentence_triples.items():\n",
    "        if not contains_prohibited(triples):\n",
    "            continue\n",
    "        else:\n",
    "            start,end = sentences[sent_id]\n",
    "            yield i[\"text\"][start:end]\n",
    "\n",
    "\n",
    "from multiprocessing.pool import ThreadPool\n",
    "\n",
    "similar_sents = []\n",
    "\n",
    "def get_all(p):\n",
    "    pool = ThreadPool(processes=12)\n",
    "    pmap = pool.imap_unordered\n",
    "    for i in pmap(only_distractor,p):\n",
    "        yield from i\n",
    "\n",
    "for sent in tqdm(filter(lambda i: i is not None, get_all(trex))):\n",
    "    similar_sents.append(sent)"
   ],
   "metadata": {
    "collapsed": false,
    "pycharm": {
     "name": "#%%\n"
    }
   }
  },
  {
   "cell_type": "code",
   "execution_count": 107,
   "outputs": [
    {
     "name": "stdout",
     "output_type": "stream",
     "text": [
      "11561\n",
      "The word was coined by the French philosopher Auguste Comte in French, as altruisme, for an antonym of egoism.\n",
      "For example, per capita income is the arithmetic average income of a nation's population.\n",
      "Alain Connes ([alɛ̃ kɔn]; born 1 April 1947) is a French mathematician, currently Professor at the Collège de France, IHÉS, The Ohio State University and Vanderbilt University.\n",
      "Ayn Rand (/ˈaɪn ˈrænd/; born Alisa Zinov'yevna Rosenbaum, Russian: Али́са Зино́вьевна Розенба́ум; February 2 [O.S.\n",
      "January 20] 1905 – March 6, 1982) was a Russian-born American novelist, philosopher, playwright, and screenwriter.\n",
      "She is known for her two best-selling novels, The Fountainhead (1943) and Atlas Shrugged (1957), and for developing a philosophical system she called Objectivism.\n",
      "Born and educated in Russia, Rand moved to the United States in 1926.\n",
      "After two early novels that were initially unsuccessful in America, she achieved fame with her 1943 novel, The Fountainhead.\n",
      "In 1957, she published her best-known work, the novel Atlas Shrugged.\n",
      "She was sharply critical of most philosophers and philosophical traditions known to her, except for Aristotle and some Aristotelians, and classical liberals.\n"
     ]
    }
   ],
   "source": [
    "print(len(similar_sents))\n",
    "for a in similar_sents[:10]:\n",
    "    print(a)\n",
    "\n",
    "with open(\"similar.txt\",\"w+\") as f:\n",
    "    for line in similar_sents:\n",
    "        f.write(line+\"\\n\")\n",
    "\n",
    "\n"
   ],
   "metadata": {
    "collapsed": false,
    "pycharm": {
     "name": "#%%\n"
    }
   }
  },
  {
   "cell_type": "code",
   "execution_count": 136,
   "outputs": [
    {
     "name": "stdout",
     "output_type": "stream",
     "text": [
      "defaultdict(<class 'set'>, {'Apple Inc. produces which items': {'iPhone', 'iPod', 'Apple Watch', 'iPad'}, 'Commodore produces which items': {'C64'}, 'Audi produces which items': {'automobile'}, 'gonads produces which items': {'sex hormones'}, 'Airbus produces which items': {'airliner'}, 'brewing produces which items': {'beer'}, 'breweries produces which items': {'beer'}, 'Brewing produces which items': {'beer'}, 'Volkswagen produces which items': {'automobile'}, 'Renault produces which items': {'automobile'}, 'Be Inc. produces which items': {'BeOS'}, 'Mandrakesoft produces which items': {'Mandriva Linux'}, 'Mandriva produces which items': {'Mandriva Linux', 'Mandrake Linux'}, 'Commodore Business Machines (CBM) produces which items': {'C64', 'C128'}, 'CBM produces which items': {'C64', 'C-64'}, 'Commodore International produces which items': {'C64', 'C-64', 'Commodore 64'}, 'Commodore 64 produces which items': {'C64', 'C-64'}, 'The Coca-Cola Company produces which items': {'It'}, 'cocoa mass produces which items': {'chocolate'}, 'Microsoft produces which items': {'Microsoft Office', 'Bing', 'Xbox', 'Microsoft Surface', 'MSN', 'Microsoft Windows operating system', '32-bit', 'Windows', 'Microsoft Windows'}, 'YouTube produces which items': {'video sharing', 'video-sharing'}, 'Lockheed produces which items': {'Lockheed F-117 Nighthawk'}, 'Google Search produces which items': {'search engine', 'web search engine'}, 'Google Web Search produces which items': {'web search engine'}, 'Google produces which items': {'Google Web Search', 'Google Search'}, 'Google Inc. produces which items': {'Google Web Search', 'Google Search'}, 'It produces which items': {'search engine', 'Microsoft Windows'}, 'Ixquick produces which items': {'search engine'}, 'Seagate produces which items': {'HDD'}, 'Haber process produces which items': {'NH3', 'ammonia'}, 'Haber–Bosch process produces which items': {'ammonia'}, 'AM General produces which items': {'Humvee', 'HMMWV', 'High Mobility Multipurpose Wheeled Vehicle'}, 'Infocom produces which items': {'Zork'}, 'Unicomp produces which items': {'Model M'}, 'Canonical Ltd. produces which items': {'Ubuntu'}, 'Manhattan Project produces which items': {'Hiroshima', 'Little Boy', 'Fat Man', 'atomic bomb', 'Nagasaki'}, 'Hasbro produces which items': {'toy'}, 'ArmaLite produces which items': {'rifle'}, 'Sun Microsystems produces which items': {'workstation'}, 'MathWorks produces which items': {'MATLAB'}, 'What does MDPI publish': {'Algorithms (journal)'}, 'What does DC Comics publish': {'Detective Comics', 'Action Comics'}, 'What does 3M publish': {'Acquire'}, 'What does Electronic Arts publish': {'Alpha Centauri', 'Starflight'}, 'What does MicroProse publish': {'Civilization II', 'Civilization (video game)'}, 'What does Princeton University publish': {'Annals'}, 'What does Taito Corporation publish': {'Puzzle Bobble', 'Bust-a-Move'}, 'What does Taito publish': {'It', 'Puzzle Bobble'}, 'What does Chaosium publish': {'RuneQuest', 'Call of Cthulhu (role-playing game)', 'It'}, 'What does Steve Jackson Games publish': {'GURPS', 'Illuminati: New World Order', 'It'}, 'What does Capcom publish': {'Street Fighter', 'Resident Evil', 'Devil May Cry', 'Monster Hunter'}, 'What does Epic MegaGames publish': {'It', 'Castle of the Winds'}, 'What does Valve Corporation publish': {'Counter-Strike'}, 'What does Valve publish': {'Counter-Strike'}, 'What does Marvel Comics publish': {'Fantastic Four', 'Captain America', 'The Fantastic Four', 'X-Men'}, 'What does Tactical Studies Rules, Inc. publish': {'Dungeons & Dragons'}, 'What does TSR publish': {'Dungeons & Dragons'}, 'What does LucasArts publish': {'Monkey Island (series)', 'Day of the Tentacle', 'Monkey Island'}, 'What does Eidos Interactive publish': {'Deus Ex'}, 'What does Blizzard Entertainment publish': {'Diablo II'}, 'What does GT Interactive Software publish': {'Duke Nukem 3D'}, 'What does Apple Computer publish': {'Dylan (programming language)', 'It'}, 'What does Konami publish': {'Dance Dance Revolution', 'Dancing Stage', 'Gradius (video game)', 'DDR'}, 'What does DC publish': {'Detective Comics'}, 'What does American Mathematical Society publish': {'Mathematical Reviews'}, 'What does FASA publish': {'Shadowrun', 'Earthdawn'}, 'What does FSF publish': {'Free Software Definition', 'The Free Software Definition'}, 'What does Free Software Foundation publish': {'Free Software Definition', 'The Free Software Definition'}, 'What does NIST publish': {'FIPS 10-4'}, 'What does Marvel publish': {'Fantastic Four'}, 'What does Nintendo publish': {'Kid Icarus', 'F-Zero: Maximum Velocity'}, 'What does GT Interactive publish': {'Heretic (video game)', 'It'}, 'What does Activision publish': {'Zork', 'Heretic II'}, 'What does Gnome Press publish': {'I, Robot'}, 'What does Internet Engineering Task Force (IETF) publish': {'Internet Standard'}, 'What does IETF publish': {'Internet Standard'}, 'What does Infocom publish': {'Zork'}, 'What does HarperCollins publish': {'Microserfs'}, 'What does Lucasfilm Games publish': {'Monkey Island (series)'}, 'What does National Socialist publish': {'My Struggle', 'Mein Kampf'}, 'What does Hasbro publish': {'It', 'Monopoly (game)'}, 'What does CSICOP publish': {'Skeptical Inquirer'}})\n"
     ]
    }
   ],
   "source": [
    "common_answer_true = {}\n",
    "common_answer_sets = defaultdict(set)\n",
    "for question, triple in created:\n",
    "    q,a = question.split(\"?\")\n",
    "    q = q.strip()\n",
    "    a = a.strip()\n",
    "\n",
    "    if \"(SET)\" in a:\n",
    "        a = a.replace(\"(SET)\",\"\").strip()\n",
    "        common_answer_sets[q].add(a)\n",
    "    else:\n",
    "        common_answer_true[q] = a\n",
    "\n",
    "for question, triple in created:\n",
    "    item_type = item_types[triple[\"object\"][\"surfaceform\"]]\n",
    "    #print([item_types[t] for t in item_type])\n",
    "\n",
    "print(common_answer_sets)\n"
   ],
   "metadata": {
    "collapsed": false,
    "pycharm": {
     "name": "#%%\n"
    }
   }
  },
  {
   "cell_type": "code",
   "execution_count": null,
   "outputs": [],
   "source": [
    "        #if trip['predicate']['surfaceform'] is not None:\n",
    "            #print(\"{} {} {}\".format(trip['subject']['surfaceform'],trip['predicate']['surfaceform'], trip['object']['surfaceform']))\n",
    "\n",
    "        if trip['predicate']['uri'] in types:\n",
    "            rel = types[trip['predicate']['uri']]\n",
    "            for re in rel:\n",
    "                pass\n",
    "                #print(\"{} {} {}\".format(trip['subject']['surfaceform'], re, trip['object']['surfaceform']))\n",
    "        else:\n",
    "            #print(trip['predicate']['uri'])\n",
    "            pass\n",
    "\n",
    "        if trip['predicate']['uri'] in questions:\n",
    "            rel = questions[trip['predicate']['uri']]\n",
    "            #for re in rel:\n",
    "                #print(re.replace(\"$s\",trip['subject']['surfaceform']).replace(\"$p\",trip['object']['surfaceform']))\n",
    "\n",
    "\n",
    "    #print(i['entities'])\n",
    "    #print(i['entities'][0].keys())\n",
    "    #for entity in i['entities']:\n",
    "    #    print(entity['boundaries'])\n",
    "\n",
    "print(len(trex))"
   ],
   "metadata": {
    "collapsed": false,
    "pycharm": {
     "name": "#%%\n"
    }
   }
  },
  {
   "cell_type": "code",
   "execution_count": 65,
   "outputs": [
    {
     "name": "stdout",
     "output_type": "stream",
     "text": [
      "417\n",
      "[('http://www.wikidata.org/prop/direct/P17', 8318), ('http://www.wikidata.org/prop/direct/P47', 7763), ('http://www.wikidata.org/prop/direct/P31', 5462), ('http://www.wikidata.org/prop/direct/P279', 4409), ('http://www.wikidata.org/prop/direct/P27', 3301), ('http://www.wikidata.org/prop/direct/P131', 3058), ('http://www.wikidata.org/prop/direct/P530', 3049), ('http://www.wikidata.org/prop/direct/P361', 2767), ('http://www.wikidata.org/prop/direct/P106', 2719), ('http://www.wikidata.org/prop/direct/P527', 2333), ('http://www.wikidata.org/prop/direct/P569', 2153), ('http://www.wikidata.org/prop/direct/P570', 1915), ('http://www.wikidata.org/prop/direct/P463', 1835), ('http://www.wikidata.org/prop/direct/P37', 1511), ('http://www.wikidata.org/prop/direct/P1411', 1460), ('http://www.wikidata.org/prop/direct/P150', 1436), ('http://www.wikidata.org/prop/direct/P1412', 1074), ('http://www.wikidata.org/prop/direct/P136', 1013), ('http://www.wikidata.org/prop/direct/P138', 995), ('http://www.wikidata.org/prop/direct/P36', 947), ('http://www.wikidata.org/prop/direct/P50', 917), ('http://www.wikidata.org/prop/direct/P40', 905), ('http://www.wikidata.org/prop/direct/P19', 870), ('http://www.wikidata.org/prop/direct/P641', 870), ('http://www.wikidata.org/prop/direct/P1376', 847), ('http://www.wikidata.org/prop/direct/P20', 833), ('http://www.wikidata.org/prop/direct/P155', 831), ('http://www.wikidata.org/prop/direct/P166', 769), ('http://www.wikidata.org/prop/direct/P156', 736), ('http://www.wikidata.org/prop/direct/P39', 712), ('http://www.wikidata.org/prop/direct/P30', 695), ('http://www.wikidata.org/prop/direct/P26', 658), ('http://www.wikidata.org/prop/direct/P112', 656), ('http://www.wikidata.org/prop/direct/P800', 640), ('http://www.wikidata.org/prop/direct/P1269', 622), ('http://www.wikidata.org/prop/direct/P22', 621), ('http://www.wikidata.org/prop/direct/P105', 576), ('http://www.wikidata.org/prop/direct/P161', 575), ('http://www.wikidata.org/prop/direct/P495', 564), ('http://www.wikidata.org/prop/direct/P206', 526), ('http://www.wikidata.org/prop/direct/P178', 517), ('http://www.wikidata.org/prop/direct/P101', 515), ('http://www.wikidata.org/prop/direct/P171', 487), ('http://www.wikidata.org/prop/direct/P176', 483), ('http://www.wikidata.org/prop/direct/P1001', 470), ('http://www.wikidata.org/prop/direct/P710', 450), ('http://www.wikidata.org/prop/direct/P461', 407), ('http://www.wikidata.org/prop/direct/P127', 406), ('http://www.wikidata.org/prop/direct/P118', 406), ('http://www.wikidata.org/prop/direct/P3373', 400), ('http://www.wikidata.org/prop/direct/P108', 361), ('http://www.wikidata.org/prop/direct/P159', 357), ('http://www.wikidata.org/prop/direct/P1589', 349), ('http://www.wikidata.org/prop/direct/P706', 348), ('http://www.wikidata.org/prop/direct/P170', 347), ('http://www.wikidata.org/prop/direct/P205', 338), ('http://www.wikidata.org/prop/direct/P54', 311), ('http://www.wikidata.org/prop/direct/P135', 290), ('http://www.wikidata.org/prop/direct/P137', 287), ('http://www.wikidata.org/prop/direct/P276', 286), ('http://www.wikidata.org/prop/direct/P607', 285), ('http://www.wikidata.org/prop/direct/P737', 281), ('http://www.wikidata.org/prop/direct/P140', 280), ('http://www.wikidata.org/prop/direct/P69', 263), ('http://www.wikidata.org/prop/direct/P53', 253), ('http://www.wikidata.org/prop/direct/P364', 240), ('http://www.wikidata.org/prop/direct/P102', 238), ('http://www.wikidata.org/prop/direct/P57', 229), ('http://www.wikidata.org/prop/direct/P103', 228), ('http://www.wikidata.org/prop/direct/P749', 215), ('http://www.wikidata.org/prop/direct/P1366', 213), ('http://www.wikidata.org/prop/direct/P674', 210), ('http://www.wikidata.org/prop/direct/P58', 196), ('http://www.wikidata.org/prop/direct/P175', 195), ('http://www.wikidata.org/prop/direct/P397', 192), ('http://www.wikidata.org/prop/direct/P61', 191), ('http://www.wikidata.org/prop/direct/P190', 186), ('http://www.wikidata.org/prop/direct/P403', 183), ('http://www.wikidata.org/prop/direct/P1889', 176), ('http://www.wikidata.org/prop/direct/P571', 163), ('http://www.wikidata.org/prop/direct/P25', 160), ('http://www.wikidata.org/prop/direct/P460', 155), ('http://www.wikidata.org/prop/direct/P1542', 151), ('http://www.wikidata.org/prop/direct/P1336', 150), ('http://www.wikidata.org/prop/direct/P1365', 150), ('http://www.wikidata.org/prop/direct/P144', 148), ('http://www.wikidata.org/prop/direct/P264', 148), ('http://www.wikidata.org/prop/direct/P186', 148), ('http://www.wikidata.org/prop/direct/P551', 146), ('http://www.wikidata.org/prop/direct/P1441', 143), ('http://www.wikidata.org/prop/direct/P398', 142), ('http://www.wikidata.org/prop/direct/P1066', 141), ('http://www.wikidata.org/prop/direct/P282', 141), ('http://www.wikidata.org/prop/direct/P35', 137), ('http://www.wikidata.org/prop/direct/P828', 136), ('http://www.wikidata.org/prop/direct/P241', 131), ('http://www.wikidata.org/prop/direct/P162', 130), ('http://www.wikidata.org/prop/direct/P306', 130), ('http://www.wikidata.org/prop/direct/P179', 130), ('http://www.wikidata.org/prop/direct/P937', 128)]\n"
     ]
    },
    {
     "data": {
      "text/plain": "<Figure size 432x288 with 1 Axes>",
      "image/png": "[encoded data removed]"
     },
     "metadata": {
      "needs_background": "light"
     },
     "output_type": "display_data"
    }
   ],
   "source": [
    "print(len(counter))\n",
    "print(counter.most_common(100))\n",
    "\n",
    "import matplotlib.pyplot as plt\n",
    "rns = []\n",
    "vs = []\n",
    "for k,v in counter.most_common(200)[100:]:\n",
    "    rns.append(k)\n",
    "    vs.append(v)\n",
    "\n",
    "plt.bar(rns,vs)\n",
    "plt.show()\n"
   ],
   "metadata": {
    "collapsed": false,
    "pycharm": {
     "name": "#%%\n"
    }
   }
  }
 ],
 "metadata": {
  "kernelspec": {
   "name": "neuraldb",
   "language": "python",
   "display_name": "neuraldb"
  },
  "language_info": {
   "codemirror_mode": {
    "name": "ipython",
    "version": 2
   },
   "file_extension": ".py",
   "mimetype": "text/x-python",
   "name": "python",
   "nbconvert_exporter": "python",
   "pygments_lexer": "ipython2",
   "version": "2.7.6"
  }
 },
 "nbformat": 4,
 "nbformat_minor": 0
}