{
 "cells": [
  {
   "cell_type": "code",
   "execution_count": 2,
   "metadata": {
    "collapsed": true
   },
   "outputs": [],
   "source": [
    "import itertools\n",
    "import operator\n",
    "import sys\n",
    "import os\n",
    "sys.path.append(\"../src\")\n",
    "from glob import glob"
   ]
  },
  {
   "cell_type": "code",
   "execution_count": 3,
   "outputs": [
    {
     "name": "stdout",
     "output_type": "stream",
     "text": [
      "666\n"
     ]
    }
   ],
   "source": [
    "search_root = \"/checkpoint/jth/job_staging/neuraldb_expts/experiment=operator_sweep/\"\n",
    "checkpoint_name = \"best_em.ckpt\"\n",
    "files = glob(\"{}/**/{}\".format(search_root,checkpoint_name), recursive=True)\n",
    "\n",
    "\n",
    "print(len(files))"
   ],
   "metadata": {
    "collapsed": false,
    "pycharm": {
     "name": "#%%\n"
    }
   }
  },
  {
   "cell_type": "code",
   "execution_count": 12,
   "outputs": [
    {
     "name": "stdout",
     "output_type": "stream",
     "text": [
      "10\n"
     ]
    }
   ],
   "source": [
    "def expand(idx,chunk):\n",
    "\n",
    "  #elif idx == 1:\n",
    "  #  return [\"experiment={}\".format(chunk)]\n",
    "  if chunk.startswith(\"seed-\"):\n",
    "    return [\"seed={}\".format(chunk.replace(\"seed-\",\"\"))]\n",
    "  elif \",\" in chunk:\n",
    "    return chunk.split(\",\")\n",
    "  elif \"=\" in chunk:\n",
    "    return [chunk]\n",
    "  return []\n",
    "\n",
    "\n",
    "experiments = []\n",
    "for file in files:\n",
    "    chunks = file.replace(search_root,\"\").split(\"/\")\n",
    "    chunks = itertools.chain(*[expand(idx, chunk) for idx, chunk in enumerate(chunks)])\n",
    "\n",
    "    data = {k:v for k,v in (chunk.split(\"=\") for chunk in chunks)}\n",
    "    data[\"file\"] = file\n",
    "    data['dir'] = os.path.dirname(file)\n",
    "    if data[\"version\"] in [\"v1.1.4\"] and data[\"train_percentage\"] == \"1.0\" and data[\"lr\"] in [\"8e-6\"]:\n",
    "        experiments.append(data)\n",
    "\n",
    "\n",
    "print(len(experiments))"
   ],
   "metadata": {
    "collapsed": false,
    "pycharm": {
     "name": "#%%\n"
    }
   }
  },
  {
   "cell_type": "code",
   "execution_count": 28,
   "outputs": [
    {
     "name": "stdout",
     "output_type": "stream",
     "text": [
      "FILTER_RELATION=\"P6 P19 P20 P21 P22 P23 P38 P54 P1831 P1867\" sbatch --array=1-5 scripts/launch_distributed_4gpu_ft.sh operator_finetune 8e-6 v1.2_resolv_100k 1e-05 1 /checkpoint/jth/job_staging/neuraldb_expts/experiment=operator_sweep/dataset=operator,model=t5-base,version=v1.1.4/lr=8e-6/filters=null,train_percentage=1.0/\n",
      "FILTER_RELATION=\"P6 P19 P20 P21 P22 P23 P38 P54 P1831 P1867\" sbatch --array=1-5 scripts/launch_distributed_4gpu_ft.sh operator_finetune 8e-5 v1.2_resolv_100k 1e-05 1 /checkpoint/jth/job_staging/neuraldb_expts/experiment=operator_sweep/dataset=operator,model=t5-base,version=v1.1.4/lr=8e-6/filters=null,train_percentage=1.0/\n",
      "FILTER_RELATION=\"P6 P19 P20 P21 P22 P23 P38 P54 P1831 P1867\" sbatch --array=1-5 scripts/launch_distributed_4gpu_ft.sh operator_finetune 8e-4 v1.2_resolv_100k 1e-05 1 /checkpoint/jth/job_staging/neuraldb_expts/experiment=operator_sweep/dataset=operator,model=t5-base,version=v1.1.4/lr=8e-6/filters=null,train_percentage=1.0/ \n",
      "FILTER_RELATION=\"P6 P19 P20 P21 P22 P23 P38 P54 P1831 P1867\" sbatch --array=1-5 scripts/launch_distributed_4gpu_ft.sh operator_finetune 8e-6 v1.2_resolv_100k 1e-05 2 /checkpoint/jth/job_staging/neuraldb_expts/experiment=operator_sweep/dataset=operator,model=t5-base,version=v1.1.4/lr=8e-6/filters=null,train_percentage=1.0/\n",
      "FILTER_RELATION=\"P6 P19 P20 P21 P22 P23 P38 P54 P1831 P1867\" sbatch --array=1-5 scripts/launch_distributed_4gpu_ft.sh operator_finetune 8e-5 v1.2_resolv_100k 1e-05 2 /checkpoint/jth/job_staging/neuraldb_expts/experiment=operator_sweep/dataset=operator,model=t5-base,version=v1.1.4/lr=8e-6/filters=null,train_percentage=1.0/\n",
      "FILTER_RELATION=\"P6 P19 P20 P21 P22 P23 P38 P54 P1831 P1867\" sbatch --array=1-5 scripts/launch_distributed_4gpu_ft.sh operator_finetune 8e-4 v1.2_resolv_100k 1e-05 2 /checkpoint/jth/job_staging/neuraldb_expts/experiment=operator_sweep/dataset=operator,model=t5-base,version=v1.1.4/lr=8e-6/filters=null,train_percentage=1.0/ \n",
      "FILTER_RELATION=\"P6 P19 P20 P21 P22 P23 P38 P54 P1831 P1867\" sbatch --array=1-5 scripts/launch_distributed_4gpu_ft.sh operator_finetune 8e-6 v1.2_resolv_100k 5e-05 1 /checkpoint/jth/job_staging/neuraldb_expts/experiment=operator_sweep/dataset=operator,model=t5-base,version=v1.1.4/lr=8e-6/filters=null,train_percentage=1.0/\n",
      "FILTER_RELATION=\"P6 P19 P20 P21 P22 P23 P38 P54 P1831 P1867\" sbatch --array=1-5 scripts/launch_distributed_4gpu_ft.sh operator_finetune 8e-5 v1.2_resolv_100k 5e-05 1 /checkpoint/jth/job_staging/neuraldb_expts/experiment=operator_sweep/dataset=operator,model=t5-base,version=v1.1.4/lr=8e-6/filters=null,train_percentage=1.0/\n",
      "FILTER_RELATION=\"P6 P19 P20 P21 P22 P23 P38 P54 P1831 P1867\" sbatch --array=1-5 scripts/launch_distributed_4gpu_ft.sh operator_finetune 8e-4 v1.2_resolv_100k 5e-05 1 /checkpoint/jth/job_staging/neuraldb_expts/experiment=operator_sweep/dataset=operator,model=t5-base,version=v1.1.4/lr=8e-6/filters=null,train_percentage=1.0/ \n",
      "FILTER_RELATION=\"P6 P19 P20 P21 P22 P23 P38 P54 P1831 P1867\" sbatch --array=1-5 scripts/launch_distributed_4gpu_ft.sh operator_finetune 8e-6 v1.2_resolv_100k 5e-05 2 /checkpoint/jth/job_staging/neuraldb_expts/experiment=operator_sweep/dataset=operator,model=t5-base,version=v1.1.4/lr=8e-6/filters=null,train_percentage=1.0/\n",
      "FILTER_RELATION=\"P6 P19 P20 P21 P22 P23 P38 P54 P1831 P1867\" sbatch --array=1-5 scripts/launch_distributed_4gpu_ft.sh operator_finetune 8e-5 v1.2_resolv_100k 5e-05 2 /checkpoint/jth/job_staging/neuraldb_expts/experiment=operator_sweep/dataset=operator,model=t5-base,version=v1.1.4/lr=8e-6/filters=null,train_percentage=1.0/\n",
      "FILTER_RELATION=\"P6 P19 P20 P21 P22 P23 P38 P54 P1831 P1867\" sbatch --array=1-5 scripts/launch_distributed_4gpu_ft.sh operator_finetune 8e-4 v1.2_resolv_100k 5e-05 2 /checkpoint/jth/job_staging/neuraldb_expts/experiment=operator_sweep/dataset=operator,model=t5-base,version=v1.1.4/lr=8e-6/filters=null,train_percentage=1.0/ \n",
      "FILTER_RELATION=\"P6 P19 P20 P21 P22 P23 P38 P54 P1831 P1867\" sbatch --array=1-5 scripts/launch_distributed_4gpu_ft.sh operator_finetune 8e-6 v1.2_resolv_100k 0.0001 1 /checkpoint/jth/job_staging/neuraldb_expts/experiment=operator_sweep/dataset=operator,model=t5-base,version=v1.1.4/lr=8e-6/filters=null,train_percentage=1.0/\n",
      "FILTER_RELATION=\"P6 P19 P20 P21 P22 P23 P38 P54 P1831 P1867\" sbatch --array=1-5 scripts/launch_distributed_4gpu_ft.sh operator_finetune 8e-5 v1.2_resolv_100k 0.0001 1 /checkpoint/jth/job_staging/neuraldb_expts/experiment=operator_sweep/dataset=operator,model=t5-base,version=v1.1.4/lr=8e-6/filters=null,train_percentage=1.0/\n",
      "FILTER_RELATION=\"P6 P19 P20 P21 P22 P23 P38 P54 P1831 P1867\" sbatch --array=1-5 scripts/launch_distributed_4gpu_ft.sh operator_finetune 8e-4 v1.2_resolv_100k 0.0001 1 /checkpoint/jth/job_staging/neuraldb_expts/experiment=operator_sweep/dataset=operator,model=t5-base,version=v1.1.4/lr=8e-6/filters=null,train_percentage=1.0/ \n",
      "FILTER_RELATION=\"P6 P19 P20 P21 P22 P23 P38 P54 P1831 P1867\" sbatch --array=1-5 scripts/launch_distributed_4gpu_ft.sh operator_finetune 8e-6 v1.2_resolv_100k 0.0001 2 /checkpoint/jth/job_staging/neuraldb_expts/experiment=operator_sweep/dataset=operator,model=t5-base,version=v1.1.4/lr=8e-6/filters=null,train_percentage=1.0/\n",
      "FILTER_RELATION=\"P6 P19 P20 P21 P22 P23 P38 P54 P1831 P1867\" sbatch --array=1-5 scripts/launch_distributed_4gpu_ft.sh operator_finetune 8e-5 v1.2_resolv_100k 0.0001 2 /checkpoint/jth/job_staging/neuraldb_expts/experiment=operator_sweep/dataset=operator,model=t5-base,version=v1.1.4/lr=8e-6/filters=null,train_percentage=1.0/\n",
      "FILTER_RELATION=\"P6 P19 P20 P21 P22 P23 P38 P54 P1831 P1867\" sbatch --array=1-5 scripts/launch_distributed_4gpu_ft.sh operator_finetune 8e-4 v1.2_resolv_100k 0.0001 2 /checkpoint/jth/job_staging/neuraldb_expts/experiment=operator_sweep/dataset=operator,model=t5-base,version=v1.1.4/lr=8e-6/filters=null,train_percentage=1.0/ \n",
      "FILTER_RELATION=\"P6 P19 P20 P21 P22 P23 P38 P54 P1831 P1867\" sbatch --array=1-5 scripts/launch_distributed_4gpu_ft.sh operator_finetune 8e-6 v1.2_resolv_100k 0.0005 1 /checkpoint/jth/job_staging/neuraldb_expts/experiment=operator_sweep/dataset=operator,model=t5-base,version=v1.1.4/lr=8e-6/filters=null,train_percentage=1.0/\n",
      "FILTER_RELATION=\"P6 P19 P20 P21 P22 P23 P38 P54 P1831 P1867\" sbatch --array=1-5 scripts/launch_distributed_4gpu_ft.sh operator_finetune 8e-5 v1.2_resolv_100k 0.0005 1 /checkpoint/jth/job_staging/neuraldb_expts/experiment=operator_sweep/dataset=operator,model=t5-base,version=v1.1.4/lr=8e-6/filters=null,train_percentage=1.0/\n",
      "FILTER_RELATION=\"P6 P19 P20 P21 P22 P23 P38 P54 P1831 P1867\" sbatch --array=1-5 scripts/launch_distributed_4gpu_ft.sh operator_finetune 8e-4 v1.2_resolv_100k 0.0005 1 /checkpoint/jth/job_staging/neuraldb_expts/experiment=operator_sweep/dataset=operator,model=t5-base,version=v1.1.4/lr=8e-6/filters=null,train_percentage=1.0/ \n",
      "FILTER_RELATION=\"P6 P19 P20 P21 P22 P23 P38 P54 P1831 P1867\" sbatch --array=1-5 scripts/launch_distributed_4gpu_ft.sh operator_finetune 8e-6 v1.2_resolv_100k 0.0005 2 /checkpoint/jth/job_staging/neuraldb_expts/experiment=operator_sweep/dataset=operator,model=t5-base,version=v1.1.4/lr=8e-6/filters=null,train_percentage=1.0/\n",
      "FILTER_RELATION=\"P6 P19 P20 P21 P22 P23 P38 P54 P1831 P1867\" sbatch --array=1-5 scripts/launch_distributed_4gpu_ft.sh operator_finetune 8e-5 v1.2_resolv_100k 0.0005 2 /checkpoint/jth/job_staging/neuraldb_expts/experiment=operator_sweep/dataset=operator,model=t5-base,version=v1.1.4/lr=8e-6/filters=null,train_percentage=1.0/\n",
      "FILTER_RELATION=\"P6 P19 P20 P21 P22 P23 P38 P54 P1831 P1867\" sbatch --array=1-5 scripts/launch_distributed_4gpu_ft.sh operator_finetune 8e-4 v1.2_resolv_100k 0.0005 2 /checkpoint/jth/job_staging/neuraldb_expts/experiment=operator_sweep/dataset=operator,model=t5-base,version=v1.1.4/lr=8e-6/filters=null,train_percentage=1.0/ \n",
      "FILTER_RELATION=\"P6 P19 P20 P21 P22 P23 P38 P54 P1831 P1867\" sbatch --array=1-5 scripts/launch_distributed_4gpu_ft.sh operator_finetune 8e-6 v1.2_resolv_100k 0.001 1 /checkpoint/jth/job_staging/neuraldb_expts/experiment=operator_sweep/dataset=operator,model=t5-base,version=v1.1.4/lr=8e-6/filters=null,train_percentage=1.0/\n",
      "FILTER_RELATION=\"P6 P19 P20 P21 P22 P23 P38 P54 P1831 P1867\" sbatch --array=1-5 scripts/launch_distributed_4gpu_ft.sh operator_finetune 8e-5 v1.2_resolv_100k 0.001 1 /checkpoint/jth/job_staging/neuraldb_expts/experiment=operator_sweep/dataset=operator,model=t5-base,version=v1.1.4/lr=8e-6/filters=null,train_percentage=1.0/\n",
      "FILTER_RELATION=\"P6 P19 P20 P21 P22 P23 P38 P54 P1831 P1867\" sbatch --array=1-5 scripts/launch_distributed_4gpu_ft.sh operator_finetune 8e-4 v1.2_resolv_100k 0.001 1 /checkpoint/jth/job_staging/neuraldb_expts/experiment=operator_sweep/dataset=operator,model=t5-base,version=v1.1.4/lr=8e-6/filters=null,train_percentage=1.0/ \n",
      "FILTER_RELATION=\"P6 P19 P20 P21 P22 P23 P38 P54 P1831 P1867\" sbatch --array=1-5 scripts/launch_distributed_4gpu_ft.sh operator_finetune 8e-6 v1.2_resolv_100k 0.001 2 /checkpoint/jth/job_staging/neuraldb_expts/experiment=operator_sweep/dataset=operator,model=t5-base,version=v1.1.4/lr=8e-6/filters=null,train_percentage=1.0/\n",
      "FILTER_RELATION=\"P6 P19 P20 P21 P22 P23 P38 P54 P1831 P1867\" sbatch --array=1-5 scripts/launch_distributed_4gpu_ft.sh operator_finetune 8e-5 v1.2_resolv_100k 0.001 2 /checkpoint/jth/job_staging/neuraldb_expts/experiment=operator_sweep/dataset=operator,model=t5-base,version=v1.1.4/lr=8e-6/filters=null,train_percentage=1.0/\n",
      "FILTER_RELATION=\"P6 P19 P20 P21 P22 P23 P38 P54 P1831 P1867\" sbatch --array=1-5 scripts/launch_distributed_4gpu_ft.sh operator_finetune 8e-4 v1.2_resolv_100k 0.001 2 /checkpoint/jth/job_staging/neuraldb_expts/experiment=operator_sweep/dataset=operator,model=t5-base,version=v1.1.4/lr=8e-6/filters=null,train_percentage=1.0/ \n",
      "FILTER_RELATION=\"P6 P19 P20 P21 P22 P23 P38 P54 P1831 P1867\" sbatch --array=1-5 scripts/launch_distributed_4gpu_ft.sh operator_finetune 8e-6 v1.2_resolv_100k 1e-05 1 /checkpoint/jth/job_staging/neuraldb_expts/experiment=operator_sweep/dataset=operator,model=t5-base-rand,version=v1.1.4/lr=8e-6/filters=null,train_percentage=1.0/\n",
      "FILTER_RELATION=\"P6 P19 P20 P21 P22 P23 P38 P54 P1831 P1867\" sbatch --array=1-5 scripts/launch_distributed_4gpu_ft.sh operator_finetune 8e-5 v1.2_resolv_100k 1e-05 1 /checkpoint/jth/job_staging/neuraldb_expts/experiment=operator_sweep/dataset=operator,model=t5-base-rand,version=v1.1.4/lr=8e-6/filters=null,train_percentage=1.0/\n",
      "FILTER_RELATION=\"P6 P19 P20 P21 P22 P23 P38 P54 P1831 P1867\" sbatch --array=1-5 scripts/launch_distributed_4gpu_ft.sh operator_finetune 8e-4 v1.2_resolv_100k 1e-05 1 /checkpoint/jth/job_staging/neuraldb_expts/experiment=operator_sweep/dataset=operator,model=t5-base-rand,version=v1.1.4/lr=8e-6/filters=null,train_percentage=1.0/ \n",
      "FILTER_RELATION=\"P6 P19 P20 P21 P22 P23 P38 P54 P1831 P1867\" sbatch --array=1-5 scripts/launch_distributed_4gpu_ft.sh operator_finetune 8e-6 v1.2_resolv_100k 1e-05 2 /checkpoint/jth/job_staging/neuraldb_expts/experiment=operator_sweep/dataset=operator,model=t5-base-rand,version=v1.1.4/lr=8e-6/filters=null,train_percentage=1.0/\n",
      "FILTER_RELATION=\"P6 P19 P20 P21 P22 P23 P38 P54 P1831 P1867\" sbatch --array=1-5 scripts/launch_distributed_4gpu_ft.sh operator_finetune 8e-5 v1.2_resolv_100k 1e-05 2 /checkpoint/jth/job_staging/neuraldb_expts/experiment=operator_sweep/dataset=operator,model=t5-base-rand,version=v1.1.4/lr=8e-6/filters=null,train_percentage=1.0/\n",
      "FILTER_RELATION=\"P6 P19 P20 P21 P22 P23 P38 P54 P1831 P1867\" sbatch --array=1-5 scripts/launch_distributed_4gpu_ft.sh operator_finetune 8e-4 v1.2_resolv_100k 1e-05 2 /checkpoint/jth/job_staging/neuraldb_expts/experiment=operator_sweep/dataset=operator,model=t5-base-rand,version=v1.1.4/lr=8e-6/filters=null,train_percentage=1.0/ \n",
      "FILTER_RELATION=\"P6 P19 P20 P21 P22 P23 P38 P54 P1831 P1867\" sbatch --array=1-5 scripts/launch_distributed_4gpu_ft.sh operator_finetune 8e-6 v1.2_resolv_100k 5e-05 1 /checkpoint/jth/job_staging/neuraldb_expts/experiment=operator_sweep/dataset=operator,model=t5-base-rand,version=v1.1.4/lr=8e-6/filters=null,train_percentage=1.0/\n",
      "FILTER_RELATION=\"P6 P19 P20 P21 P22 P23 P38 P54 P1831 P1867\" sbatch --array=1-5 scripts/launch_distributed_4gpu_ft.sh operator_finetune 8e-5 v1.2_resolv_100k 5e-05 1 /checkpoint/jth/job_staging/neuraldb_expts/experiment=operator_sweep/dataset=operator,model=t5-base-rand,version=v1.1.4/lr=8e-6/filters=null,train_percentage=1.0/\n",
      "FILTER_RELATION=\"P6 P19 P20 P21 P22 P23 P38 P54 P1831 P1867\" sbatch --array=1-5 scripts/launch_distributed_4gpu_ft.sh operator_finetune 8e-4 v1.2_resolv_100k 5e-05 1 /checkpoint/jth/job_staging/neuraldb_expts/experiment=operator_sweep/dataset=operator,model=t5-base-rand,version=v1.1.4/lr=8e-6/filters=null,train_percentage=1.0/ \n",
      "FILTER_RELATION=\"P6 P19 P20 P21 P22 P23 P38 P54 P1831 P1867\" sbatch --array=1-5 scripts/launch_distributed_4gpu_ft.sh operator_finetune 8e-6 v1.2_resolv_100k 5e-05 2 /checkpoint/jth/job_staging/neuraldb_expts/experiment=operator_sweep/dataset=operator,model=t5-base-rand,version=v1.1.4/lr=8e-6/filters=null,train_percentage=1.0/\n",
      "FILTER_RELATION=\"P6 P19 P20 P21 P22 P23 P38 P54 P1831 P1867\" sbatch --array=1-5 scripts/launch_distributed_4gpu_ft.sh operator_finetune 8e-5 v1.2_resolv_100k 5e-05 2 /checkpoint/jth/job_staging/neuraldb_expts/experiment=operator_sweep/dataset=operator,model=t5-base-rand,version=v1.1.4/lr=8e-6/filters=null,train_percentage=1.0/\n",
      "FILTER_RELATION=\"P6 P19 P20 P21 P22 P23 P38 P54 P1831 P1867\" sbatch --array=1-5 scripts/launch_distributed_4gpu_ft.sh operator_finetune 8e-4 v1.2_resolv_100k 5e-05 2 /checkpoint/jth/job_staging/neuraldb_expts/experiment=operator_sweep/dataset=operator,model=t5-base-rand,version=v1.1.4/lr=8e-6/filters=null,train_percentage=1.0/ \n",
      "FILTER_RELATION=\"P6 P19 P20 P21 P22 P23 P38 P54 P1831 P1867\" sbatch --array=1-5 scripts/launch_distributed_4gpu_ft.sh operator_finetune 8e-6 v1.2_resolv_100k 0.0001 1 /checkpoint/jth/job_staging/neuraldb_expts/experiment=operator_sweep/dataset=operator,model=t5-base-rand,version=v1.1.4/lr=8e-6/filters=null,train_percentage=1.0/\n",
      "FILTER_RELATION=\"P6 P19 P20 P21 P22 P23 P38 P54 P1831 P1867\" sbatch --array=1-5 scripts/launch_distributed_4gpu_ft.sh operator_finetune 8e-5 v1.2_resolv_100k 0.0001 1 /checkpoint/jth/job_staging/neuraldb_expts/experiment=operator_sweep/dataset=operator,model=t5-base-rand,version=v1.1.4/lr=8e-6/filters=null,train_percentage=1.0/\n",
      "FILTER_RELATION=\"P6 P19 P20 P21 P22 P23 P38 P54 P1831 P1867\" sbatch --array=1-5 scripts/launch_distributed_4gpu_ft.sh operator_finetune 8e-4 v1.2_resolv_100k 0.0001 1 /checkpoint/jth/job_staging/neuraldb_expts/experiment=operator_sweep/dataset=operator,model=t5-base-rand,version=v1.1.4/lr=8e-6/filters=null,train_percentage=1.0/ \n",
      "FILTER_RELATION=\"P6 P19 P20 P21 P22 P23 P38 P54 P1831 P1867\" sbatch --array=1-5 scripts/launch_distributed_4gpu_ft.sh operator_finetune 8e-6 v1.2_resolv_100k 0.0001 2 /checkpoint/jth/job_staging/neuraldb_expts/experiment=operator_sweep/dataset=operator,model=t5-base-rand,version=v1.1.4/lr=8e-6/filters=null,train_percentage=1.0/\n",
      "FILTER_RELATION=\"P6 P19 P20 P21 P22 P23 P38 P54 P1831 P1867\" sbatch --array=1-5 scripts/launch_distributed_4gpu_ft.sh operator_finetune 8e-5 v1.2_resolv_100k 0.0001 2 /checkpoint/jth/job_staging/neuraldb_expts/experiment=operator_sweep/dataset=operator,model=t5-base-rand,version=v1.1.4/lr=8e-6/filters=null,train_percentage=1.0/\n",
      "FILTER_RELATION=\"P6 P19 P20 P21 P22 P23 P38 P54 P1831 P1867\" sbatch --array=1-5 scripts/launch_distributed_4gpu_ft.sh operator_finetune 8e-4 v1.2_resolv_100k 0.0001 2 /checkpoint/jth/job_staging/neuraldb_expts/experiment=operator_sweep/dataset=operator,model=t5-base-rand,version=v1.1.4/lr=8e-6/filters=null,train_percentage=1.0/ \n",
      "FILTER_RELATION=\"P6 P19 P20 P21 P22 P23 P38 P54 P1831 P1867\" sbatch --array=1-5 scripts/launch_distributed_4gpu_ft.sh operator_finetune 8e-6 v1.2_resolv_100k 0.0005 1 /checkpoint/jth/job_staging/neuraldb_expts/experiment=operator_sweep/dataset=operator,model=t5-base-rand,version=v1.1.4/lr=8e-6/filters=null,train_percentage=1.0/\n",
      "FILTER_RELATION=\"P6 P19 P20 P21 P22 P23 P38 P54 P1831 P1867\" sbatch --array=1-5 scripts/launch_distributed_4gpu_ft.sh operator_finetune 8e-5 v1.2_resolv_100k 0.0005 1 /checkpoint/jth/job_staging/neuraldb_expts/experiment=operator_sweep/dataset=operator,model=t5-base-rand,version=v1.1.4/lr=8e-6/filters=null,train_percentage=1.0/\n",
      "FILTER_RELATION=\"P6 P19 P20 P21 P22 P23 P38 P54 P1831 P1867\" sbatch --array=1-5 scripts/launch_distributed_4gpu_ft.sh operator_finetune 8e-4 v1.2_resolv_100k 0.0005 1 /checkpoint/jth/job_staging/neuraldb_expts/experiment=operator_sweep/dataset=operator,model=t5-base-rand,version=v1.1.4/lr=8e-6/filters=null,train_percentage=1.0/ \n",
      "FILTER_RELATION=\"P6 P19 P20 P21 P22 P23 P38 P54 P1831 P1867\" sbatch --array=1-5 scripts/launch_distributed_4gpu_ft.sh operator_finetune 8e-6 v1.2_resolv_100k 0.0005 2 /checkpoint/jth/job_staging/neuraldb_expts/experiment=operator_sweep/dataset=operator,model=t5-base-rand,version=v1.1.4/lr=8e-6/filters=null,train_percentage=1.0/\n",
      "FILTER_RELATION=\"P6 P19 P20 P21 P22 P23 P38 P54 P1831 P1867\" sbatch --array=1-5 scripts/launch_distributed_4gpu_ft.sh operator_finetune 8e-5 v1.2_resolv_100k 0.0005 2 /checkpoint/jth/job_staging/neuraldb_expts/experiment=operator_sweep/dataset=operator,model=t5-base-rand,version=v1.1.4/lr=8e-6/filters=null,train_percentage=1.0/\n",
      "FILTER_RELATION=\"P6 P19 P20 P21 P22 P23 P38 P54 P1831 P1867\" sbatch --array=1-5 scripts/launch_distributed_4gpu_ft.sh operator_finetune 8e-4 v1.2_resolv_100k 0.0005 2 /checkpoint/jth/job_staging/neuraldb_expts/experiment=operator_sweep/dataset=operator,model=t5-base-rand,version=v1.1.4/lr=8e-6/filters=null,train_percentage=1.0/ \n",
      "FILTER_RELATION=\"P6 P19 P20 P21 P22 P23 P38 P54 P1831 P1867\" sbatch --array=1-5 scripts/launch_distributed_4gpu_ft.sh operator_finetune 8e-6 v1.2_resolv_100k 0.001 1 /checkpoint/jth/job_staging/neuraldb_expts/experiment=operator_sweep/dataset=operator,model=t5-base-rand,version=v1.1.4/lr=8e-6/filters=null,train_percentage=1.0/\n",
      "FILTER_RELATION=\"P6 P19 P20 P21 P22 P23 P38 P54 P1831 P1867\" sbatch --array=1-5 scripts/launch_distributed_4gpu_ft.sh operator_finetune 8e-5 v1.2_resolv_100k 0.001 1 /checkpoint/jth/job_staging/neuraldb_expts/experiment=operator_sweep/dataset=operator,model=t5-base-rand,version=v1.1.4/lr=8e-6/filters=null,train_percentage=1.0/\n",
      "FILTER_RELATION=\"P6 P19 P20 P21 P22 P23 P38 P54 P1831 P1867\" sbatch --array=1-5 scripts/launch_distributed_4gpu_ft.sh operator_finetune 8e-4 v1.2_resolv_100k 0.001 1 /checkpoint/jth/job_staging/neuraldb_expts/experiment=operator_sweep/dataset=operator,model=t5-base-rand,version=v1.1.4/lr=8e-6/filters=null,train_percentage=1.0/ \n",
      "FILTER_RELATION=\"P6 P19 P20 P21 P22 P23 P38 P54 P1831 P1867\" sbatch --array=1-5 scripts/launch_distributed_4gpu_ft.sh operator_finetune 8e-6 v1.2_resolv_100k 0.001 2 /checkpoint/jth/job_staging/neuraldb_expts/experiment=operator_sweep/dataset=operator,model=t5-base-rand,version=v1.1.4/lr=8e-6/filters=null,train_percentage=1.0/\n",
      "FILTER_RELATION=\"P6 P19 P20 P21 P22 P23 P38 P54 P1831 P1867\" sbatch --array=1-5 scripts/launch_distributed_4gpu_ft.sh operator_finetune 8e-5 v1.2_resolv_100k 0.001 2 /checkpoint/jth/job_staging/neuraldb_expts/experiment=operator_sweep/dataset=operator,model=t5-base-rand,version=v1.1.4/lr=8e-6/filters=null,train_percentage=1.0/\n",
      "FILTER_RELATION=\"P6 P19 P20 P21 P22 P23 P38 P54 P1831 P1867\" sbatch --array=1-5 scripts/launch_distributed_4gpu_ft.sh operator_finetune 8e-4 v1.2_resolv_100k 0.001 2 /checkpoint/jth/job_staging/neuraldb_expts/experiment=operator_sweep/dataset=operator,model=t5-base-rand,version=v1.1.4/lr=8e-6/filters=null,train_percentage=1.0/ \n"
     ]
    }
   ],
   "source": [
    "for exp in set(exp[\"dir\"].rsplit(\"seed-\")[0] for exp in experiments):\n",
    "    version = \"v1.2_resolv_100k\"\n",
    "\n",
    "    for nd in [0.00001, 0.00005, 0.0001, 0.0005, 0.001]:\n",
    "        for epoch in range(1,3):\n",
    "\n",
    "            print(\"FILTER_RELATION=\\\"P6 P19 P20 P21 P22 P23 P38 P54 P1831 P1867\\\" sbatch --array=1-5 scripts/launch_distributed_4gpu_ft.sh operator_finetune 8e-6 {} {} {} {}\".format(version, nd, epoch, exp))\n",
    "            print(\"FILTER_RELATION=\\\"P6 P19 P20 P21 P22 P23 P38 P54 P1831 P1867\\\" sbatch --array=1-5 scripts/launch_distributed_4gpu_ft.sh operator_finetune 8e-5 {} {} {} {}\".format(version, nd, epoch, exp))\n",
    "            print(\"FILTER_RELATION=\\\"P6 P19 P20 P21 P22 P23 P38 P54 P1831 P1867\\\" sbatch --array=1-5 scripts/launch_distributed_4gpu_ft.sh operator_finetune 8e-4 {} {} {} {} \".format(version, nd, epoch, exp))\n",
    "\n"
   ],
   "metadata": {
    "collapsed": false,
    "pycharm": {
     "name": "#%%\n"
    }
   }
  }
 ],
 "metadata": {
  "kernelspec": {
   "name": "neuraldb",
   "language": "python",
   "display_name": "neuraldb"
  },
  "language_info": {
   "codemirror_mode": {
    "name": "ipython",
    "version": 2
   },
   "file_extension": ".py",
   "mimetype": "text/x-python",
   "name": "python",
   "nbconvert_exporter": "python",
   "pygments_lexer": "ipython2",
   "version": "2.7.6"
  }
 },
 "nbformat": 4,
 "nbformat_minor": 0
}