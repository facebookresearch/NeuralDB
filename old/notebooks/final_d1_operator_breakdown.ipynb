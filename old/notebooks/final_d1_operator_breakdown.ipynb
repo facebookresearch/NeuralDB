{
 "cells": [
  {
   "cell_type": "code",
   "execution_count": 127,
   "metadata": {
    "collapsed": true
   },
   "outputs": [],
   "source": [
    "import itertools\n",
    "import operator\n",
    "import sys\n",
    "import os\n",
    "import numpy as np\n",
    "from tqdm.notebook import tqdm\n",
    "sys.path.append(\"../src\")\n",
    "from glob import glob\n",
    "import pandas as pd\n",
    "import json\n",
    "from matplotlib import pyplot as plt\n",
    "\n",
    "from neuraldb.scoring.r_precision import f1, recall\n"
   ]
  },
  {
   "cell_type": "code",
   "execution_count": 132,
   "metadata": {
    "pycharm": {
     "name": "#%%\n"
    }
   },
   "outputs": [
    {
     "name": "stdout",
     "output_type": "stream",
     "text": [
      "27\n"
     ]
    }
   ],
   "source": [
    "search_root = \"/checkpoint/jth/job_staging/neuraldb_expts/experiment=ssg_final\"\n",
    "checkpoint_name = \"metrics_test.json\"\n",
    "files = glob(\"{}*/**/{}\".format(search_root,checkpoint_name), recursive=True)\n",
    "\n",
    "print(len(files))"
   ]
  },
  {
   "cell_type": "code",
   "execution_count": 133,
   "metadata": {
    "pycharm": {
     "name": "#%%\n"
    }
   },
   "outputs": [
    {
     "name": "stdout",
     "output_type": "stream",
     "text": [
      "27\n"
     ]
    }
   ],
   "source": [
    "\n",
    "def expand(idx,chunk):\n",
    "  #elif idx == 1:\n",
    "  #  return [\"experiment={}\".format(chunk)]\n",
    "  if chunk.startswith(\"seed-\"):\n",
    "    return [\"seed={}\".format(chunk.replace(\"seed-\",\"\"))]\n",
    "  elif \",\" in chunk:\n",
    "    return chunk.split(\",\")\n",
    "  elif \"=\" in chunk:\n",
    "    return [chunk]\n",
    "\n",
    "  return []\n",
    "\n",
    "experiments = []\n",
    "for file in files:\n",
    "    chunks = file.split(\"/\")\n",
    "    chunks = itertools.chain(*[expand(idx, chunk) for idx, chunk in enumerate(chunks)])\n",
    "\n",
    "    data = {k:v for k,v in (chunk.split(\"=\") for chunk in chunks)}\n",
    "    data[\"file\"] = file\n",
    "    data['dir'] = os.path.dirname(file)\n",
    "    experiments.append(data)\n",
    "\n",
    "\n",
    "print(len(experiments))"
   ]
  },
  {
   "cell_type": "code",
   "execution_count": 146,
   "metadata": {
    "pycharm": {
     "name": "#%%\n"
    }
   },
   "outputs": [
    {
     "data": {
      "text/plain": "HBox(children=(FloatProgress(value=0.0, max=27.0), HTML(value='')))",
      "application/vnd.jupyter.widget-view+json": {
       "version_major": 2,
       "version_minor": 0,
       "model_id": "4024049bc90a49e5aacea463be23d153"
      }
     },
     "metadata": {},
     "output_type": "display_data"
    },
    {
     "name": "stdout",
     "output_type": "stream",
     "text": [
      "9.34199503253212 0.2557544757033248\n",
      "9.032755394647985 0.26342710997442453\n",
      "9.934594391116141 0.2672634271099744\n",
      "8.005957105778027 0.4106217616580311\n",
      "8.582860427820876 0.4209844559585492\n",
      "8.396687534131026 0.44041450777202074\n",
      "8.67185741226662 0.23657289002557544\n",
      "8.71863962976495 0.2391304347826087\n",
      "9.229138295634463 0.2647058823529412\n",
      "9.774904691784494 0.2710997442455243\n",
      "9.482812228975918 0.2531969309462916\n",
      "9.952761078080774 0.2672634271099744\n",
      "9.722628181707474 0.2557544757033248\n",
      "9.676251923694384 0.2608695652173913\n",
      "9.789007170720733 0.26214833759590794\n",
      "8.90842353097514 0.37176165803108807\n",
      "7.063453962017488 0.36658031088082904\n",
      "8.125953774131526 0.3484455958549223\n",
      "7.375270225997397 0.3963730569948187\n",
      "7.3354463271299934 0.34974093264248707\n",
      "7.6611592817637435 0.41580310880829013\n",
      "10.22284512705969 0.27458492975734355\n",
      "8.303335305251016 0.23499361430395913\n",
      "8.681814495990746 0.24265644955300128\n",
      "47.884210652409855 0.859514687100894\n",
      "110.79142086804924 1.9118773946360152\n",
      "56.15459466034176 0.979565772669221\n",
      "\n"
     ]
    }
   ],
   "source": [
    "from collections import defaultdict\n",
    "\n",
    "\n",
    "for experiment in tqdm(experiments):\n",
    "    all_raw = []\n",
    "    em = 0.0\n",
    "    with open(experiment['file']) as f:\n",
    "        for line in f:\n",
    "            partial_results = json.loads(line)\n",
    "            all_raw.extend(partial_results['test']['raw'])\n",
    "\n",
    "    experiment[\"EM\"] = np.mean([rec[2] for rec in all_raw])\n",
    "    experiment[\"raw\"] = all_raw\n",
    "\n",
    "    gold = defaultdict(lambda: defaultdict(list))\n",
    "    for instance in experiment[\"raw\"]:\n",
    "        query_type = instance[3][\"instance\"][\"metadata\"][\"query_type\"]\n",
    "        question = instance[3][\"instance\"][\"question\"]\n",
    "\n",
    "        #if instance[3][\"instance\"][\"metadata\"][\"query_type\"] in  {\"min/max\", \"count\", \"set\"}:\n",
    "        question = question+\"_{}\".format(instance[3]['instance']['db_id'])\n",
    "        gold[query_type][question].append((instance[0], instance[1]))\n",
    "\n",
    "\n",
    "    aem = 0\n",
    "    aem_count = 0\n",
    "\n",
    "    scores = defaultdict(int)\n",
    "    counts = defaultdict(int)\n",
    "\n",
    "    count_acts = []\n",
    "    count_preds = []\n",
    "    for t, questions in gold.items():\n",
    "\n",
    "        if t in {\"atomic_boolean\",\"join_boolean\", \"atomic_extractive\",\"join_extractive\"}:\n",
    "            for question, answers in questions.items():\n",
    "                correct = set()\n",
    "                predicted = set()\n",
    "\n",
    "                for answer in answers:\n",
    "                    if answer[0] != \"[NULL_ANSWER]\":\n",
    "                        predicted.add(answer[0])\n",
    "\n",
    "                    if answer[1] != \"[NULL_ANSWER]\":\n",
    "                        correct.add(answer[1])\n",
    "\n",
    "                aem_count+=1\n",
    "                #counts[t]+=1\n",
    "\n",
    "                aem +=1.0 if f1(correct,predicted) == 1.0 else 0\n",
    "                #scores[t] += 1.0 if f1(correct,predicted) == 1.0 else 0\n",
    "\n",
    "\n",
    "                scores[t+\"_recall\"] += recall(correct,predicted)\n",
    "                scores[t+\"_f1\"] += f1(correct,predicted)\n",
    "                scores[t+\"_em\"] += 1.0 if f1(correct,predicted) == 1.0 else 0\n",
    "\n",
    "                counts[t+\"_recall\"]+=1\n",
    "                counts[t+\"_f1\"]+=1\n",
    "                counts[t+\"_em\"]+=1\n",
    "\n",
    "                if \"atomic\" in t:\n",
    "                    counts[\"all_atomic\"] += 1\n",
    "                    scores[\"all_atomic\"] += 1.0 if f1(correct,predicted) == 1.0 else 0\n",
    "                elif \"join\" in t:\n",
    "                    counts[\"all_join\"] += 1\n",
    "                    scores[\"all_join\"] += 1.0 if f1(correct,predicted) == 1.0 else 0\n",
    "\n",
    "                    # if answer[0] == \"[NULL_ANSWER]\":\n",
    "                    #     continue\n",
    "                    # aem_count +=1\n",
    "                    # counts[t] += 1\n",
    "                    #\n",
    "                    # if answer[0] == answer[1]:\n",
    "                    #     aem += 1\n",
    "                    #     scores[t]+=1\n",
    "        elif t == \"min/max\":\n",
    "\n",
    "            for question, answers in questions.items():\n",
    "\n",
    "                argmin_aggr_gold = defaultdict(list)\n",
    "                argmin_aggr_pred = defaultdict(list)\n",
    "                for answer in answers:\n",
    "                    if answer[0] != \"[NULL_ANSWER]\" and \"[LIST]\" in answer[0]:\n",
    "                        key,value = answer[0].split(\"[LIST]\",maxsplit=1)\n",
    "                        argmin_aggr_pred[key.strip()] = value.strip()\n",
    "\n",
    "                    if answer[1] != \"[NULL_ANSWER]\":\n",
    "                        key,value = answer[1].split(\"[LIST]\",maxsplit=1)\n",
    "                        argmin_aggr_gold[key.strip()] = value.strip()\n",
    "\n",
    "                min_item_gold = sorted(argmin_aggr_gold.items(),key=lambda item: item[1])\n",
    "                min_item_pred = sorted(argmin_aggr_pred.items(),key=lambda item: item[1])\n",
    "\n",
    "                max_item_gold = sorted(argmin_aggr_gold.items(),key=lambda item: item[1],reverse=True)\n",
    "                max_item_pred = sorted(argmin_aggr_pred.items(),key=lambda item: item[1],reverse=True)\n",
    "\n",
    "                aem_count +=1\n",
    "                counts[t] +=1\n",
    "                if len(min_item_pred) and len(max_item_pred):\n",
    "                    if min_item_gold[0][0] == min_item_pred[0][0] or max_item_gold[0][0] == max_item_pred[0][0]:\n",
    "                        aem+=1\n",
    "                        scores[t]+=1\n",
    "\n",
    "\n",
    "        elif t == \"set\":\n",
    "\n",
    "            for question, answers in questions.items():\n",
    "                set_gold = set()\n",
    "                set_pred = set()\n",
    "                for answer in answers:\n",
    "                    if answer[0] != \"[NULL_ANSWER]\":\n",
    "                        set_pred.add(answer[0].strip())\n",
    "\n",
    "                    if answer[1] != \"[NULL_ANSWER]\":\n",
    "                        set_gold.add(answer[1].strip())\n",
    "\n",
    "                aem_count +=1\n",
    "                counts[t] +=1\n",
    "                aem += f1(set_gold, set_pred)\n",
    "                scores[t] += f1(set_gold, set_pred)\n",
    "\n",
    "\n",
    "        elif t == \"count\":\n",
    "            for question, answers in questions.items():\n",
    "\n",
    "                set_gold = set()\n",
    "                set_pred = set()\n",
    "                for answer in answers:\n",
    "                    if answer[0] != \"[NULL_ANSWER]\" and answer[0] != \"0\":\n",
    "                        set_pred.add(answer[0].strip())\n",
    "\n",
    "                    if answer[1] != \"[NULL_ANSWER]\" and answer[1] != \"0\":\n",
    "                        set_gold.add(answer[1].strip())\n",
    "\n",
    "\n",
    "                aem_count +=1\n",
    "                aem += 1 if len(set_gold) == len(set_pred) else 0\n",
    "                scores[t] += 1 if len(set_gold) == len(set_pred) else 0\n",
    "                counts[t] += 1\n",
    "\n",
    "                count_acts.append(len(set_gold))\n",
    "                count_preds.append(len(set_pred))\n",
    "\n",
    "\n",
    "    ape = sum([abs(act-pred)/act if act else 0 for act,pred in zip(count_acts,count_preds)])/len(count_preds)*100\n",
    "    aae = sum([abs(act-pred) if act else 0 for act,pred in zip(count_acts,count_preds)])/len(count_preds)\n",
    "    experiment[\"A_count_ape\"] = ape\n",
    "    experiment[\"A_count_aae\"] = aae\n",
    "    print(ape,aae)\n",
    "    for k,v in counts.items():\n",
    "        experiment[\"A_type_{}\".format(k)] = scores[k]/v\n",
    "\n",
    "    experiment[\"A_EM\"] =aem/aem_count"
   ]
  },
  {
   "cell_type": "code",
   "execution_count": 138,
   "metadata": {
    "pycharm": {
     "name": "#%%\n"
    }
   },
   "outputs": [
    {
     "name": "stdout",
     "output_type": "stream",
     "text": [
      "[]\n"
     ]
    },
    {
     "data": {
      "text/plain": "                                            A_EM           A_count_ape  \\\n                                            mean       std        mean   \nexperiment model   lr   method                                           \nssg_final  t5-base 4e-4 both            0.868217  0.004944   24.936061   \n                        ds              0.867029  0.001569   26.342711   \n                        duo_both        0.824720  0.015811  129.118774   \n                        duo_ds          0.934104  0.003107   25.117071   \n                        duo_supervised  0.945773  0.001063   38.816926   \n                        fix_both        0.910832  0.006640   26.555840   \n                        fix_ds          0.913015  0.000879   26.172208   \n                        fix_supervised  0.942161  0.004047   36.658031   \n                        supervised      0.896910  0.001814   42.530225   \n\n                                                  A_type_all_atomic            \\\n                                              std              mean       std   \nexperiment model   lr   method                                                  \nssg_final  t5-base 4e-4 both             1.672212          0.890840  0.009040   \n                        ds               0.586007          0.892390  0.002329   \n                        duo_both        58.540919          0.957062  0.008304   \n                        duo_ds           2.076415          0.984141  0.000686   \n                        duo_supervised   3.341199          0.985955  0.002469   \n                        fix_both         0.993280          0.975723  0.006284   \n                        fix_ds           0.295320          0.978994  0.002088   \n                        fix_supervised   1.187196          0.987268  0.003232   \n                        supervised       1.512459          0.927289  0.001218   \n\n                                       A_type_all_join            \\\n                                                  mean       std   \nexperiment model   lr   method                                     \nssg_final  t5-base 4e-4 both                  0.691304  0.027152   \n                        ds                    0.685507  0.013283   \n                        duo_both              0.866667  0.022222   \n                        duo_ds                0.910053  0.006608   \n                        duo_supervised        0.971609  0.003155   \n                        fix_both              0.700000  0.041929   \n                        fix_ds                0.702899  0.015269   \n                        fix_supervised        0.969506  0.001821   \n                        supervised            0.806519  0.001821   \n\n                                       A_type_atomic_boolean_em            \\\n                                                           mean       std   \nexperiment model   lr   method                                              \nssg_final  t5-base 4e-4 both                           0.909950  0.011202   \n                        ds                             0.914925  0.003253   \n                        duo_both                       0.971166  0.001840   \n                        duo_ds                         0.988548  0.000937   \n                        duo_supervised                 0.988569  0.001968   \n                        fix_both                       0.980348  0.004856   \n                        fix_ds                         0.983831  0.001140   \n                        fix_supervised                 0.991342  0.001636   \n                        supervised                     0.966811  0.001889   \n\n                                       A_type_atomic_boolean_f1            \\\n                                                           mean       std   \nexperiment model   lr   method                                              \nssg_final  t5-base 4e-4 both                           0.962687  0.004422   \n                        ds                             0.964179  0.000746   \n                        duo_both                       0.976074  0.002075   \n                        duo_ds                         0.989775  0.000937   \n                        duo_supervised                 0.989658  0.001712   \n                        fix_both                       0.988972  0.001370   \n                        fix_ds                         0.990796  0.001140   \n                        fix_supervised                 0.993129  0.001135   \n                        supervised                     0.979317  0.002271   \n\n                                       A_type_atomic_boolean_recall            \\\n                                                               mean       std   \nexperiment model   lr   method                                                  \nssg_final  t5-base 4e-4 both                               0.996269  0.001974   \n                        ds                                 0.996269  0.000746   \n                        duo_both                           0.986503  0.001840   \n                        duo_ds                             0.996319  0.000613   \n                        duo_supervised                     0.993672  0.000935   \n                        fix_both                           0.997264  0.001878   \n                        fix_ds                             0.996766  0.000862   \n                        fix_supervised                     0.996289  0.000618   \n                        supervised                         0.994434  0.000618   \n\n                                       A_type_atomic_extractive_em            \\\n                                                              mean       std   \nexperiment model   lr   method                                                 \nssg_final  t5-base 4e-4 both                              0.847875  0.004223   \n                        ds                                0.841723  0.003493   \n                        duo_both                          0.918618  0.026878   \n                        duo_ds                            0.972129  0.002554   \n                        duo_supervised                    0.978818  0.003862   \n                        fix_both                          0.965324  0.011172   \n                        fix_ds                            0.968121  0.006050   \n                        fix_supervised                    0.975420  0.008110   \n                        supervised                        0.812350  0.007269   \n\n                                       A_type_atomic_extractive_f1            \\\n                                                              mean       std   \nexperiment model   lr   method                                                 \nssg_final  t5-base 4e-4 both                              0.926460  0.004500   \n                        ds                                0.921839  0.002847   \n                        duo_both                          0.921590  0.027514   \n                        duo_ds                            0.973987  0.003070   \n                        duo_supervised                    0.981791  0.004221   \n                        fix_both                          0.980425  0.001957   \n                        fix_ds                            0.978859  0.003594   \n                        fix_supervised                    0.984213  0.004500   \n                        supervised                        0.913860  0.003577   \n\n                                       A_type_atomic_extractive_recall  \\\n                                                                  mean   \nexperiment model   lr   method                                           \nssg_final  t5-base 4e-4 both                                  0.989933   \n                        ds                                    0.987136   \n                        duo_both                              0.928094   \n                        duo_ds                                0.978261   \n                        duo_supervised                        0.986622   \n                        fix_both                              0.989933   \n                        fix_ds                                0.986018   \n                        fix_supervised                        0.989209   \n                        supervised                            0.974221   \n\n                                                 A_type_count            \\\n                                             std         mean       std   \nexperiment model   lr   method                                            \nssg_final  t5-base 4e-4 both            0.004439     0.806479  0.009598   \n                        ds              0.000969     0.800512  0.003383   \n                        duo_both        0.028131     0.576841  0.055380   \n                        duo_ds          0.003344     0.804172  0.015343   \n                        duo_supervised  0.003344     0.811744  0.001496   \n                        fix_both        0.006050     0.795823  0.009767   \n                        fix_ds          0.003493     0.794544  0.005168   \n                        fix_supervised  0.001799     0.793178  0.010863   \n                        supervised      0.001038     0.802245  0.005235   \n\n                                       A_type_join_boolean_em            \\\n                                                         mean       std   \nexperiment model   lr   method                                            \nssg_final  t5-base 4e-4 both                         0.755411  0.007498   \n                        ds                           0.783550  0.009919   \n                        duo_both                     0.914493  0.021447   \n                        duo_ds                       0.926087  0.008696   \n                        duo_supervised               0.985632  0.002489   \n                        fix_both                     0.764069  0.048737   \n                        fix_ds                       0.766234  0.019481   \n                        fix_supervised               0.977011  0.002489   \n                        supervised                   0.867816  0.006584   \n\n                                       A_type_join_boolean_f1            \\\n                                                         mean       std   \nexperiment model   lr   method                                            \nssg_final  t5-base 4e-4 both                         0.893939  0.004329   \n                        ds                           0.901876  0.004506   \n                        duo_both                     0.921256  0.028115   \n                        duo_ds                       0.929952  0.008855   \n                        duo_supervised               0.991379  0.002489   \n                        fix_both                     0.899711  0.012683   \n                        fix_ds                       0.896104  0.009919   \n                        fix_supervised               0.985632  0.002489   \n                        supervised                   0.939655  0.006584   \n\n                                       A_type_join_boolean_recall            \\\n                                                             mean       std   \nexperiment model   lr   method                                                \nssg_final  t5-base 4e-4 both                             0.976190  0.009919   \n                        ds                               0.974026  0.006494   \n                        duo_both                         0.939130  0.030123   \n                        duo_ds                           0.943478  0.007531   \n                        duo_supervised                   0.995690  0.000000   \n                        fix_both                         0.984848  0.009919   \n                        fix_ds                           0.976190  0.007498   \n                        fix_supervised                   0.989943  0.002489   \n                        supervised                       0.995690  0.004310   \n\n                                       A_type_join_extractive_em            \\\n                                                            mean       std   \nexperiment model   lr   method                                               \nssg_final  t5-base 4e-4 both                            0.561404  0.067521   \n                        ds                              0.486842  0.022790   \n                        duo_both                        0.737255  0.024490   \n                        duo_ds                          0.866667  0.017971   \n                        duo_supervised                  0.933333  0.006792   \n                        fix_both                        0.570175  0.033113   \n                        fix_ds                          0.574561  0.007597   \n                        fix_supervised                  0.949020  0.006792   \n                        supervised                      0.639216  0.013585   \n\n                                       A_type_join_extractive_f1            \\\n                                                            mean       std   \nexperiment model   lr   method                                               \nssg_final  t5-base 4e-4 both                            0.817105  0.029979   \n                        ds                              0.786404  0.002321   \n                        duo_both                        0.763399  0.015849   \n                        duo_ds                          0.869281  0.019345   \n                        duo_supervised                  0.938562  0.002264   \n                        fix_both                        0.812061  0.035099   \n                        fix_ds                          0.825000  0.001519   \n                        fix_supervised                  0.955817  0.002521   \n                        supervised                      0.844052  0.003644   \n\n                                       A_type_join_extractive_recall  \\\n                                                                mean   \nexperiment model   lr   method                                         \nssg_final  t5-base 4e-4 both                                0.986842   \n                        ds                                  0.986842   \n                        duo_both                            0.780392   \n                        duo_ds                              0.870588   \n                        duo_supervised                      0.941176   \n                        fix_both                            0.969298   \n                        fix_ds                              0.978070   \n                        fix_supervised                      0.964706   \n                        supervised                          0.964706   \n\n                                                 A_type_min/max            \\\n                                             std           mean       std   \nexperiment model   lr   method                                              \nssg_final  t5-base 4e-4 both            0.000000       1.000000  0.000000   \n                        ds              0.000000       1.000000  0.000000   \n                        duo_both        0.013585       0.846939  0.079696   \n                        duo_ds          0.020377       1.000000  0.000000   \n                        duo_supervised  0.000000       1.000000  0.000000   \n                        fix_both        0.007597       1.000000  0.000000   \n                        fix_ds          0.007597       1.000000  0.000000   \n                        fix_supervised  0.000000       1.000000  0.000000   \n                        supervised      0.000000       1.000000  0.000000   \n\n                                       A_type_set                  EM  \\\n                                             mean       std      mean   \nexperiment model   lr   method                                          \nssg_final  t5-base 4e-4 both             0.909677  0.000955  0.932969   \n                        ds               0.907696  0.001547  0.933806   \n                        duo_both         0.676367  0.040250  0.753972   \n                        duo_ds           0.923085  0.002631  0.972587   \n                        duo_supervised   0.946188  0.002079  0.945619   \n                        fix_both         0.916053  0.005117  0.964665   \n                        fix_ds           0.919071  0.000668  0.964497   \n                        fix_supervised   0.945610  0.003419  0.945659   \n                        supervised       0.930091  0.001403  0.919733   \n\n                                                  \n                                             std  \nexperiment model   lr   method                    \nssg_final  t5-base 4e-4 both            0.001253  \n                        ds              0.001185  \n                        duo_both        0.041289  \n                        duo_ds          0.000397  \n                        duo_supervised  0.000684  \n                        fix_both        0.001509  \n                        fix_ds          0.001263  \n                        fix_supervised  0.002227  \n                        supervised      0.000573  ",
      "text/html": "<div>\n<style scoped>\n    .dataframe tbody tr th:only-of-type {\n        vertical-align: middle;\n    }\n\n    .dataframe tbody tr th {\n        vertical-align: top;\n    }\n\n    .dataframe thead tr th {\n        text-align: left;\n    }\n\n    .dataframe thead tr:last-of-type th {\n        text-align: right;\n    }\n</style>\n<table border=\"1\" class=\"dataframe\">\n  <thead>\n    <tr>\n      <th></th>\n      <th></th>\n      <th></th>\n      <th></th>\n      <th colspan=\"2\" halign=\"left\">A_EM</th>\n      <th colspan=\"2\" halign=\"left\">A_count_ape</th>\n      <th colspan=\"2\" halign=\"left\">A_type_all_atomic</th>\n      <th colspan=\"2\" halign=\"left\">A_type_all_join</th>\n      <th colspan=\"2\" halign=\"left\">A_type_atomic_boolean_em</th>\n      <th colspan=\"2\" halign=\"left\">A_type_atomic_boolean_f1</th>\n      <th colspan=\"2\" halign=\"left\">A_type_atomic_boolean_recall</th>\n      <th colspan=\"2\" halign=\"left\">A_type_atomic_extractive_em</th>\n      <th colspan=\"2\" halign=\"left\">A_type_atomic_extractive_f1</th>\n      <th colspan=\"2\" halign=\"left\">A_type_atomic_extractive_recall</th>\n      <th colspan=\"2\" halign=\"left\">A_type_count</th>\n      <th colspan=\"2\" halign=\"left\">A_type_join_boolean_em</th>\n      <th colspan=\"2\" halign=\"left\">A_type_join_boolean_f1</th>\n      <th colspan=\"2\" halign=\"left\">A_type_join_boolean_recall</th>\n      <th colspan=\"2\" halign=\"left\">A_type_join_extractive_em</th>\n      <th colspan=\"2\" halign=\"left\">A_type_join_extractive_f1</th>\n      <th colspan=\"2\" halign=\"left\">A_type_join_extractive_recall</th>\n      <th colspan=\"2\" halign=\"left\">A_type_min/max</th>\n      <th colspan=\"2\" halign=\"left\">A_type_set</th>\n      <th colspan=\"2\" halign=\"left\">EM</th>\n    </tr>\n    <tr>\n      <th></th>\n      <th></th>\n      <th></th>\n      <th></th>\n      <th>mean</th>\n      <th>std</th>\n      <th>mean</th>\n      <th>std</th>\n      <th>mean</th>\n      <th>std</th>\n      <th>mean</th>\n      <th>std</th>\n      <th>mean</th>\n      <th>std</th>\n      <th>mean</th>\n      <th>std</th>\n      <th>mean</th>\n      <th>std</th>\n      <th>mean</th>\n      <th>std</th>\n      <th>mean</th>\n      <th>std</th>\n      <th>mean</th>\n      <th>std</th>\n      <th>mean</th>\n      <th>std</th>\n      <th>mean</th>\n      <th>std</th>\n      <th>mean</th>\n      <th>std</th>\n      <th>mean</th>\n      <th>std</th>\n      <th>mean</th>\n      <th>std</th>\n      <th>mean</th>\n      <th>std</th>\n      <th>mean</th>\n      <th>std</th>\n      <th>mean</th>\n      <th>std</th>\n      <th>mean</th>\n      <th>std</th>\n      <th>mean</th>\n      <th>std</th>\n    </tr>\n    <tr>\n      <th>experiment</th>\n      <th>model</th>\n      <th>lr</th>\n      <th>method</th>\n      <th></th>\n      <th></th>\n      <th></th>\n      <th></th>\n      <th></th>\n      <th></th>\n      <th></th>\n      <th></th>\n      <th></th>\n      <th></th>\n      <th></th>\n      <th></th>\n      <th></th>\n      <th></th>\n      <th></th>\n      <th></th>\n      <th></th>\n      <th></th>\n      <th></th>\n      <th></th>\n      <th></th>\n      <th></th>\n      <th></th>\n      <th></th>\n      <th></th>\n      <th></th>\n      <th></th>\n      <th></th>\n      <th></th>\n      <th></th>\n      <th></th>\n      <th></th>\n      <th></th>\n      <th></th>\n      <th></th>\n      <th></th>\n      <th></th>\n      <th></th>\n      <th></th>\n      <th></th>\n    </tr>\n  </thead>\n  <tbody>\n    <tr>\n      <th rowspan=\"9\" valign=\"top\">ssg_final</th>\n      <th rowspan=\"9\" valign=\"top\">t5-base</th>\n      <th rowspan=\"9\" valign=\"top\">4e-4</th>\n      <th>both</th>\n      <td>0.868217</td>\n      <td>0.004944</td>\n      <td>24.936061</td>\n      <td>1.672212</td>\n      <td>0.890840</td>\n      <td>0.009040</td>\n      <td>0.691304</td>\n      <td>0.027152</td>\n      <td>0.909950</td>\n      <td>0.011202</td>\n      <td>0.962687</td>\n      <td>0.004422</td>\n      <td>0.996269</td>\n      <td>0.001974</td>\n      <td>0.847875</td>\n      <td>0.004223</td>\n      <td>0.926460</td>\n      <td>0.004500</td>\n      <td>0.989933</td>\n      <td>0.004439</td>\n      <td>0.806479</td>\n      <td>0.009598</td>\n      <td>0.755411</td>\n      <td>0.007498</td>\n      <td>0.893939</td>\n      <td>0.004329</td>\n      <td>0.976190</td>\n      <td>0.009919</td>\n      <td>0.561404</td>\n      <td>0.067521</td>\n      <td>0.817105</td>\n      <td>0.029979</td>\n      <td>0.986842</td>\n      <td>0.000000</td>\n      <td>1.000000</td>\n      <td>0.000000</td>\n      <td>0.909677</td>\n      <td>0.000955</td>\n      <td>0.932969</td>\n      <td>0.001253</td>\n    </tr>\n    <tr>\n      <th>ds</th>\n      <td>0.867029</td>\n      <td>0.001569</td>\n      <td>26.342711</td>\n      <td>0.586007</td>\n      <td>0.892390</td>\n      <td>0.002329</td>\n      <td>0.685507</td>\n      <td>0.013283</td>\n      <td>0.914925</td>\n      <td>0.003253</td>\n      <td>0.964179</td>\n      <td>0.000746</td>\n      <td>0.996269</td>\n      <td>0.000746</td>\n      <td>0.841723</td>\n      <td>0.003493</td>\n      <td>0.921839</td>\n      <td>0.002847</td>\n      <td>0.987136</td>\n      <td>0.000969</td>\n      <td>0.800512</td>\n      <td>0.003383</td>\n      <td>0.783550</td>\n      <td>0.009919</td>\n      <td>0.901876</td>\n      <td>0.004506</td>\n      <td>0.974026</td>\n      <td>0.006494</td>\n      <td>0.486842</td>\n      <td>0.022790</td>\n      <td>0.786404</td>\n      <td>0.002321</td>\n      <td>0.986842</td>\n      <td>0.000000</td>\n      <td>1.000000</td>\n      <td>0.000000</td>\n      <td>0.907696</td>\n      <td>0.001547</td>\n      <td>0.933806</td>\n      <td>0.001185</td>\n    </tr>\n    <tr>\n      <th>duo_both</th>\n      <td>0.824720</td>\n      <td>0.015811</td>\n      <td>129.118774</td>\n      <td>58.540919</td>\n      <td>0.957062</td>\n      <td>0.008304</td>\n      <td>0.866667</td>\n      <td>0.022222</td>\n      <td>0.971166</td>\n      <td>0.001840</td>\n      <td>0.976074</td>\n      <td>0.002075</td>\n      <td>0.986503</td>\n      <td>0.001840</td>\n      <td>0.918618</td>\n      <td>0.026878</td>\n      <td>0.921590</td>\n      <td>0.027514</td>\n      <td>0.928094</td>\n      <td>0.028131</td>\n      <td>0.576841</td>\n      <td>0.055380</td>\n      <td>0.914493</td>\n      <td>0.021447</td>\n      <td>0.921256</td>\n      <td>0.028115</td>\n      <td>0.939130</td>\n      <td>0.030123</td>\n      <td>0.737255</td>\n      <td>0.024490</td>\n      <td>0.763399</td>\n      <td>0.015849</td>\n      <td>0.780392</td>\n      <td>0.013585</td>\n      <td>0.846939</td>\n      <td>0.079696</td>\n      <td>0.676367</td>\n      <td>0.040250</td>\n      <td>0.753972</td>\n      <td>0.041289</td>\n    </tr>\n    <tr>\n      <th>duo_ds</th>\n      <td>0.934104</td>\n      <td>0.003107</td>\n      <td>25.117071</td>\n      <td>2.076415</td>\n      <td>0.984141</td>\n      <td>0.000686</td>\n      <td>0.910053</td>\n      <td>0.006608</td>\n      <td>0.988548</td>\n      <td>0.000937</td>\n      <td>0.989775</td>\n      <td>0.000937</td>\n      <td>0.996319</td>\n      <td>0.000613</td>\n      <td>0.972129</td>\n      <td>0.002554</td>\n      <td>0.973987</td>\n      <td>0.003070</td>\n      <td>0.978261</td>\n      <td>0.003344</td>\n      <td>0.804172</td>\n      <td>0.015343</td>\n      <td>0.926087</td>\n      <td>0.008696</td>\n      <td>0.929952</td>\n      <td>0.008855</td>\n      <td>0.943478</td>\n      <td>0.007531</td>\n      <td>0.866667</td>\n      <td>0.017971</td>\n      <td>0.869281</td>\n      <td>0.019345</td>\n      <td>0.870588</td>\n      <td>0.020377</td>\n      <td>1.000000</td>\n      <td>0.000000</td>\n      <td>0.923085</td>\n      <td>0.002631</td>\n      <td>0.972587</td>\n      <td>0.000397</td>\n    </tr>\n    <tr>\n      <th>duo_supervised</th>\n      <td>0.945773</td>\n      <td>0.001063</td>\n      <td>38.816926</td>\n      <td>3.341199</td>\n      <td>0.985955</td>\n      <td>0.002469</td>\n      <td>0.971609</td>\n      <td>0.003155</td>\n      <td>0.988569</td>\n      <td>0.001968</td>\n      <td>0.989658</td>\n      <td>0.001712</td>\n      <td>0.993672</td>\n      <td>0.000935</td>\n      <td>0.978818</td>\n      <td>0.003862</td>\n      <td>0.981791</td>\n      <td>0.004221</td>\n      <td>0.986622</td>\n      <td>0.003344</td>\n      <td>0.811744</td>\n      <td>0.001496</td>\n      <td>0.985632</td>\n      <td>0.002489</td>\n      <td>0.991379</td>\n      <td>0.002489</td>\n      <td>0.995690</td>\n      <td>0.000000</td>\n      <td>0.933333</td>\n      <td>0.006792</td>\n      <td>0.938562</td>\n      <td>0.002264</td>\n      <td>0.941176</td>\n      <td>0.000000</td>\n      <td>1.000000</td>\n      <td>0.000000</td>\n      <td>0.946188</td>\n      <td>0.002079</td>\n      <td>0.945619</td>\n      <td>0.000684</td>\n    </tr>\n    <tr>\n      <th>fix_both</th>\n      <td>0.910832</td>\n      <td>0.006640</td>\n      <td>26.555840</td>\n      <td>0.993280</td>\n      <td>0.975723</td>\n      <td>0.006284</td>\n      <td>0.700000</td>\n      <td>0.041929</td>\n      <td>0.980348</td>\n      <td>0.004856</td>\n      <td>0.988972</td>\n      <td>0.001370</td>\n      <td>0.997264</td>\n      <td>0.001878</td>\n      <td>0.965324</td>\n      <td>0.011172</td>\n      <td>0.980425</td>\n      <td>0.001957</td>\n      <td>0.989933</td>\n      <td>0.006050</td>\n      <td>0.795823</td>\n      <td>0.009767</td>\n      <td>0.764069</td>\n      <td>0.048737</td>\n      <td>0.899711</td>\n      <td>0.012683</td>\n      <td>0.984848</td>\n      <td>0.009919</td>\n      <td>0.570175</td>\n      <td>0.033113</td>\n      <td>0.812061</td>\n      <td>0.035099</td>\n      <td>0.969298</td>\n      <td>0.007597</td>\n      <td>1.000000</td>\n      <td>0.000000</td>\n      <td>0.916053</td>\n      <td>0.005117</td>\n      <td>0.964665</td>\n      <td>0.001509</td>\n    </tr>\n    <tr>\n      <th>fix_ds</th>\n      <td>0.913015</td>\n      <td>0.000879</td>\n      <td>26.172208</td>\n      <td>0.295320</td>\n      <td>0.978994</td>\n      <td>0.002088</td>\n      <td>0.702899</td>\n      <td>0.015269</td>\n      <td>0.983831</td>\n      <td>0.001140</td>\n      <td>0.990796</td>\n      <td>0.001140</td>\n      <td>0.996766</td>\n      <td>0.000862</td>\n      <td>0.968121</td>\n      <td>0.006050</td>\n      <td>0.978859</td>\n      <td>0.003594</td>\n      <td>0.986018</td>\n      <td>0.003493</td>\n      <td>0.794544</td>\n      <td>0.005168</td>\n      <td>0.766234</td>\n      <td>0.019481</td>\n      <td>0.896104</td>\n      <td>0.009919</td>\n      <td>0.976190</td>\n      <td>0.007498</td>\n      <td>0.574561</td>\n      <td>0.007597</td>\n      <td>0.825000</td>\n      <td>0.001519</td>\n      <td>0.978070</td>\n      <td>0.007597</td>\n      <td>1.000000</td>\n      <td>0.000000</td>\n      <td>0.919071</td>\n      <td>0.000668</td>\n      <td>0.964497</td>\n      <td>0.001263</td>\n    </tr>\n    <tr>\n      <th>fix_supervised</th>\n      <td>0.942161</td>\n      <td>0.004047</td>\n      <td>36.658031</td>\n      <td>1.187196</td>\n      <td>0.987268</td>\n      <td>0.003232</td>\n      <td>0.969506</td>\n      <td>0.001821</td>\n      <td>0.991342</td>\n      <td>0.001636</td>\n      <td>0.993129</td>\n      <td>0.001135</td>\n      <td>0.996289</td>\n      <td>0.000618</td>\n      <td>0.975420</td>\n      <td>0.008110</td>\n      <td>0.984213</td>\n      <td>0.004500</td>\n      <td>0.989209</td>\n      <td>0.001799</td>\n      <td>0.793178</td>\n      <td>0.010863</td>\n      <td>0.977011</td>\n      <td>0.002489</td>\n      <td>0.985632</td>\n      <td>0.002489</td>\n      <td>0.989943</td>\n      <td>0.002489</td>\n      <td>0.949020</td>\n      <td>0.006792</td>\n      <td>0.955817</td>\n      <td>0.002521</td>\n      <td>0.964706</td>\n      <td>0.000000</td>\n      <td>1.000000</td>\n      <td>0.000000</td>\n      <td>0.945610</td>\n      <td>0.003419</td>\n      <td>0.945659</td>\n      <td>0.002227</td>\n    </tr>\n    <tr>\n      <th>supervised</th>\n      <td>0.896910</td>\n      <td>0.001814</td>\n      <td>42.530225</td>\n      <td>1.512459</td>\n      <td>0.927289</td>\n      <td>0.001218</td>\n      <td>0.806519</td>\n      <td>0.001821</td>\n      <td>0.966811</td>\n      <td>0.001889</td>\n      <td>0.979317</td>\n      <td>0.002271</td>\n      <td>0.994434</td>\n      <td>0.000618</td>\n      <td>0.812350</td>\n      <td>0.007269</td>\n      <td>0.913860</td>\n      <td>0.003577</td>\n      <td>0.974221</td>\n      <td>0.001038</td>\n      <td>0.802245</td>\n      <td>0.005235</td>\n      <td>0.867816</td>\n      <td>0.006584</td>\n      <td>0.939655</td>\n      <td>0.006584</td>\n      <td>0.995690</td>\n      <td>0.004310</td>\n      <td>0.639216</td>\n      <td>0.013585</td>\n      <td>0.844052</td>\n      <td>0.003644</td>\n      <td>0.964706</td>\n      <td>0.000000</td>\n      <td>1.000000</td>\n      <td>0.000000</td>\n      <td>0.930091</td>\n      <td>0.001403</td>\n      <td>0.919733</td>\n      <td>0.000573</td>\n    </tr>\n  </tbody>\n</table>\n</div>"
     },
     "execution_count": 138,
     "metadata": {},
     "output_type": "execute_result"
    }
   ],
   "source": [
    "results = pd.DataFrame(experiments).fillna(0)\n",
    "\n",
    "cols = {col:[np.mean, np.std] for col in filter(lambda col: col == \"A_EM\" or col == \"EM\" or col.startswith(\"A_\") or col.startswith(\"prop_\") or col.startswith(\"type_\"),results.columns)}\n",
    "cols.update({col:[np.max] for col in filter(lambda col: col.startswith(\"count_type_negative\"), results.columns)})\n",
    "breakdown_cols = list(filter(lambda col: col.startswith(\"prop_\"),results.columns))\n",
    "type_cols = list(filter(lambda col: (col.startswith(\"type_\") and \"negative\" not in col) or col.startswith(\"x\"),results.columns))\n",
    "print(type_cols)\n",
    "type_cols2 = list(filter(lambda col: col.startswith(\"type_\") and \"negative\" not in col or col == \"x_avg_negative\",results.columns))\n",
    "a_type_cols = list(filter(lambda col: col.startswith(\"A_type_\") and \"negative\" not in col or col == \"x_avg_negative\",results.columns))\n",
    "type_cols3 = list(filter(lambda col: \"count\" not in col and  \"negative\" in col,results.columns))\n",
    "type_cols4 = list(filter(lambda col: col.startswith(\"type_\") and \"negative\" not in col,results.columns))\n",
    "breakdown = pd.pivot_table(results, index=[\"experiment\",\"model\",\"lr\", \"method\"],columns=[],aggfunc=cols)\n",
    "#pd.option_context(\"display.max_rows\",None)\n",
    "pd.options.display.max_rows = 150\n",
    "pd.options.display.max_columns = 150\n",
    "breakdown\n"
   ]
  }
 ],
 "metadata": {
  "kernelspec": {
   "name": "neuraldb",
   "language": "python",
   "display_name": "neuraldb"
  },
  "language_info": {
   "codemirror_mode": {
    "name": "ipython",
    "version": 3
   },
   "file_extension": ".py",
   "mimetype": "text/x-python",
   "name": "python",
   "nbconvert_exporter": "python",
   "pygments_lexer": "ipython3",
   "version": "3.7.7"
  }
 },
 "nbformat": 4,
 "nbformat_minor": 1
}