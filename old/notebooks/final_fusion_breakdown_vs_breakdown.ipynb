{
 "cells": [
  {
   "cell_type": "code",
   "execution_count": 77,
   "metadata": {
    "collapsed": true
   },
   "outputs": [],
   "source": [
    "import itertools\n",
    "import operator\n",
    "import sys\n",
    "import os\n",
    "from collections import defaultdict\n",
    "import numpy as np\n",
    "sys.path.append(\"../src\")\n",
    "from glob import glob\n",
    "import pandas as pd\n",
    "import json\n",
    "from matplotlib import pyplot as plt"
   ]
  },
  {
   "cell_type": "code",
   "execution_count": 96,
   "metadata": {
    "pycharm": {
     "name": "#%%\n"
    }
   },
   "outputs": [
    {
     "name": "stdout",
     "output_type": "stream",
     "text": [
      "24\n"
     ]
    }
   ],
   "source": [
    "search_root = \"/checkpoint/jth/job_staging/neuraldb_expts/experiment=oracle_fusion\"\n",
    "checkpoint_name = \"metrics_test.json\"\n",
    "files = glob(\"{}*/**/{}\".format(search_root,checkpoint_name), recursive=True)\n",
    "\n",
    "search_root = \"/checkpoint/jth/neuraldb/experiment=oracle_large/\"\n",
    "checkpoint_name = \"metrics_test.json\"\n",
    "files.extend(glob(\"{}*/**/{}\".format(search_root,checkpoint_name), recursive=True))\n",
    "\n",
    "\n",
    "print(len(files))"
   ]
  },
  {
   "cell_type": "code",
   "execution_count": 141,
   "metadata": {
    "pycharm": {
     "name": "#%%\n"
    }
   },
   "outputs": [
    {
     "name": "stdout",
     "output_type": "stream",
     "text": [
      "/checkpoint/jth/neuraldb/experiment=oracle_large/dataset=ndb,model=t5-base,oracle=true,version=v0.5/lr=5e-4/context=50,filters=null,max_queries=null/seed-1/metrics_test.json\n",
      "/checkpoint/jth/neuraldb/experiment=oracle_large/dataset=ndb,model=t5-base,oracle=true,version=v0.5/lr=5e-4/context=50,filters=null,max_queries=null/seed-3/metrics_test.json\n",
      "/checkpoint/jth/neuraldb/experiment=oracle_large/dataset=ndb,model=t5-base,oracle=true,version=v0.5/lr=5e-4/context=50,filters=null,max_queries=null/seed-4/metrics_test.json\n",
      "/checkpoint/jth/neuraldb/experiment=oracle_large/dataset=ndb,model=t5-base,oracle=true,version=v0.5/lr=5e-4/context=50,filters=null,max_queries=null/seed-2/metrics_test.json\n"
     ]
    }
   ],
   "source": [
    "def expand(idx,chunk):\n",
    "\n",
    "  #elif idx == 1:\n",
    "  #  return [\"experiment={}\".format(chunk)]\n",
    "  if chunk.startswith(\"seed-\"):\n",
    "    return [\"seed={}\".format(chunk.replace(\"seed-\",\"\"))]\n",
    "  elif \",\" in chunk:\n",
    "    return chunk.split(\",\")\n",
    "  elif \"=\" in chunk:\n",
    "    return [chunk]\n",
    "  return []\n",
    "\n",
    "experiments = []\n",
    "for file in files:\n",
    "    chunks = file.replace(search_root,\"\").split(\"/\")\n",
    "    chunks = itertools.chain(*[expand(idx, chunk) for idx, chunk in enumerate(chunks)])\n",
    "\n",
    "    data = {k:v for k,v in (chunk.split(\"=\") for chunk in chunks)}\n",
    "    data[\"file\"] = file\n",
    "    data[\"context\"] = int(data[\"context\"])\n",
    "    data['dir'] = os.path.dirname(file)\n",
    "    data[\"filter_size\"] = int(data[\"filter_size\"]) if \"filter_size\" in data else None\n",
    "\n",
    "    if data[\"filter_size\"] is None:\n",
    "        print(data[\"file\"])\n",
    "    if \"5\" not in data[\"lr\"]:\n",
    "        continue\n",
    "\n",
    "    data[\"lr\"] = float(data[\"lr\"])\n",
    "\n",
    "    if data[\"context\"] != 50:\n",
    "        continue\n",
    "\n",
    "\n",
    "    if data[\"version\"] == \"v0.4\" or data[\"version\"] == \"v0.5\":\n",
    "        experiments.append(data)\n",
    "\n"
   ]
  },
  {
   "cell_type": "code",
   "execution_count": 142,
   "metadata": {
    "pycharm": {
     "name": "#%%\n"
    }
   },
   "outputs": [
    {
     "name": "stdout",
     "output_type": "stream",
     "text": [
      "/checkpoint/jth/job_staging/neuraldb_expts/experiment=oracle_fusion/dataset=ndb,model=t5-base,retrieval=oracle,version=v0.5/lr=0.0005,filter_size=12/context=50/seed-1/metrics_test.json\n",
      "/checkpoint/jth/job_staging/neuraldb_expts/experiment=oracle_fusion/dataset=ndb,model=t5-base,retrieval=oracle,version=v0.5/lr=0.0005,filter_size=12/context=50/seed-2/metrics_test.json\n",
      "/checkpoint/jth/job_staging/neuraldb_expts/experiment=oracle_fusion/dataset=ndb,model=t5-base,retrieval=oracle,version=v0.5/lr=0.0005,filter_size=12/context=50/seed-4/metrics_test.json\n",
      "/checkpoint/jth/job_staging/neuraldb_expts/experiment=oracle_fusion/dataset=ndb,model=t5-base,retrieval=oracle,version=v0.5/lr=0.0005,filter_size=12/context=50/seed-5/metrics_test.json\n",
      "/checkpoint/jth/job_staging/neuraldb_expts/experiment=oracle_fusion/dataset=ndb,model=t5-base,retrieval=oracle,version=v0.5/lr=0.0005,filter_size=12/context=50/seed-3/metrics_test.json\n",
      "/checkpoint/jth/neuraldb/experiment=oracle_large/dataset=ndb,model=t5-base,oracle=true,version=v0.5/lr=5e-4/context=50,filters=null,max_queries=null/seed-1/metrics_test.json\n",
      "/checkpoint/jth/neuraldb/experiment=oracle_large/dataset=ndb,model=t5-base,oracle=true,version=v0.5/lr=5e-4/context=50,filters=null,max_queries=null/seed-3/metrics_test.json\n",
      "/checkpoint/jth/neuraldb/experiment=oracle_large/dataset=ndb,model=t5-base,oracle=true,version=v0.5/lr=5e-4/context=50,filters=null,max_queries=null/seed-4/metrics_test.json\n",
      "/checkpoint/jth/neuraldb/experiment=oracle_large/dataset=ndb,model=t5-base,oracle=true,version=v0.5/lr=5e-4/context=50,filters=null,max_queries=null/seed-2/metrics_test.json\n"
     ]
    }
   ],
   "source": [
    "for experiment in experiments:\n",
    "    print(experiment[\"file\"])\n",
    "    if \"v0.4\" in experiment[\"file\"]:\n",
    "        continue\n",
    "        with open(experiment['file']) as f:\n",
    "            results = json.load(f)\n",
    "\n",
    "        experiment[\"EM\"] = results['test'][\"EM\"]\n",
    "\n",
    "        for k,v in results['test'][\"raw\"][\"relation_type\"].items():\n",
    "            experiment[\"breakdown_{}\".format(k)] = np.mean(v)\n",
    "\n",
    "\n",
    "        for k,v in results['test'][\"raw\"][\"query_type\"].items():\n",
    "            if k == \"list\":\n",
    "                k = \"set\"\n",
    "\n",
    "            if k == \"min_max\":\n",
    "                k = \"min/max\"\n",
    "\n",
    "            if k == \"agg\":\n",
    "                k = \"count\"\n",
    "\n",
    "\n",
    "            if k == \"atomic\":\n",
    "                experiment[\"type_atomic_boolean\"] = np.mean(v)\n",
    "                experiment[\"type_atomic_extractive\"] = np.mean(v)\n",
    "            elif k == \"join\":\n",
    "                experiment[\"type_join_boolean\"] = np.mean(v)\n",
    "                experiment[\"type_join_extractive\"] = np.mean(v)\n",
    "            else:\n",
    "                experiment[\"type_{}\".format(k)] = np.mean(v)\n",
    "\n",
    "\n",
    "    elif \"v0.5\" in experiment[\"file\"] and True: #and \"fusion\" not in experiment[\"file\"]:\n",
    "\n",
    "        all_raw = []\n",
    "        all_breakdown = defaultdict(dict)\n",
    "        all_breakdown_strict = defaultdict(dict)\n",
    "\n",
    "        with open(experiment['file']) as f:\n",
    "            for line in f.readlines()[-4:]:\n",
    "                if line[0] == \"}\":\n",
    "                    line = line[1:]\n",
    "                try:\n",
    "                    partial_results = json.loads(line)\n",
    "\n",
    "                except Exception as e:\n",
    "\n",
    "                    continue\n",
    "\n",
    "                all_raw.extend(partial_results['test']['raw'])\n",
    "                all_breakdown[\"breakdown_prop\"].update(partial_results['test']['breakdown'][\"relation_type\"].items())\n",
    "                all_breakdown[\"breakdown_type\"].update(partial_results['test']['breakdown'][\"query_type\"].items())\n",
    "\n",
    "                all_breakdown_strict[\"breakdown_prop\"].update(partial_results['test']['strict_breakdown'][\"relation_type\"].items())\n",
    "                all_breakdown_strict[\"breakdown_type\"].update(partial_results['test']['strict_breakdown'][\"query_type\"].items())\n",
    "\n",
    "        experiment[\"EM\"] = np.mean([rec[2] for rec in all_raw])\n",
    "\n",
    "\n",
    "        experiment[\"EM_strict\"] = np.mean([rec[3] for rec in all_raw])\n",
    "\n",
    "        for k,v in all_breakdown[\"breakdown_type\"].items():\n",
    "\n",
    "            experiment[\"type_{}\".format(k)] = np.mean(v)\n",
    "            experiment[\"count_type_{}\".format(k)] = len(v)\n",
    "\n",
    "        for k,v in all_breakdown_strict[\"breakdown_type\"].items():\n",
    "            experiment[\"type_strict_{}\".format(k)] = np.mean(v)\n",
    "\n",
    "\n",
    "    elif \"v0.5\" in experiment[\"file\"] and \"fusion\" in experiment[\"file\"]:\n",
    "        print(\"v5\")\n",
    "        all_raw = []\n",
    "        all_breakdown = defaultdict(dict)\n",
    "        all_breakdown_strict = defaultdict(dict)\n",
    "\n",
    "        with open(experiment['file']) as f:\n",
    "            partial_results = json.load(f)\n",
    "\n",
    "            all_raw.append(partial_results['test']['EM'])\n",
    "            all_breakdown[\"breakdown_prop\"].update(partial_results['test']['raw'][\"relation_type\"].items())\n",
    "            all_breakdown[\"breakdown_type\"].update(partial_results['test']['raw'][\"query_type\"].items())\n",
    "\n",
    "        experiment[\"EM\"] = np.mean([rec for rec in all_raw])\n",
    "\n",
    "\n",
    "        for k,v in all_breakdown[\"breakdown_type\"].items():\n",
    "\n",
    "            if k == \"list\":\n",
    "                k = \"set\"\n",
    "\n",
    "            if k == \"min_max\":\n",
    "                k = \"min/max\"\n",
    "\n",
    "            if k == \"agg\":\n",
    "                k = \"count\"\n",
    "\n",
    "\n",
    "            if k == \"atomic\":\n",
    "                experiment[\"type_atomic_boolean\"] = np.mean(v)\n",
    "                experiment[\"type_atomic_extractive\"] = np.mean(v)\n",
    "            elif k == \"join\":\n",
    "                experiment[\"type_join_boolean\"] = np.mean(v)\n",
    "                experiment[\"type_join_extractive\"] = np.mean(v)\n",
    "            else:\n",
    "                experiment[\"type_{}\".format(k)] = np.mean(v)\n",
    "\n",
    "            experiment[\"type_{}\".format(k)] = np.mean(v)\n",
    "            experiment[\"count_type_{}\".format(k)] = len(v)\n"
   ]
  },
  {
   "cell_type": "code",
   "execution_count": 143,
   "metadata": {
    "pycharm": {
     "name": "#%%\n"
    }
   },
   "outputs": [
    {
     "name": "stdout",
     "output_type": "stream",
     "text": [
      "[]\n"
     ]
    },
    {
     "data": {
      "text/plain": "                           EM           type_atomic_boolean            \\\n                         mean       std                mean       std   \ncontext filter_size                                                     \n50      0.0          0.953912  0.001718            0.993687  0.002525   \n        12.0         0.747124  0.003401            0.987886  0.002020   \n\n                    type_atomic_extractive           type_count            \\\n                                      mean       std       mean       std   \ncontext filter_size                                                         \n50      0.0                       0.989346  0.002612   0.765330  0.011792   \n        12.0                      0.915198  0.004560   0.280102  0.006603   \n\n                    type_join_boolean            ... type_strict_count  \\\n                                 mean       std  ...              mean   \ncontext filter_size                              ...                     \n50      0.0                  0.996951  0.006098  ...          0.765330   \n        12.0                 0.575000  0.002541  ...          0.280102   \n\n                              type_strict_join_boolean            \\\n                          std                     mean       std   \ncontext filter_size                                                \n50      0.0          0.011792                 0.996951  0.006098   \n        12.0         0.006603                 0.575000  0.002541   \n\n                    type_strict_join_extractive           type_strict_min/max  \\\n                                           mean       std                mean   \ncontext filter_size                                                             \n50      0.0                            1.000000  0.000000            0.947368   \n        12.0                           0.266667  0.027263            0.057143   \n\n                              type_strict_set            \n                          std            mean       std  \ncontext filter_size                                      \n50      0.0          0.042974        0.960898  0.002468  \n        12.0         0.015475        0.441812  0.022554  \n\n[2 rows x 30 columns]",
      "text/html": "<div>\n<style scoped>\n    .dataframe tbody tr th:only-of-type {\n        vertical-align: middle;\n    }\n\n    .dataframe tbody tr th {\n        vertical-align: top;\n    }\n\n    .dataframe thead tr th {\n        text-align: left;\n    }\n\n    .dataframe thead tr:last-of-type th {\n        text-align: right;\n    }\n</style>\n<table border=\"1\" class=\"dataframe\">\n  <thead>\n    <tr>\n      <th></th>\n      <th></th>\n      <th colspan=\"2\" halign=\"left\">EM</th>\n      <th colspan=\"2\" halign=\"left\">type_atomic_boolean</th>\n      <th colspan=\"2\" halign=\"left\">type_atomic_extractive</th>\n      <th colspan=\"2\" halign=\"left\">type_count</th>\n      <th colspan=\"2\" halign=\"left\">type_join_boolean</th>\n      <th>...</th>\n      <th colspan=\"2\" halign=\"left\">type_strict_count</th>\n      <th colspan=\"2\" halign=\"left\">type_strict_join_boolean</th>\n      <th colspan=\"2\" halign=\"left\">type_strict_join_extractive</th>\n      <th colspan=\"2\" halign=\"left\">type_strict_min/max</th>\n      <th colspan=\"2\" halign=\"left\">type_strict_set</th>\n    </tr>\n    <tr>\n      <th></th>\n      <th></th>\n      <th>mean</th>\n      <th>std</th>\n      <th>mean</th>\n      <th>std</th>\n      <th>mean</th>\n      <th>std</th>\n      <th>mean</th>\n      <th>std</th>\n      <th>mean</th>\n      <th>std</th>\n      <th>...</th>\n      <th>mean</th>\n      <th>std</th>\n      <th>mean</th>\n      <th>std</th>\n      <th>mean</th>\n      <th>std</th>\n      <th>mean</th>\n      <th>std</th>\n      <th>mean</th>\n      <th>std</th>\n    </tr>\n    <tr>\n      <th>context</th>\n      <th>filter_size</th>\n      <th></th>\n      <th></th>\n      <th></th>\n      <th></th>\n      <th></th>\n      <th></th>\n      <th></th>\n      <th></th>\n      <th></th>\n      <th></th>\n      <th></th>\n      <th></th>\n      <th></th>\n      <th></th>\n      <th></th>\n      <th></th>\n      <th></th>\n      <th></th>\n      <th></th>\n      <th></th>\n      <th></th>\n    </tr>\n  </thead>\n  <tbody>\n    <tr>\n      <th rowspan=\"2\" valign=\"top\">50</th>\n      <th>0.0</th>\n      <td>0.953912</td>\n      <td>0.001718</td>\n      <td>0.993687</td>\n      <td>0.002525</td>\n      <td>0.989346</td>\n      <td>0.002612</td>\n      <td>0.765330</td>\n      <td>0.011792</td>\n      <td>0.996951</td>\n      <td>0.006098</td>\n      <td>...</td>\n      <td>0.765330</td>\n      <td>0.011792</td>\n      <td>0.996951</td>\n      <td>0.006098</td>\n      <td>1.000000</td>\n      <td>0.000000</td>\n      <td>0.947368</td>\n      <td>0.042974</td>\n      <td>0.960898</td>\n      <td>0.002468</td>\n    </tr>\n    <tr>\n      <th>12.0</th>\n      <td>0.747124</td>\n      <td>0.003401</td>\n      <td>0.987886</td>\n      <td>0.002020</td>\n      <td>0.915198</td>\n      <td>0.004560</td>\n      <td>0.280102</td>\n      <td>0.006603</td>\n      <td>0.575000</td>\n      <td>0.002541</td>\n      <td>...</td>\n      <td>0.280102</td>\n      <td>0.006603</td>\n      <td>0.575000</td>\n      <td>0.002541</td>\n      <td>0.266667</td>\n      <td>0.027263</td>\n      <td>0.057143</td>\n      <td>0.015475</td>\n      <td>0.441812</td>\n      <td>0.022554</td>\n    </tr>\n  </tbody>\n</table>\n<p>2 rows × 30 columns</p>\n</div>"
     },
     "execution_count": 143,
     "metadata": {},
     "output_type": "execute_result"
    }
   ],
   "source": [
    "results = pd.DataFrame(experiments).fillna(0)\n",
    "cols = {col:[np.mean, np.std] for col in filter(lambda col: col == \"EM\" or col.startswith(\"type_\"),results.columns)}\n",
    "\n",
    "query_cols = list(filter(lambda col: col.startswith(\"query_\"),results.columns))\n",
    "print(query_cols)\n",
    "breakdown_cols = list(filter(lambda col: col.startswith(\"breakdown_\"),results.columns))\n",
    "breakdown = pd.pivot_table(results, index=[\"context\",\"filter_size\"],columns=[], aggfunc=cols)\n",
    "breakdown\n",
    "\n"
   ]
  },
  {
   "cell_type": "code",
   "execution_count": 148,
   "outputs": [
    {
     "data": {
      "text/plain": "<Figure size 432x288 with 1 Axes>",
      "image/png": "[encoded data removed]"
     },
     "metadata": {},
     "output_type": "display_data"
    }
   ],
   "source": [
    "models = set(idx[0] for idx in breakdown.index)\n",
    "lookup = {\n",
    "    \"EM\":\"(Avg)\",\n",
    "    \"type_set\":\"Set\",\n",
    "          \"type_count\": \"Count\",\n",
    "          \"type_min/max\": \"Min/Max\",\n",
    "          \"type_join_boolean\": \"Join\\nBoolQA\",\n",
    "          \"type_join_extractive\": \"Join\\nExtQA\",\n",
    "          \"type_atomic_boolean\": \"Atomic\\nBoolQA\",\n",
    "          \"type_atomic_extractive\":\"Atomic\\nExtQA\"}\n",
    "\n",
    "lookup2 = {\n",
    "    0:\"Perfect IR: Fusion in Encoder \\n(Concatenation)\",\n",
    "    12:\"Perfect IR: Fusion in Decoder\"\n",
    "\n",
    "}\n",
    "\n",
    "\n",
    "def doplot(filters,count, cols=query_cols):\n",
    "    means = []\n",
    "    std = []\n",
    "\n",
    "    for col in cols:\n",
    "        means.append(breakdown[col][\"mean\"].T[\"t5-base\"][count][filters])\n",
    "        std.append(breakdown[col][\"std\"].T[\"t5-base\"][count][filters])\n",
    "\n",
    "    plt.figure(figsize=(5,4))\n",
    "    plt.xticks(rotation=90)\n",
    "\n",
    "\n",
    "    plt.title(f\"Scores for queries over database with {count} facts {filters}\")\n",
    "    plt.xlabel(\"Query Type\")\n",
    "    plt.ylabel(\"Exact Match %\")\n",
    "    plt.ylim(0,1)\n",
    "    plt.bar([lookup[col] if col in lookup else col for col in cols], means, yerr=std)\n",
    "    plt.tight_layout()\n",
    "\n",
    "    return plt\n",
    "\n",
    "def doplot_cmp(filters, count, cols=query_cols):\n",
    "    x = np.arange(len(cols))\n",
    "    w = 1/(len(filters)+1)\n",
    "    plt.xticks(x+w, [lookup[col] if col in lookup else col for col in cols],rotation=0)\n",
    "    plt.ylabel(\"Exact Match %\")\n",
    "    colors = [\"brown\",\"orange\", \"gold\", \"khaki\"]\n",
    "    for idx, filt in enumerate(filters):\n",
    "        means = []\n",
    "        std = []\n",
    "        for col in cols:\n",
    "\n",
    "            means.append(breakdown[col][\"mean\"].T[count][filt]*100)\n",
    "            std.append(breakdown[col][\"std\"].T[count][filt]*100)\n",
    "\n",
    "\n",
    "        plt.bar(x+idx*w,means,yerr=std, width=w, color=colors[idx])\n",
    "\n",
    "    plt.ylim(0,100)\n",
    "    plt.legend([lookup2[m] for m in filters], loc='lower left', )# bbox_to_anchor=(1,-0.6))\n",
    "\n",
    "    return plt\n",
    "\n",
    "import matplotlib.pyplot as plt\n",
    "with plt.style.context(\"ggplot\"):\n",
    "    # plt = doplot(\"oracle_concat\",50, [\"EM\",\"query_atomic_boolean\",\n",
    "    #                                   \"query_atomic_extractive\",\n",
    "    #                                   \"query_join_boolean\",\n",
    "    #                                   \"query_join_extractive\",\n",
    "    #                                   \"query_set\",\n",
    "    #                                   \"query_count\",\n",
    "    #                                   \"query_min/max\"\n",
    "    #                                   ])\n",
    "\n",
    "    plt = doplot_cmp([0,12],50, [\"EM\",\"type_atomic_boolean\",\n",
    "                                  \"type_atomic_extractive\",\n",
    "                                  \"type_join_boolean\",\n",
    "                                  \"type_join_extractive\",\n",
    "                                  \"type_set\",\n",
    "                                  \"type_count\",\n",
    "                                  \"type_min/max\"\n",
    "                                  ])\n",
    "\n",
    "    plt.title(\"T5 Transformer answer accuracy by query type\")\n",
    "\n",
    "    plt.savefig(\"/scratch/jth/neuraldb/t5_fid.pdf\")\n",
    "    plt.show()\n",
    "\n",
    "\n",
    "\n"
   ],
   "metadata": {
    "collapsed": false,
    "pycharm": {
     "name": "#%%\n"
    }
   }
  },
  {
   "cell_type": "code",
   "execution_count": 83,
   "metadata": {
    "pycharm": {
     "name": "#%%\n"
    }
   },
   "outputs": [],
   "source": [
    "ds_sizes = [50,100,500,1000,2000,5000,7000,10000]\n",
    "for col in query_cols:\n",
    "    means = [breakdown[col][\"mean\"].T[\"t5-base\"][ds][\"v0.4\"] for ds in ds_sizes]\n",
    "    std = [breakdown[col][\"std\"].T[\"t5-base\"][ds][\"v0.4\"] for ds in ds_sizes]\n",
    "    plt.figure(figsize=(16,4))\n",
    "    plt.xticks(rotation=0)\n",
    "    plt.xscale(\"log\")\n",
    "\n",
    "    plt.title(\"Scores for queries over relation `{}` without training on relations\".format(col.replace(\"breakdown_\",\"\")))\n",
    "    plt.xlabel(\"Database size\")\n",
    "    plt.ylabel(\"Exact Match %\")\n",
    "    plt.plot(ds_sizes, means)\n",
    "    #plt.fill_between(range(len(std)), [m-s for m,s in zip(means, std)],[m+s for m,s in zip(means, std)],alpha=0.1)\n",
    "    plt.show()"
   ]
  },
  {
   "cell_type": "code",
   "execution_count": 84,
   "outputs": [
    {
     "ename": "KeyError",
     "evalue": "'query_atomic'",
     "output_type": "error",
     "traceback": [
      "\u001B[0;31m---------------------------------------------------------------------------\u001B[0m",
      "\u001B[0;31mKeyError\u001B[0m                                  Traceback (most recent call last)",
      "\u001B[0;32m~/anaconda3/envs/neuraldb/lib/python3.8/site-packages/pandas/core/indexes/base.py\u001B[0m in \u001B[0;36mget_loc\u001B[0;34m(self, key, method, tolerance)\u001B[0m\n\u001B[1;32m   2645\u001B[0m             \u001B[0;32mtry\u001B[0m\u001B[0;34m:\u001B[0m\u001B[0;34m\u001B[0m\u001B[0;34m\u001B[0m\u001B[0m\n\u001B[0;32m-> 2646\u001B[0;31m                 \u001B[0;32mreturn\u001B[0m \u001B[0mself\u001B[0m\u001B[0;34m.\u001B[0m\u001B[0m_engine\u001B[0m\u001B[0;34m.\u001B[0m\u001B[0mget_loc\u001B[0m\u001B[0;34m(\u001B[0m\u001B[0mkey\u001B[0m\u001B[0;34m)\u001B[0m\u001B[0;34m\u001B[0m\u001B[0;34m\u001B[0m\u001B[0m\n\u001B[0m\u001B[1;32m   2647\u001B[0m             \u001B[0;32mexcept\u001B[0m \u001B[0mKeyError\u001B[0m\u001B[0;34m:\u001B[0m\u001B[0;34m\u001B[0m\u001B[0;34m\u001B[0m\u001B[0m\n",
      "\u001B[0;32mpandas/_libs/index.pyx\u001B[0m in \u001B[0;36mpandas._libs.index.IndexEngine.get_loc\u001B[0;34m()\u001B[0m\n",
      "\u001B[0;32mpandas/_libs/index.pyx\u001B[0m in \u001B[0;36mpandas._libs.index.IndexEngine.get_loc\u001B[0;34m()\u001B[0m\n",
      "\u001B[0;32mpandas/_libs/hashtable_class_helper.pxi\u001B[0m in \u001B[0;36mpandas._libs.hashtable.PyObjectHashTable.get_item\u001B[0;34m()\u001B[0m\n",
      "\u001B[0;32mpandas/_libs/hashtable_class_helper.pxi\u001B[0m in \u001B[0;36mpandas._libs.hashtable.PyObjectHashTable.get_item\u001B[0;34m()\u001B[0m\n",
      "\u001B[0;31mKeyError\u001B[0m: 'query_atomic'",
      "\nDuring handling of the above exception, another exception occurred:\n",
      "\u001B[0;31mKeyError\u001B[0m                                  Traceback (most recent call last)",
      "\u001B[0;32m<ipython-input-84-e7e4980a82ed>\u001B[0m in \u001B[0;36m<module>\u001B[0;34m\u001B[0m\n\u001B[1;32m      1\u001B[0m \u001B[0mds\u001B[0m \u001B[0;34m=\u001B[0m \u001B[0;36m500\u001B[0m\u001B[0;34m\u001B[0m\u001B[0;34m\u001B[0m\u001B[0m\n\u001B[1;32m      2\u001B[0m \u001B[0mcol\u001B[0m \u001B[0;34m=\u001B[0m \u001B[0;34m\"query_atomic\"\u001B[0m\u001B[0;34m\u001B[0m\u001B[0;34m\u001B[0m\u001B[0m\n\u001B[0;32m----> 3\u001B[0;31m \u001B[0mmeans\u001B[0m \u001B[0;34m=\u001B[0m \u001B[0mbreakdown\u001B[0m\u001B[0;34m[\u001B[0m\u001B[0mcol\u001B[0m\u001B[0;34m]\u001B[0m\u001B[0;34m[\u001B[0m\u001B[0;34m\"mean\"\u001B[0m\u001B[0;34m]\u001B[0m\u001B[0;34m.\u001B[0m\u001B[0mT\u001B[0m\u001B[0;34m[\u001B[0m\u001B[0;34m\"t5-base\"\u001B[0m\u001B[0;34m]\u001B[0m\u001B[0;34m[\u001B[0m\u001B[0mds\u001B[0m\u001B[0;34m]\u001B[0m\u001B[0;34m[\u001B[0m\u001B[0;34m\"v0.5\"\u001B[0m\u001B[0;34m]\u001B[0m\u001B[0;34m\u001B[0m\u001B[0;34m\u001B[0m\u001B[0m\n\u001B[0m\u001B[1;32m      4\u001B[0m \u001B[0mstd\u001B[0m \u001B[0;34m=\u001B[0m \u001B[0mbreakdown\u001B[0m\u001B[0;34m[\u001B[0m\u001B[0mcol\u001B[0m\u001B[0;34m]\u001B[0m\u001B[0;34m[\u001B[0m\u001B[0;34m\"std\"\u001B[0m\u001B[0;34m]\u001B[0m\u001B[0;34m.\u001B[0m\u001B[0mT\u001B[0m\u001B[0;34m[\u001B[0m\u001B[0;34m\"t5-base\"\u001B[0m\u001B[0;34m]\u001B[0m\u001B[0;34m[\u001B[0m\u001B[0mds\u001B[0m\u001B[0;34m]\u001B[0m\u001B[0;34m[\u001B[0m\u001B[0;34m\"v0.5\"\u001B[0m\u001B[0;34m]\u001B[0m\u001B[0;34m\u001B[0m\u001B[0;34m\u001B[0m\u001B[0m\n\u001B[1;32m      5\u001B[0m \u001B[0mplt\u001B[0m\u001B[0;34m.\u001B[0m\u001B[0mfigure\u001B[0m\u001B[0;34m(\u001B[0m\u001B[0mfigsize\u001B[0m\u001B[0;34m=\u001B[0m\u001B[0;34m(\u001B[0m\u001B[0;36m16\u001B[0m\u001B[0;34m,\u001B[0m\u001B[0;36m4\u001B[0m\u001B[0;34m)\u001B[0m\u001B[0;34m)\u001B[0m\u001B[0;34m\u001B[0m\u001B[0;34m\u001B[0m\u001B[0m\n",
      "\u001B[0;32m~/anaconda3/envs/neuraldb/lib/python3.8/site-packages/pandas/core/frame.py\u001B[0m in \u001B[0;36m__getitem__\u001B[0;34m(self, key)\u001B[0m\n\u001B[1;32m   2797\u001B[0m         \u001B[0;32mif\u001B[0m \u001B[0mis_single_key\u001B[0m\u001B[0;34m:\u001B[0m\u001B[0;34m\u001B[0m\u001B[0;34m\u001B[0m\u001B[0m\n\u001B[1;32m   2798\u001B[0m             \u001B[0;32mif\u001B[0m \u001B[0mself\u001B[0m\u001B[0;34m.\u001B[0m\u001B[0mcolumns\u001B[0m\u001B[0;34m.\u001B[0m\u001B[0mnlevels\u001B[0m \u001B[0;34m>\u001B[0m \u001B[0;36m1\u001B[0m\u001B[0;34m:\u001B[0m\u001B[0;34m\u001B[0m\u001B[0;34m\u001B[0m\u001B[0m\n\u001B[0;32m-> 2799\u001B[0;31m                 \u001B[0;32mreturn\u001B[0m \u001B[0mself\u001B[0m\u001B[0;34m.\u001B[0m\u001B[0m_getitem_multilevel\u001B[0m\u001B[0;34m(\u001B[0m\u001B[0mkey\u001B[0m\u001B[0;34m)\u001B[0m\u001B[0;34m\u001B[0m\u001B[0;34m\u001B[0m\u001B[0m\n\u001B[0m\u001B[1;32m   2800\u001B[0m             \u001B[0mindexer\u001B[0m \u001B[0;34m=\u001B[0m \u001B[0mself\u001B[0m\u001B[0;34m.\u001B[0m\u001B[0mcolumns\u001B[0m\u001B[0;34m.\u001B[0m\u001B[0mget_loc\u001B[0m\u001B[0;34m(\u001B[0m\u001B[0mkey\u001B[0m\u001B[0;34m)\u001B[0m\u001B[0;34m\u001B[0m\u001B[0;34m\u001B[0m\u001B[0m\n\u001B[1;32m   2801\u001B[0m             \u001B[0;32mif\u001B[0m \u001B[0mis_integer\u001B[0m\u001B[0;34m(\u001B[0m\u001B[0mindexer\u001B[0m\u001B[0;34m)\u001B[0m\u001B[0;34m:\u001B[0m\u001B[0;34m\u001B[0m\u001B[0;34m\u001B[0m\u001B[0m\n",
      "\u001B[0;32m~/anaconda3/envs/neuraldb/lib/python3.8/site-packages/pandas/core/frame.py\u001B[0m in \u001B[0;36m_getitem_multilevel\u001B[0;34m(self, key)\u001B[0m\n\u001B[1;32m   2847\u001B[0m     \u001B[0;32mdef\u001B[0m \u001B[0m_getitem_multilevel\u001B[0m\u001B[0;34m(\u001B[0m\u001B[0mself\u001B[0m\u001B[0;34m,\u001B[0m \u001B[0mkey\u001B[0m\u001B[0;34m)\u001B[0m\u001B[0;34m:\u001B[0m\u001B[0;34m\u001B[0m\u001B[0;34m\u001B[0m\u001B[0m\n\u001B[1;32m   2848\u001B[0m         \u001B[0;31m# self.columns is a MultiIndex\u001B[0m\u001B[0;34m\u001B[0m\u001B[0;34m\u001B[0m\u001B[0;34m\u001B[0m\u001B[0m\n\u001B[0;32m-> 2849\u001B[0;31m         \u001B[0mloc\u001B[0m \u001B[0;34m=\u001B[0m \u001B[0mself\u001B[0m\u001B[0;34m.\u001B[0m\u001B[0mcolumns\u001B[0m\u001B[0;34m.\u001B[0m\u001B[0mget_loc\u001B[0m\u001B[0;34m(\u001B[0m\u001B[0mkey\u001B[0m\u001B[0;34m)\u001B[0m\u001B[0;34m\u001B[0m\u001B[0;34m\u001B[0m\u001B[0m\n\u001B[0m\u001B[1;32m   2850\u001B[0m         \u001B[0;32mif\u001B[0m \u001B[0misinstance\u001B[0m\u001B[0;34m(\u001B[0m\u001B[0mloc\u001B[0m\u001B[0;34m,\u001B[0m \u001B[0;34m(\u001B[0m\u001B[0mslice\u001B[0m\u001B[0;34m,\u001B[0m \u001B[0mSeries\u001B[0m\u001B[0;34m,\u001B[0m \u001B[0mnp\u001B[0m\u001B[0;34m.\u001B[0m\u001B[0mndarray\u001B[0m\u001B[0;34m,\u001B[0m \u001B[0mIndex\u001B[0m\u001B[0;34m)\u001B[0m\u001B[0;34m)\u001B[0m\u001B[0;34m:\u001B[0m\u001B[0;34m\u001B[0m\u001B[0;34m\u001B[0m\u001B[0m\n\u001B[1;32m   2851\u001B[0m             \u001B[0mnew_columns\u001B[0m \u001B[0;34m=\u001B[0m \u001B[0mself\u001B[0m\u001B[0;34m.\u001B[0m\u001B[0mcolumns\u001B[0m\u001B[0;34m[\u001B[0m\u001B[0mloc\u001B[0m\u001B[0;34m]\u001B[0m\u001B[0;34m\u001B[0m\u001B[0;34m\u001B[0m\u001B[0m\n",
      "\u001B[0;32m~/anaconda3/envs/neuraldb/lib/python3.8/site-packages/pandas/core/indexes/multi.py\u001B[0m in \u001B[0;36mget_loc\u001B[0;34m(self, key, method)\u001B[0m\n\u001B[1;32m   2660\u001B[0m         \u001B[0;32mif\u001B[0m \u001B[0;32mnot\u001B[0m \u001B[0misinstance\u001B[0m\u001B[0;34m(\u001B[0m\u001B[0mkey\u001B[0m\u001B[0;34m,\u001B[0m \u001B[0;34m(\u001B[0m\u001B[0mtuple\u001B[0m\u001B[0;34m,\u001B[0m \u001B[0mlist\u001B[0m\u001B[0;34m)\u001B[0m\u001B[0;34m)\u001B[0m\u001B[0;34m:\u001B[0m\u001B[0;34m\u001B[0m\u001B[0;34m\u001B[0m\u001B[0m\n\u001B[1;32m   2661\u001B[0m             \u001B[0;31m# not including list here breaks some indexing, xref #30892\u001B[0m\u001B[0;34m\u001B[0m\u001B[0;34m\u001B[0m\u001B[0;34m\u001B[0m\u001B[0m\n\u001B[0;32m-> 2662\u001B[0;31m             \u001B[0mloc\u001B[0m \u001B[0;34m=\u001B[0m \u001B[0mself\u001B[0m\u001B[0;34m.\u001B[0m\u001B[0m_get_level_indexer\u001B[0m\u001B[0;34m(\u001B[0m\u001B[0mkey\u001B[0m\u001B[0;34m,\u001B[0m \u001B[0mlevel\u001B[0m\u001B[0;34m=\u001B[0m\u001B[0;36m0\u001B[0m\u001B[0;34m)\u001B[0m\u001B[0;34m\u001B[0m\u001B[0;34m\u001B[0m\u001B[0m\n\u001B[0m\u001B[1;32m   2663\u001B[0m             \u001B[0;32mreturn\u001B[0m \u001B[0m_maybe_to_slice\u001B[0m\u001B[0;34m(\u001B[0m\u001B[0mloc\u001B[0m\u001B[0;34m)\u001B[0m\u001B[0;34m\u001B[0m\u001B[0;34m\u001B[0m\u001B[0m\n\u001B[1;32m   2664\u001B[0m \u001B[0;34m\u001B[0m\u001B[0m\n",
      "\u001B[0;32m~/anaconda3/envs/neuraldb/lib/python3.8/site-packages/pandas/core/indexes/multi.py\u001B[0m in \u001B[0;36m_get_level_indexer\u001B[0;34m(self, key, level, indexer)\u001B[0m\n\u001B[1;32m   2927\u001B[0m         \u001B[0;32melse\u001B[0m\u001B[0;34m:\u001B[0m\u001B[0;34m\u001B[0m\u001B[0;34m\u001B[0m\u001B[0m\n\u001B[1;32m   2928\u001B[0m \u001B[0;34m\u001B[0m\u001B[0m\n\u001B[0;32m-> 2929\u001B[0;31m             \u001B[0mcode\u001B[0m \u001B[0;34m=\u001B[0m \u001B[0mself\u001B[0m\u001B[0;34m.\u001B[0m\u001B[0m_get_loc_single_level_index\u001B[0m\u001B[0;34m(\u001B[0m\u001B[0mlevel_index\u001B[0m\u001B[0;34m,\u001B[0m \u001B[0mkey\u001B[0m\u001B[0;34m)\u001B[0m\u001B[0;34m\u001B[0m\u001B[0;34m\u001B[0m\u001B[0m\n\u001B[0m\u001B[1;32m   2930\u001B[0m \u001B[0;34m\u001B[0m\u001B[0m\n\u001B[1;32m   2931\u001B[0m             \u001B[0;32mif\u001B[0m \u001B[0mlevel\u001B[0m \u001B[0;34m>\u001B[0m \u001B[0;36m0\u001B[0m \u001B[0;32mor\u001B[0m \u001B[0mself\u001B[0m\u001B[0;34m.\u001B[0m\u001B[0mlexsort_depth\u001B[0m \u001B[0;34m==\u001B[0m \u001B[0;36m0\u001B[0m\u001B[0;34m:\u001B[0m\u001B[0;34m\u001B[0m\u001B[0;34m\u001B[0m\u001B[0m\n",
      "\u001B[0;32m~/anaconda3/envs/neuraldb/lib/python3.8/site-packages/pandas/core/indexes/multi.py\u001B[0m in \u001B[0;36m_get_loc_single_level_index\u001B[0;34m(self, level_index, key)\u001B[0m\n\u001B[1;32m   2596\u001B[0m             \u001B[0;32mreturn\u001B[0m \u001B[0;34m-\u001B[0m\u001B[0;36m1\u001B[0m\u001B[0;34m\u001B[0m\u001B[0;34m\u001B[0m\u001B[0m\n\u001B[1;32m   2597\u001B[0m         \u001B[0;32melse\u001B[0m\u001B[0;34m:\u001B[0m\u001B[0;34m\u001B[0m\u001B[0;34m\u001B[0m\u001B[0m\n\u001B[0;32m-> 2598\u001B[0;31m             \u001B[0;32mreturn\u001B[0m \u001B[0mlevel_index\u001B[0m\u001B[0;34m.\u001B[0m\u001B[0mget_loc\u001B[0m\u001B[0;34m(\u001B[0m\u001B[0mkey\u001B[0m\u001B[0;34m)\u001B[0m\u001B[0;34m\u001B[0m\u001B[0;34m\u001B[0m\u001B[0m\n\u001B[0m\u001B[1;32m   2599\u001B[0m \u001B[0;34m\u001B[0m\u001B[0m\n\u001B[1;32m   2600\u001B[0m     \u001B[0;32mdef\u001B[0m \u001B[0mget_loc\u001B[0m\u001B[0;34m(\u001B[0m\u001B[0mself\u001B[0m\u001B[0;34m,\u001B[0m \u001B[0mkey\u001B[0m\u001B[0;34m,\u001B[0m \u001B[0mmethod\u001B[0m\u001B[0;34m=\u001B[0m\u001B[0;32mNone\u001B[0m\u001B[0;34m)\u001B[0m\u001B[0;34m:\u001B[0m\u001B[0;34m\u001B[0m\u001B[0;34m\u001B[0m\u001B[0m\n",
      "\u001B[0;32m~/anaconda3/envs/neuraldb/lib/python3.8/site-packages/pandas/core/indexes/base.py\u001B[0m in \u001B[0;36mget_loc\u001B[0;34m(self, key, method, tolerance)\u001B[0m\n\u001B[1;32m   2646\u001B[0m                 \u001B[0;32mreturn\u001B[0m \u001B[0mself\u001B[0m\u001B[0;34m.\u001B[0m\u001B[0m_engine\u001B[0m\u001B[0;34m.\u001B[0m\u001B[0mget_loc\u001B[0m\u001B[0;34m(\u001B[0m\u001B[0mkey\u001B[0m\u001B[0;34m)\u001B[0m\u001B[0;34m\u001B[0m\u001B[0;34m\u001B[0m\u001B[0m\n\u001B[1;32m   2647\u001B[0m             \u001B[0;32mexcept\u001B[0m \u001B[0mKeyError\u001B[0m\u001B[0;34m:\u001B[0m\u001B[0;34m\u001B[0m\u001B[0;34m\u001B[0m\u001B[0m\n\u001B[0;32m-> 2648\u001B[0;31m                 \u001B[0;32mreturn\u001B[0m \u001B[0mself\u001B[0m\u001B[0;34m.\u001B[0m\u001B[0m_engine\u001B[0m\u001B[0;34m.\u001B[0m\u001B[0mget_loc\u001B[0m\u001B[0;34m(\u001B[0m\u001B[0mself\u001B[0m\u001B[0;34m.\u001B[0m\u001B[0m_maybe_cast_indexer\u001B[0m\u001B[0;34m(\u001B[0m\u001B[0mkey\u001B[0m\u001B[0;34m)\u001B[0m\u001B[0;34m)\u001B[0m\u001B[0;34m\u001B[0m\u001B[0;34m\u001B[0m\u001B[0m\n\u001B[0m\u001B[1;32m   2649\u001B[0m         \u001B[0mindexer\u001B[0m \u001B[0;34m=\u001B[0m \u001B[0mself\u001B[0m\u001B[0;34m.\u001B[0m\u001B[0mget_indexer\u001B[0m\u001B[0;34m(\u001B[0m\u001B[0;34m[\u001B[0m\u001B[0mkey\u001B[0m\u001B[0;34m]\u001B[0m\u001B[0;34m,\u001B[0m \u001B[0mmethod\u001B[0m\u001B[0;34m=\u001B[0m\u001B[0mmethod\u001B[0m\u001B[0;34m,\u001B[0m \u001B[0mtolerance\u001B[0m\u001B[0;34m=\u001B[0m\u001B[0mtolerance\u001B[0m\u001B[0;34m)\u001B[0m\u001B[0;34m\u001B[0m\u001B[0;34m\u001B[0m\u001B[0m\n\u001B[1;32m   2650\u001B[0m         \u001B[0;32mif\u001B[0m \u001B[0mindexer\u001B[0m\u001B[0;34m.\u001B[0m\u001B[0mndim\u001B[0m \u001B[0;34m>\u001B[0m \u001B[0;36m1\u001B[0m \u001B[0;32mor\u001B[0m \u001B[0mindexer\u001B[0m\u001B[0;34m.\u001B[0m\u001B[0msize\u001B[0m \u001B[0;34m>\u001B[0m \u001B[0;36m1\u001B[0m\u001B[0;34m:\u001B[0m\u001B[0;34m\u001B[0m\u001B[0;34m\u001B[0m\u001B[0m\n",
      "\u001B[0;32mpandas/_libs/index.pyx\u001B[0m in \u001B[0;36mpandas._libs.index.IndexEngine.get_loc\u001B[0;34m()\u001B[0m\n",
      "\u001B[0;32mpandas/_libs/index.pyx\u001B[0m in \u001B[0;36mpandas._libs.index.IndexEngine.get_loc\u001B[0;34m()\u001B[0m\n",
      "\u001B[0;32mpandas/_libs/hashtable_class_helper.pxi\u001B[0m in \u001B[0;36mpandas._libs.hashtable.PyObjectHashTable.get_item\u001B[0;34m()\u001B[0m\n",
      "\u001B[0;32mpandas/_libs/hashtable_class_helper.pxi\u001B[0m in \u001B[0;36mpandas._libs.hashtable.PyObjectHashTable.get_item\u001B[0;34m()\u001B[0m\n",
      "\u001B[0;31mKeyError\u001B[0m: 'query_atomic'"
     ]
    }
   ],
   "source": [
    "ds = 500\n",
    "col = \"query_atomic\"\n",
    "means = breakdown[col][\"mean\"].T[\"t5-base\"][ds][\"v0.5\"]\n",
    "std = breakdown[col][\"std\"].T[\"t5-base\"][ds][\"v0.5\"]\n",
    "plt.figure(figsize=(16,4))\n",
    "plt.xticks(rotation=0)\n",
    "\n",
    "\n",
    "plt.title(\"Scores for queries over relation `{}` without training on relations\".format(col.replace(\"breakdown_\",\"\")))\n",
    "plt.xlabel(\"Max number of updates to be used\")\n",
    "plt.ylabel(\"Exact Match %\")\n",
    "plt.plot(means)\n",
    "plt.fill_between(means.index, [m-s for m,s in zip(means, std)],[m+s for m,s in zip(means, std)],alpha=0.1)\n",
    "plt.show()\n",
    "\n"
   ],
   "metadata": {
    "collapsed": false,
    "pycharm": {
     "name": "#%%\n"
    }
   }
  },
  {
   "cell_type": "code",
   "execution_count": null,
   "outputs": [],
   "source": [
    "means = []\n",
    "std = []\n",
    "rs =10000\n",
    "for col in breakdown_cols:\n",
    "    means.append(breakdown[col][\"mean\"].T[\"t5-base\"][rs][\"v0.4\"][8])\n",
    "    std.append(breakdown[col][\"std\"].T[\"t5-base\"][rs][\"v0.4\"][8])\n",
    "\n",
    "plt.figure(figsize=(16,4))\n",
    "plt.xticks(rotation=90)\n",
    "\n",
    "plt.title(\"Scores for queries over relations\")\n",
    "plt.xlabel(\"Relation name\")\n",
    "plt.ylabel(\"Exact Match %\")\n",
    "\n",
    "plt.bar(breakdown_cols, means, yerr=std)\n",
    "plt.show()\n",
    "\n",
    "\n",
    "means = []\n",
    "std = []\n",
    "\n",
    "for col in query_cols:\n",
    "    means.append(breakdown[col][\"mean\"].T[\"t5-base\"][rs][\"v0.4\"][8])\n",
    "    std.append(breakdown[col][\"std\"].T[\"t5-base\"][rs][\"v0.4\"][8])\n",
    "\n",
    "plt.figure(figsize=(16,4))\n",
    "plt.xticks(rotation=90)\n",
    "plt.ylim(0,1)\n",
    "\n",
    "plt.title(\"Scores for queries over database with {} facts\".format(rs))\n",
    "plt.xlabel(\"Relation name\")\n",
    "plt.ylabel(\"Exact Match %\")\n",
    "\n",
    "plt.bar(query_cols, means, yerr=std)\n",
    "plt.show()"
   ],
   "metadata": {
    "collapsed": false,
    "pycharm": {
     "name": "#%%\n"
    }
   }
  }
 ],
 "metadata": {
  "kernelspec": {
   "name": "neuraldb",
   "language": "python",
   "display_name": "neuraldb"
  },
  "language_info": {
   "codemirror_mode": {
    "name": "ipython",
    "version": 3
   },
   "file_extension": ".py",
   "mimetype": "text/x-python",
   "name": "python",
   "nbconvert_exporter": "python",
   "pygments_lexer": "ipython3",
   "version": "3.7.7"
  }
 },
 "nbformat": 4,
 "nbformat_minor": 1
}