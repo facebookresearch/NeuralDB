{
 "cells": [
  {
   "cell_type": "code",
   "execution_count": 26,
   "metadata": {
    "collapsed": true
   },
   "outputs": [],
   "source": [
    "import itertools\n",
    "import operator\n",
    "import sys\n",
    "import os\n",
    "sys.path.append(\"../src\")\n",
    "from glob import glob"
   ]
  },
  {
   "cell_type": "code",
   "execution_count": 27,
   "outputs": [
    {
     "name": "stdout",
     "output_type": "stream",
     "text": [
      "20\n"
     ]
    }
   ],
   "source": [
    "search_root = \"/checkpoint/jth/job_staging/neuraldb_expts/experiment=oracle_fusion\"\n",
    "checkpoint_name = \"best_em.ckpt\"\n",
    "files = glob(\"{}*/**/{}\".format(search_root,checkpoint_name), recursive=True)\n",
    "\n",
    "\n",
    "print(len(files))"
   ],
   "metadata": {
    "collapsed": false,
    "pycharm": {
     "name": "#%%\n"
    }
   }
  },
  {
   "cell_type": "code",
   "execution_count": 28,
   "outputs": [],
   "source": [
    "def expand(idx,chunk):\n",
    "\n",
    "  #elif idx == 1:\n",
    "  #  return [\"experiment={}\".format(chunk)]\n",
    "  if chunk.startswith(\"seed-\"):\n",
    "    return [\"seed={}\".format(chunk.replace(\"seed-\",\"\"))]\n",
    "  elif \",\" in chunk:\n",
    "    return chunk.split(\",\")\n",
    "  elif \"=\" in chunk:\n",
    "    return [chunk]\n",
    "  return []\n",
    "\n",
    "\n",
    "experiments = []\n",
    "for file in files:\n",
    "    chunks = file.replace(search_root,\"\").split(\"/\")\n",
    "    chunks = itertools.chain(*[expand(idx, chunk) for idx, chunk in enumerate(chunks)])\n",
    "\n",
    "    data = {k:v for k,v in (chunk.split(\"=\") for chunk in chunks)}\n",
    "    data[\"file\"] = file\n",
    "    data['dir'] = os.path.dirname(file)\n",
    "    experiments.append(data)\n",
    "\n",
    "\n"
   ],
   "metadata": {
    "collapsed": false,
    "pycharm": {
     "name": "#%%\n"
    }
   }
  },
  {
   "cell_type": "code",
   "execution_count": 32,
   "outputs": [
    {
     "name": "stdout",
     "output_type": "stream",
     "text": [
      "python -m neuraldb.commands.t5train2_fusion --output_dir /checkpoint/jth/job_staging/neuraldb_expts/experiment=oracle_fusion/dataset=ndb,model=t5-base,retrieval=oracle,version=v0.5/lr=0.0005,filter_size=12/context=50/seed-1 --model_name_or_path t5-base --do_predict --train_batch_size 4 --eval_batch_size 4 --n_gpu 1 --train_path=v0.5/train_queries_last_50.json --val_path=v0.5/dev_queries_last_50.json --test_path=v0.5/dev_queries_last_50.json --filter_size 12 --dataset_version=v0.5\n",
      "python -m neuraldb.commands.t5train2_fusion --output_dir /checkpoint/jth/job_staging/neuraldb_expts/experiment=oracle_fusion/dataset=ndb,model=t5-base,retrieval=oracle,version=v0.5/lr=0.0005,filter_size=12/context=50/seed-2 --model_name_or_path t5-base --do_predict --train_batch_size 4 --eval_batch_size 4 --n_gpu 1 --train_path=v0.5/train_queries_last_50.json --val_path=v0.5/dev_queries_last_50.json --test_path=v0.5/dev_queries_last_50.json --filter_size 12 --dataset_version=v0.5\n",
      "python -m neuraldb.commands.t5train2_fusion --output_dir /checkpoint/jth/job_staging/neuraldb_expts/experiment=oracle_fusion/dataset=ndb,model=t5-base,retrieval=oracle,version=v0.5/lr=0.0005,filter_size=12/context=50/seed-4 --model_name_or_path t5-base --do_predict --train_batch_size 4 --eval_batch_size 4 --n_gpu 1 --train_path=v0.5/train_queries_last_50.json --val_path=v0.5/dev_queries_last_50.json --test_path=v0.5/dev_queries_last_50.json --filter_size 12 --dataset_version=v0.5\n",
      "python -m neuraldb.commands.t5train2_fusion --output_dir /checkpoint/jth/job_staging/neuraldb_expts/experiment=oracle_fusion/dataset=ndb,model=t5-base,retrieval=oracle,version=v0.5/lr=0.0005,filter_size=12/context=50/seed-5 --model_name_or_path t5-base --do_predict --train_batch_size 4 --eval_batch_size 4 --n_gpu 1 --train_path=v0.5/train_queries_last_50.json --val_path=v0.5/dev_queries_last_50.json --test_path=v0.5/dev_queries_last_50.json --filter_size 12 --dataset_version=v0.5\n",
      "python -m neuraldb.commands.t5train2_fusion --output_dir /checkpoint/jth/job_staging/neuraldb_expts/experiment=oracle_fusion/dataset=ndb,model=t5-base,retrieval=oracle,version=v0.5/lr=0.0005,filter_size=12/context=50/seed-3 --model_name_or_path t5-base --do_predict --train_batch_size 4 --eval_batch_size 4 --n_gpu 1 --train_path=v0.5/train_queries_last_50.json --val_path=v0.5/dev_queries_last_50.json --test_path=v0.5/dev_queries_last_50.json --filter_size 12 --dataset_version=v0.5\n"
     ]
    }
   ],
   "source": [
    "for exp in experiments:\n",
    "    if exp[\"context\"] == \"100\":\n",
    "        continue\n",
    "    if \"5\" not in exp[\"lr\"]:\n",
    "        continue\n",
    "    version = exp[\"version\"]\n",
    "    print(\"python -m neuraldb.commands.t5train2_fusion \"\n",
    "          \"--output_dir {} \"\n",
    "          \"--model_name_or_path t5-base \"\n",
    "          \"--do_predict \"\n",
    "          \"--train_batch_size 4 \"\n",
    "          \"--eval_batch_size 4 \"\n",
    "          \"--n_gpu 1 \"\n",
    "          \"--train_path={}/train_queries_last_{}.json \"\n",
    "          \"--val_path={}/dev_queries_last_{}.json \"\n",
    "          \"--test_path={}/dev_queries_last_{}.json \"\n",
    "          \"--filter_size {} \"\n",
    "          \"--dataset_version={}\".format(exp['dir'],version,exp['context'],version,exp['context'],version,exp['context'],exp[\"filter_size\"],version))\n",
    "\n"
   ],
   "metadata": {
    "collapsed": false,
    "pycharm": {
     "name": "#%%\n"
    }
   }
  }
 ],
 "metadata": {
  "kernelspec": {
   "name": "neuraldb",
   "language": "python",
   "display_name": "neuraldb"
  },
  "language_info": {
   "codemirror_mode": {
    "name": "ipython",
    "version": 2
   },
   "file_extension": ".py",
   "mimetype": "text/x-python",
   "name": "python",
   "nbconvert_exporter": "python",
   "pygments_lexer": "ipython2",
   "version": "2.7.6"
  }
 },
 "nbformat": 4,
 "nbformat_minor": 0
}