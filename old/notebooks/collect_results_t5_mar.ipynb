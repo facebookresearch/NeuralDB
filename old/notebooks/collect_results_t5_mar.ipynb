{
 "cells": [
  {
   "cell_type": "code",
   "execution_count": 21,
   "metadata": {
    "collapsed": true
   },
   "outputs": [],
   "source": [
    "import itertools\n",
    "import numpy as np\n",
    "import pandas as pd\n",
    "import glob\n",
    "import json\n",
    "import matplotlib.pyplot as plt\n",
    "import numpy as np"
   ]
  },
  {
   "cell_type": "code",
   "execution_count": 26,
   "outputs": [
    {
     "name": "stdout",
     "output_type": "stream",
     "text": [
      "[]\n",
      "0\n"
     ]
    }
   ],
   "source": [
    "search_root = \"/checkpoint/jth/job_staging/neuraldb/\"\n",
    "files = glob.glob(\"{}*/*ndb*t5-base*mips_embs2*/*/metrics.json\".format(search_root))\n",
    "print(files)\n",
    "print(len(files))"
   ],
   "metadata": {
    "collapsed": false,
    "pycharm": {
     "name": "#%%\n"
    }
   }
  },
  {
   "cell_type": "code",
   "execution_count": 23,
   "outputs": [],
   "source": [
    "def expand(idx,chunk):\n",
    "  if idx == 0:\n",
    "    return [\"job_id={}\".format(chunk)]\n",
    "  #elif idx == 1:\n",
    "  #  return [\"experiment={}\".format(chunk)]\n",
    "  elif chunk.startswith(\"seed-\"):\n",
    "    return [\"seed={}\".format(chunk.replace(\"seed-\",\"\"))]\n",
    "  elif \",\" in chunk:\n",
    "    return chunk.split(\",\")\n",
    "  return []\n",
    "\n",
    "all_results = []\n",
    "for file in files:\n",
    "    chunks = file.replace(search_root,\"\").split(\"/\")\n",
    "    chunks = itertools.chain(*[expand(idx, chunk) for idx, chunk in enumerate(chunks)])\n",
    "\n",
    "    data = {k:v for k,v in (chunk.split(\"=\") for chunk in chunks)}\n",
    "\n",
    "    with open(file) as f:\n",
    "        try:\n",
    "          metrics = json.load(f)\n",
    "        except:\n",
    "          print(f.readlines())\n",
    "        if \"validation\" not in metrics or len(metrics[\"validation\"])<2:\n",
    "          continue\n",
    "\n",
    "        epoch_em = [epoch[\"EM\"] for epoch in metrics[\"validation\"]]\n",
    "\n",
    "        best_epoch_num = np.argmax(epoch_em)\n",
    "        metrics = {\"best_validation_epoch\": metrics[\"validation\"][best_epoch_num][\"epoch\"],\n",
    "                   \"best_validation_em\": metrics[\"validation\"][best_epoch_num][\"EM\"],\n",
    "                   \"best_validation_loss\": metrics[\"validation\"][best_epoch_num][\"avg_val_loss\"]\n",
    "                  }\n",
    "\n",
    "    data[\"context\"] = int(data[\"context\"])\n",
    "    data[\"max_queries\"] = int(data[\"max_queries\"]) if data['max_queries'] != \"null\" else -1\n",
    "    data.update(metrics)\n",
    "\n",
    "    all_results.append(data)\n",
    "\n",
    "results = pd.DataFrame(all_results)\n"
   ],
   "metadata": {
    "collapsed": false,
    "pycharm": {
     "name": "#%%\n"
    }
   }
  },
  {
   "cell_type": "code",
   "execution_count": 24,
   "outputs": [
    {
     "data": {
      "text/plain": "                     best_validation_em                              \n                                   mean                 std          \nversion                            v0.2      v0.4      v0.2      v0.4\nmodel   context lr                                                   \nt5-base 50      1e-3           0.646071  0.669590  0.030619  0.089212\n                1e-4           0.495380       NaN  0.004217       NaN\n                2e-3           0.460289  0.466252  0.034806  0.003749\n                3e-4           0.648440       NaN  0.077028       NaN\n                5e-3           0.437735  0.382973  0.005881  0.007213\n                5e-4           0.653896       NaN  0.007856       NaN\n                8e-4           0.685054       NaN  0.021597       NaN\n        100     1e-3           0.490948       NaN  0.037558       NaN\n                1e-4           0.437670       NaN  0.002665       NaN\n                2e-3           0.444849       NaN  0.008823       NaN\n                3e-4           0.458377       NaN  0.008535       NaN\n                5e-3           0.434747       NaN  0.005331       NaN\n                5e-4           0.457181       NaN  0.010906       NaN\n                8e-4           0.512398       NaN  0.039490       NaN",
      "text/html": "<div>\n<style scoped>\n    .dataframe tbody tr th:only-of-type {\n        vertical-align: middle;\n    }\n\n    .dataframe tbody tr th {\n        vertical-align: top;\n    }\n\n    .dataframe thead tr th {\n        text-align: left;\n    }\n\n    .dataframe thead tr:last-of-type th {\n        text-align: right;\n    }\n</style>\n<table border=\"1\" class=\"dataframe\">\n  <thead>\n    <tr>\n      <th></th>\n      <th></th>\n      <th></th>\n      <th colspan=\"4\" halign=\"left\">best_validation_em</th>\n    </tr>\n    <tr>\n      <th></th>\n      <th></th>\n      <th></th>\n      <th colspan=\"2\" halign=\"left\">mean</th>\n      <th colspan=\"2\" halign=\"left\">std</th>\n    </tr>\n    <tr>\n      <th></th>\n      <th></th>\n      <th>version</th>\n      <th>v0.2</th>\n      <th>v0.4</th>\n      <th>v0.2</th>\n      <th>v0.4</th>\n    </tr>\n    <tr>\n      <th>model</th>\n      <th>context</th>\n      <th>lr</th>\n      <th></th>\n      <th></th>\n      <th></th>\n      <th></th>\n    </tr>\n  </thead>\n  <tbody>\n    <tr>\n      <th rowspan=\"14\" valign=\"top\">t5-base</th>\n      <th rowspan=\"7\" valign=\"top\">50</th>\n      <th>1e-3</th>\n      <td>0.646071</td>\n      <td>0.669590</td>\n      <td>0.030619</td>\n      <td>0.089212</td>\n    </tr>\n    <tr>\n      <th>1e-4</th>\n      <td>0.495380</td>\n      <td>NaN</td>\n      <td>0.004217</td>\n      <td>NaN</td>\n    </tr>\n    <tr>\n      <th>2e-3</th>\n      <td>0.460289</td>\n      <td>0.466252</td>\n      <td>0.034806</td>\n      <td>0.003749</td>\n    </tr>\n    <tr>\n      <th>3e-4</th>\n      <td>0.648440</td>\n      <td>NaN</td>\n      <td>0.077028</td>\n      <td>NaN</td>\n    </tr>\n    <tr>\n      <th>5e-3</th>\n      <td>0.437735</td>\n      <td>0.382973</td>\n      <td>0.005881</td>\n      <td>0.007213</td>\n    </tr>\n    <tr>\n      <th>5e-4</th>\n      <td>0.653896</td>\n      <td>NaN</td>\n      <td>0.007856</td>\n      <td>NaN</td>\n    </tr>\n    <tr>\n      <th>8e-4</th>\n      <td>0.685054</td>\n      <td>NaN</td>\n      <td>0.021597</td>\n      <td>NaN</td>\n    </tr>\n    <tr>\n      <th rowspan=\"7\" valign=\"top\">100</th>\n      <th>1e-3</th>\n      <td>0.490948</td>\n      <td>NaN</td>\n      <td>0.037558</td>\n      <td>NaN</td>\n    </tr>\n    <tr>\n      <th>1e-4</th>\n      <td>0.437670</td>\n      <td>NaN</td>\n      <td>0.002665</td>\n      <td>NaN</td>\n    </tr>\n    <tr>\n      <th>2e-3</th>\n      <td>0.444849</td>\n      <td>NaN</td>\n      <td>0.008823</td>\n      <td>NaN</td>\n    </tr>\n    <tr>\n      <th>3e-4</th>\n      <td>0.458377</td>\n      <td>NaN</td>\n      <td>0.008535</td>\n      <td>NaN</td>\n    </tr>\n    <tr>\n      <th>5e-3</th>\n      <td>0.434747</td>\n      <td>NaN</td>\n      <td>0.005331</td>\n      <td>NaN</td>\n    </tr>\n    <tr>\n      <th>5e-4</th>\n      <td>0.457181</td>\n      <td>NaN</td>\n      <td>0.010906</td>\n      <td>NaN</td>\n    </tr>\n    <tr>\n      <th>8e-4</th>\n      <td>0.512398</td>\n      <td>NaN</td>\n      <td>0.039490</td>\n      <td>NaN</td>\n    </tr>\n  </tbody>\n</table>\n</div>"
     },
     "execution_count": 24,
     "metadata": {},
     "output_type": "execute_result"
    }
   ],
   "source": [
    "pd.set_option(\"display.max_rows\", 500)\n",
    "pt = pd.pivot_table(results, index=[\"model\",\"context\",\"lr\"],columns=[\"version\"],aggfunc={\"best_validation_em\":[np.mean,np.std]})\n",
    "pt"
   ],
   "metadata": {
    "collapsed": false,
    "pycharm": {
     "name": "#%%\n"
    }
   }
  },
  {
   "cell_type": "code",
   "execution_count": 5,
   "outputs": [
    {
     "data": {
      "text/plain": "<Figure size 432x288 with 1 Axes>",
      "image/png": "[encoded data removed]"
     },
     "metadata": {
      "needs_background": "light"
     },
     "output_type": "display_data"
    }
   ],
   "source": [
    "all_v2 = pt[\"best_validation_em\"][\"mean\"][\"v0.2\"][\"t5-base\"]\n",
    "all_v4 = pt[\"best_validation_em\"][\"mean\"][\"v0.4\"][\"t5-base\"]\n",
    "\n",
    "all_v2_std = pt[\"best_validation_em\"][\"std\"][\"v0.2\"][\"t5-base\"]\n",
    "all_v4_std = pt[\"best_validation_em\"][\"std\"][\"v0.4\"][\"t5-base\"]\n",
    "\n",
    "v2_datasets = [50,100,300,500]\n",
    "v4_datasets = [50,100,500,2000,5000,7000,10000]\n",
    "\n",
    "plt.title(\"T5 seq2seq model (retriever=TFIDF, lr=1e-3)\")\n",
    "plt.ylabel(\"Accuracy\")\n",
    "plt.xlabel(\"Database size\")\n",
    "\n",
    "v2_series = [all_v2[data_size][\"1e-3\"] for data_size in v2_datasets]\n",
    "v4_series = [all_v4[data_size][\"1e-3\"] for data_size in v4_datasets]\n",
    "\n",
    "v2_l_series = [all_v2[data_size][\"1e-3\"]-2*all_v2_std[data_size][\"1e-3\"] for data_size in v2_datasets]\n",
    "v4_l_series = [all_v4[data_size][\"1e-3\"]-2*all_v4_std[data_size][\"1e-3\"] for data_size in v4_datasets]\n",
    "\n",
    "v2_h_series = [all_v2[data_size][\"1e-3\"]+2*all_v2_std[data_size][\"1e-3\"] for data_size in v2_datasets]\n",
    "v4_h_series = [all_v4[data_size][\"1e-3\"]+2*all_v4_std[data_size][\"1e-3\"] for data_size in v4_datasets]\n",
    "\n",
    "plt.plot(v2_datasets,v2_series)\n",
    "plt.fill_between(v2_datasets, v2_l_series,v2_h_series, alpha=0.4)\n",
    "plt.plot(v4_datasets,v4_series)\n",
    "plt.fill_between(v4_datasets, v4_l_series,v4_h_series, alpha=0.4)\n",
    "\n",
    "plt.xscale(\"log\")\n",
    "\n",
    "plt.legend([\"Database Version = 0.2\", \"Database Version = 0.4\"])\n",
    "plt.show()"
   ],
   "metadata": {
    "collapsed": false,
    "pycharm": {
     "name": "#%%\n"
    }
   }
  },
  {
   "cell_type": "code",
   "execution_count": 6,
   "outputs": [
    {
     "ename": "KeyError",
     "evalue": "'best_validation_accuracy'",
     "output_type": "error",
     "traceback": [
      "\u001B[0;31m---------------------------------------------------------------------------\u001B[0m",
      "\u001B[0;31mKeyError\u001B[0m                                  Traceback (most recent call last)",
      "\u001B[0;32m~/anaconda3/lib/python3.7/site-packages/pandas/core/indexes/base.py\u001B[0m in \u001B[0;36mget_loc\u001B[0;34m(self, key, method, tolerance)\u001B[0m\n\u001B[1;32m   3077\u001B[0m             \u001B[0;32mtry\u001B[0m\u001B[0;34m:\u001B[0m\u001B[0;34m\u001B[0m\u001B[0m\n\u001B[0;32m-> 3078\u001B[0;31m                 \u001B[0;32mreturn\u001B[0m \u001B[0mself\u001B[0m\u001B[0;34m.\u001B[0m\u001B[0m_engine\u001B[0m\u001B[0;34m.\u001B[0m\u001B[0mget_loc\u001B[0m\u001B[0;34m(\u001B[0m\u001B[0mkey\u001B[0m\u001B[0;34m)\u001B[0m\u001B[0;34m\u001B[0m\u001B[0m\n\u001B[0m\u001B[1;32m   3079\u001B[0m             \u001B[0;32mexcept\u001B[0m \u001B[0mKeyError\u001B[0m\u001B[0;34m:\u001B[0m\u001B[0;34m\u001B[0m\u001B[0m\n",
      "\u001B[0;32mpandas/_libs/index.pyx\u001B[0m in \u001B[0;36mpandas._libs.index.IndexEngine.get_loc\u001B[0;34m()\u001B[0m\n",
      "\u001B[0;32mpandas/_libs/index.pyx\u001B[0m in \u001B[0;36mpandas._libs.index.IndexEngine.get_loc\u001B[0;34m()\u001B[0m\n",
      "\u001B[0;32mpandas/_libs/hashtable_class_helper.pxi\u001B[0m in \u001B[0;36mpandas._libs.hashtable.PyObjectHashTable.get_item\u001B[0;34m()\u001B[0m\n",
      "\u001B[0;32mpandas/_libs/hashtable_class_helper.pxi\u001B[0m in \u001B[0;36mpandas._libs.hashtable.PyObjectHashTable.get_item\u001B[0;34m()\u001B[0m\n",
      "\u001B[0;31mKeyError\u001B[0m: 'best_validation_accuracy'",
      "\nDuring handling of the above exception, another exception occurred:\n",
      "\u001B[0;31mKeyError\u001B[0m                                  Traceback (most recent call last)",
      "\u001B[0;32m<ipython-input-6-886dca4d40f6>\u001B[0m in \u001B[0;36m<module>\u001B[0;34m()\u001B[0m\n\u001B[1;32m      1\u001B[0m \u001B[0;34m\u001B[0m\u001B[0m\n\u001B[0;32m----> 2\u001B[0;31m \u001B[0mall_tfidf\u001B[0m \u001B[0;34m=\u001B[0m \u001B[0mpt\u001B[0m\u001B[0;34m[\u001B[0m\u001B[0;34m\"best_validation_accuracy\"\u001B[0m\u001B[0;34m]\u001B[0m\u001B[0;34m[\u001B[0m\u001B[0;34m\"mean\"\u001B[0m\u001B[0;34m]\u001B[0m\u001B[0;34m[\u001B[0m\u001B[0;34m\"tfidf\"\u001B[0m\u001B[0;34m]\u001B[0m\u001B[0;34m[\u001B[0m\u001B[0;34m\"bert_cls\"\u001B[0m\u001B[0;34m]\u001B[0m\u001B[0;34m\u001B[0m\u001B[0m\n\u001B[0m\u001B[1;32m      3\u001B[0m \u001B[0;34m\u001B[0m\u001B[0m\n\u001B[1;32m      4\u001B[0m \u001B[0mdatasets\u001B[0m \u001B[0;34m=\u001B[0m \u001B[0;34m[\u001B[0m\u001B[0;36m50\u001B[0m\u001B[0;34m,\u001B[0m\u001B[0;36m100\u001B[0m\u001B[0;34m,\u001B[0m\u001B[0;36m300\u001B[0m\u001B[0;34m,\u001B[0m\u001B[0;36m500\u001B[0m\u001B[0;34m]\u001B[0m\u001B[0;34m\u001B[0m\u001B[0m\n\u001B[1;32m      5\u001B[0m \u001B[0;34m\u001B[0m\u001B[0m\n",
      "\u001B[0;32m~/anaconda3/lib/python3.7/site-packages/pandas/core/frame.py\u001B[0m in \u001B[0;36m__getitem__\u001B[0;34m(self, key)\u001B[0m\n\u001B[1;32m   2684\u001B[0m             \u001B[0;32mreturn\u001B[0m \u001B[0mself\u001B[0m\u001B[0;34m.\u001B[0m\u001B[0m_getitem_frame\u001B[0m\u001B[0;34m(\u001B[0m\u001B[0mkey\u001B[0m\u001B[0;34m)\u001B[0m\u001B[0;34m\u001B[0m\u001B[0m\n\u001B[1;32m   2685\u001B[0m         \u001B[0;32melif\u001B[0m \u001B[0mis_mi_columns\u001B[0m\u001B[0;34m:\u001B[0m\u001B[0;34m\u001B[0m\u001B[0m\n\u001B[0;32m-> 2686\u001B[0;31m             \u001B[0;32mreturn\u001B[0m \u001B[0mself\u001B[0m\u001B[0;34m.\u001B[0m\u001B[0m_getitem_multilevel\u001B[0m\u001B[0;34m(\u001B[0m\u001B[0mkey\u001B[0m\u001B[0;34m)\u001B[0m\u001B[0;34m\u001B[0m\u001B[0m\n\u001B[0m\u001B[1;32m   2687\u001B[0m         \u001B[0;32melse\u001B[0m\u001B[0;34m:\u001B[0m\u001B[0;34m\u001B[0m\u001B[0m\n\u001B[1;32m   2688\u001B[0m             \u001B[0;32mreturn\u001B[0m \u001B[0mself\u001B[0m\u001B[0;34m.\u001B[0m\u001B[0m_getitem_column\u001B[0m\u001B[0;34m(\u001B[0m\u001B[0mkey\u001B[0m\u001B[0;34m)\u001B[0m\u001B[0;34m\u001B[0m\u001B[0m\n",
      "\u001B[0;32m~/anaconda3/lib/python3.7/site-packages/pandas/core/frame.py\u001B[0m in \u001B[0;36m_getitem_multilevel\u001B[0;34m(self, key)\u001B[0m\n\u001B[1;32m   2728\u001B[0m \u001B[0;34m\u001B[0m\u001B[0m\n\u001B[1;32m   2729\u001B[0m     \u001B[0;32mdef\u001B[0m \u001B[0m_getitem_multilevel\u001B[0m\u001B[0;34m(\u001B[0m\u001B[0mself\u001B[0m\u001B[0;34m,\u001B[0m \u001B[0mkey\u001B[0m\u001B[0;34m)\u001B[0m\u001B[0;34m:\u001B[0m\u001B[0;34m\u001B[0m\u001B[0m\n\u001B[0;32m-> 2730\u001B[0;31m         \u001B[0mloc\u001B[0m \u001B[0;34m=\u001B[0m \u001B[0mself\u001B[0m\u001B[0;34m.\u001B[0m\u001B[0mcolumns\u001B[0m\u001B[0;34m.\u001B[0m\u001B[0mget_loc\u001B[0m\u001B[0;34m(\u001B[0m\u001B[0mkey\u001B[0m\u001B[0;34m)\u001B[0m\u001B[0;34m\u001B[0m\u001B[0m\n\u001B[0m\u001B[1;32m   2731\u001B[0m         \u001B[0;32mif\u001B[0m \u001B[0misinstance\u001B[0m\u001B[0;34m(\u001B[0m\u001B[0mloc\u001B[0m\u001B[0;34m,\u001B[0m \u001B[0;34m(\u001B[0m\u001B[0mslice\u001B[0m\u001B[0;34m,\u001B[0m \u001B[0mSeries\u001B[0m\u001B[0;34m,\u001B[0m \u001B[0mnp\u001B[0m\u001B[0;34m.\u001B[0m\u001B[0mndarray\u001B[0m\u001B[0;34m,\u001B[0m \u001B[0mIndex\u001B[0m\u001B[0;34m)\u001B[0m\u001B[0;34m)\u001B[0m\u001B[0;34m:\u001B[0m\u001B[0;34m\u001B[0m\u001B[0m\n\u001B[1;32m   2732\u001B[0m             \u001B[0mnew_columns\u001B[0m \u001B[0;34m=\u001B[0m \u001B[0mself\u001B[0m\u001B[0;34m.\u001B[0m\u001B[0mcolumns\u001B[0m\u001B[0;34m[\u001B[0m\u001B[0mloc\u001B[0m\u001B[0;34m]\u001B[0m\u001B[0;34m\u001B[0m\u001B[0m\n",
      "\u001B[0;32m~/anaconda3/lib/python3.7/site-packages/pandas/core/indexes/multi.py\u001B[0m in \u001B[0;36mget_loc\u001B[0;34m(self, key, method)\u001B[0m\n\u001B[1;32m   2235\u001B[0m \u001B[0;34m\u001B[0m\u001B[0m\n\u001B[1;32m   2236\u001B[0m         \u001B[0;32mif\u001B[0m \u001B[0;32mnot\u001B[0m \u001B[0misinstance\u001B[0m\u001B[0;34m(\u001B[0m\u001B[0mkey\u001B[0m\u001B[0;34m,\u001B[0m \u001B[0mtuple\u001B[0m\u001B[0;34m)\u001B[0m\u001B[0;34m:\u001B[0m\u001B[0;34m\u001B[0m\u001B[0m\n\u001B[0;32m-> 2237\u001B[0;31m             \u001B[0mloc\u001B[0m \u001B[0;34m=\u001B[0m \u001B[0mself\u001B[0m\u001B[0;34m.\u001B[0m\u001B[0m_get_level_indexer\u001B[0m\u001B[0;34m(\u001B[0m\u001B[0mkey\u001B[0m\u001B[0;34m,\u001B[0m \u001B[0mlevel\u001B[0m\u001B[0;34m=\u001B[0m\u001B[0;36m0\u001B[0m\u001B[0;34m)\u001B[0m\u001B[0;34m\u001B[0m\u001B[0m\n\u001B[0m\u001B[1;32m   2238\u001B[0m \u001B[0;34m\u001B[0m\u001B[0m\n\u001B[1;32m   2239\u001B[0m             \u001B[0;31m# _get_level_indexer returns an empty slice if the key has\u001B[0m\u001B[0;34m\u001B[0m\u001B[0;34m\u001B[0m\u001B[0m\n",
      "\u001B[0;32m~/anaconda3/lib/python3.7/site-packages/pandas/core/indexes/multi.py\u001B[0m in \u001B[0;36m_get_level_indexer\u001B[0;34m(self, key, level, indexer)\u001B[0m\n\u001B[1;32m   2494\u001B[0m         \u001B[0;32melse\u001B[0m\u001B[0;34m:\u001B[0m\u001B[0;34m\u001B[0m\u001B[0m\n\u001B[1;32m   2495\u001B[0m \u001B[0;34m\u001B[0m\u001B[0m\n\u001B[0;32m-> 2496\u001B[0;31m             \u001B[0mloc\u001B[0m \u001B[0;34m=\u001B[0m \u001B[0mlevel_index\u001B[0m\u001B[0;34m.\u001B[0m\u001B[0mget_loc\u001B[0m\u001B[0;34m(\u001B[0m\u001B[0mkey\u001B[0m\u001B[0;34m)\u001B[0m\u001B[0;34m\u001B[0m\u001B[0m\n\u001B[0m\u001B[1;32m   2497\u001B[0m             \u001B[0;32mif\u001B[0m \u001B[0misinstance\u001B[0m\u001B[0;34m(\u001B[0m\u001B[0mloc\u001B[0m\u001B[0;34m,\u001B[0m \u001B[0mslice\u001B[0m\u001B[0;34m)\u001B[0m\u001B[0;34m:\u001B[0m\u001B[0;34m\u001B[0m\u001B[0m\n\u001B[1;32m   2498\u001B[0m                 \u001B[0;32mreturn\u001B[0m \u001B[0mloc\u001B[0m\u001B[0;34m\u001B[0m\u001B[0m\n",
      "\u001B[0;32m~/anaconda3/lib/python3.7/site-packages/pandas/core/indexes/base.py\u001B[0m in \u001B[0;36mget_loc\u001B[0;34m(self, key, method, tolerance)\u001B[0m\n\u001B[1;32m   3078\u001B[0m                 \u001B[0;32mreturn\u001B[0m \u001B[0mself\u001B[0m\u001B[0;34m.\u001B[0m\u001B[0m_engine\u001B[0m\u001B[0;34m.\u001B[0m\u001B[0mget_loc\u001B[0m\u001B[0;34m(\u001B[0m\u001B[0mkey\u001B[0m\u001B[0;34m)\u001B[0m\u001B[0;34m\u001B[0m\u001B[0m\n\u001B[1;32m   3079\u001B[0m             \u001B[0;32mexcept\u001B[0m \u001B[0mKeyError\u001B[0m\u001B[0;34m:\u001B[0m\u001B[0;34m\u001B[0m\u001B[0m\n\u001B[0;32m-> 3080\u001B[0;31m                 \u001B[0;32mreturn\u001B[0m \u001B[0mself\u001B[0m\u001B[0;34m.\u001B[0m\u001B[0m_engine\u001B[0m\u001B[0;34m.\u001B[0m\u001B[0mget_loc\u001B[0m\u001B[0;34m(\u001B[0m\u001B[0mself\u001B[0m\u001B[0;34m.\u001B[0m\u001B[0m_maybe_cast_indexer\u001B[0m\u001B[0;34m(\u001B[0m\u001B[0mkey\u001B[0m\u001B[0;34m)\u001B[0m\u001B[0;34m)\u001B[0m\u001B[0;34m\u001B[0m\u001B[0m\n\u001B[0m\u001B[1;32m   3081\u001B[0m \u001B[0;34m\u001B[0m\u001B[0m\n\u001B[1;32m   3082\u001B[0m         \u001B[0mindexer\u001B[0m \u001B[0;34m=\u001B[0m \u001B[0mself\u001B[0m\u001B[0;34m.\u001B[0m\u001B[0mget_indexer\u001B[0m\u001B[0;34m(\u001B[0m\u001B[0;34m[\u001B[0m\u001B[0mkey\u001B[0m\u001B[0;34m]\u001B[0m\u001B[0;34m,\u001B[0m \u001B[0mmethod\u001B[0m\u001B[0;34m=\u001B[0m\u001B[0mmethod\u001B[0m\u001B[0;34m,\u001B[0m \u001B[0mtolerance\u001B[0m\u001B[0;34m=\u001B[0m\u001B[0mtolerance\u001B[0m\u001B[0;34m)\u001B[0m\u001B[0;34m\u001B[0m\u001B[0m\n",
      "\u001B[0;32mpandas/_libs/index.pyx\u001B[0m in \u001B[0;36mpandas._libs.index.IndexEngine.get_loc\u001B[0;34m()\u001B[0m\n",
      "\u001B[0;32mpandas/_libs/index.pyx\u001B[0m in \u001B[0;36mpandas._libs.index.IndexEngine.get_loc\u001B[0;34m()\u001B[0m\n",
      "\u001B[0;32mpandas/_libs/hashtable_class_helper.pxi\u001B[0m in \u001B[0;36mpandas._libs.hashtable.PyObjectHashTable.get_item\u001B[0;34m()\u001B[0m\n",
      "\u001B[0;32mpandas/_libs/hashtable_class_helper.pxi\u001B[0m in \u001B[0;36mpandas._libs.hashtable.PyObjectHashTable.get_item\u001B[0;34m()\u001B[0m\n",
      "\u001B[0;31mKeyError\u001B[0m: 'best_validation_accuracy'"
     ]
    }
   ],
   "source": [
    "all_tfidf = pt[\"best_validation_accuracy\"][\"mean\"][\"tfidf\"][\"bert_cls\"]\n",
    "\n",
    "datasets = [50,100,300,500]\n",
    "\n",
    "plt.title(\"TFIDF Retrieval\")\n",
    "plt.ylabel(\"Accuracy\")\n",
    "plt.xlabel(\"Number of training queries\")\n",
    "\n",
    "for data_size in datasets:\n",
    "  plt.plot(all_tfidf[data_size][1:])\n",
    "\n",
    "plt.legend([\"Context size = {}\" .format(data) for data in datasets])\n",
    "plt.show()\n"
   ],
   "metadata": {
    "collapsed": false,
    "pycharm": {
     "name": "#%%\n"
    }
   }
  },
  {
   "cell_type": "code",
   "execution_count": null,
   "outputs": [],
   "source": [
    "all_bm25 = pt[\"best_validation_accuracy\"][\"mean\"][\"bm25\"][\"bert_cls\"]\n",
    "all_tfidf = pt[\"best_validation_accuracy\"][\"mean\"][\"tfidf\"][\"bert_cls\"]\n",
    "\n",
    "\n",
    "plt.title(\"BERT Discriminative Model (v0.2) + Information Retrieval Baselines\")\n",
    "plt.ylabel(\"Accuracy\")\n",
    "plt.xlabel(\"Context Size\")\n",
    "\n",
    "datasets = [50,100,300,500]\n",
    "plt.plot(datasets, [all_tfidf[ds][-1] for ds in datasets])\n",
    "plt.plot(datasets, [all_bm25[ds][-1] for ds in datasets])\n",
    "\n",
    "plt.legend([\"TFIDF\",\"BM25\"])\n",
    "plt.show()"
   ],
   "metadata": {
    "collapsed": false,
    "pycharm": {
     "name": "#%%\n"
    }
   }
  }
 ],
 "metadata": {
  "kernelspec": {
   "name": "python3",
   "language": "python",
   "display_name": "Python 3"
  },
  "language_info": {
   "codemirror_mode": {
    "name": "ipython",
    "version": 2
   },
   "file_extension": ".py",
   "mimetype": "text/x-python",
   "name": "python",
   "nbconvert_exporter": "python",
   "pygments_lexer": "ipython2",
   "version": "2.7.6"
  }
 },
 "nbformat": 4,
 "nbformat_minor": 0
}