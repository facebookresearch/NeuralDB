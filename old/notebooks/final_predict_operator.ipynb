{
 "cells": [
  {
   "cell_type": "code",
   "execution_count": 35,
   "metadata": {
    "collapsed": true
   },
   "outputs": [],
   "source": [
    "import itertools\n",
    "import operator\n",
    "import sys\n",
    "import os\n",
    "sys.path.append(\"../src\")\n",
    "from glob import glob"
   ]
  },
  {
   "cell_type": "code",
   "execution_count": 39,
   "outputs": [
    {
     "name": "stdout",
     "output_type": "stream",
     "text": [
      "377\n"
     ]
    }
   ],
   "source": [
    "search_root = \"/checkpoint/jth/job_staging/neuraldb_expts/experiment=operator_sweep/\"\n",
    "checkpoint_name = \"best_em.ckpt\"\n",
    "#files = glob(\"{}/**/{}\".format(search_root,checkpoint_name), recursive=True)\n",
    "\n",
    "search_root = \"/checkpoint/jth/job_staging/neuraldb_expts/experiment=operator_filter/\"\n",
    "checkpoint_name = \"best_em.ckpt\"\n",
    "files= glob(\"{}/**/{}\".format(search_root,checkpoint_name), recursive=True)\n",
    "\n",
    "\n",
    "\n",
    "\n",
    "print(len(files))"
   ],
   "metadata": {
    "collapsed": false,
    "pycharm": {
     "name": "#%%\n"
    }
   }
  },
  {
   "cell_type": "code",
   "execution_count": 41,
   "outputs": [
    {
     "name": "stdout",
     "output_type": "stream",
     "text": [
      "84\n"
     ]
    }
   ],
   "source": [
    "def expand(idx,chunk):\n",
    "\n",
    "  #elif idx == 1:\n",
    "  #  return [\"experiment={}\".format(chunk)]\n",
    "  if chunk.startswith(\"seed-\"):\n",
    "    return [\"seed={}\".format(chunk.replace(\"seed-\",\"\"))]\n",
    "  elif \",\" in chunk:\n",
    "    return chunk.split(\",\")\n",
    "  elif \"=\" in chunk:\n",
    "    return [chunk]\n",
    "  return []\n",
    "\n",
    "\n",
    "experiments = []\n",
    "for file in files:\n",
    "    chunks = file.replace(search_root,\"\").split(\"/\")\n",
    "    chunks = itertools.chain(*[expand(idx, chunk) for idx, chunk in enumerate(chunks)])\n",
    "\n",
    "    data = {k:v for k,v in (chunk.split(\"=\") for chunk in chunks)}\n",
    "    data[\"file\"] = file\n",
    "    data['dir'] = os.path.dirname(file)\n",
    "    if data[\"version\"].startswith(\"v1.3.2\"): #or data[\"version\"].startswith(\"v1.4\"):\n",
    "        experiments.append(data)\n",
    "\n",
    "\n",
    "print (len(experiments))\n"
   ],
   "metadata": {
    "collapsed": false,
    "pycharm": {
     "name": "#%%\n"
    }
   }
  },
  {
   "cell_type": "code",
   "execution_count": 42,
   "outputs": [
    {
     "name": "stdout",
     "output_type": "stream",
     "text": [
      "python -m neuraldb.commands.t5train2_operator --output_dir /checkpoint/jth/job_staging/neuraldb_expts/experiment=operator_filter/dataset=operator,model=t5-base,version=v1.3.2/lr=8e-5/filters=P6,train_percentage=1.0/seed-1 --model_name_or_path t5-base --do_predict --eval_batch_size 128 --n_gpu 4 --test_name metrics_test.jsonl --train_path=v1.3.2/generated_clean_train.jsonl --val_path=v1.3.2/generated_clean_val.jsonl --test_path=v1.3.2/generated_clean_test.jsonl \n",
      "python -m neuraldb.commands.t5train2_operator --output_dir /checkpoint/jth/job_staging/neuraldb_expts/experiment=operator_filter/dataset=operator,model=t5-base,version=v1.3.2/lr=8e-5/filters=P6,train_percentage=1.0/seed-2 --model_name_or_path t5-base --do_predict --eval_batch_size 128 --n_gpu 4 --test_name metrics_test.jsonl --train_path=v1.3.2/generated_clean_train.jsonl --val_path=v1.3.2/generated_clean_val.jsonl --test_path=v1.3.2/generated_clean_test.jsonl \n",
      "python -m neuraldb.commands.t5train2_operator --output_dir /checkpoint/jth/job_staging/neuraldb_expts/experiment=operator_filter/dataset=operator,model=t5-base,version=v1.3.2/lr=8e-5/filters=P6,train_percentage=1.0/seed-3 --model_name_or_path t5-base --do_predict --eval_batch_size 128 --n_gpu 4 --test_name metrics_test.jsonl --train_path=v1.3.2/generated_clean_train.jsonl --val_path=v1.3.2/generated_clean_val.jsonl --test_path=v1.3.2/generated_clean_test.jsonl \n",
      "python -m neuraldb.commands.t5train2_operator --output_dir /checkpoint/jth/job_staging/neuraldb_expts/experiment=operator_filter/dataset=operator,model=t5-base,version=v1.3.2/lr=8e-5/filters=P19,train_percentage=1.0/seed-1 --model_name_or_path t5-base --do_predict --eval_batch_size 128 --n_gpu 4 --test_name metrics_test.jsonl --train_path=v1.3.2/generated_clean_train.jsonl --val_path=v1.3.2/generated_clean_val.jsonl --test_path=v1.3.2/generated_clean_test.jsonl \n",
      "python -m neuraldb.commands.t5train2_operator --output_dir /checkpoint/jth/job_staging/neuraldb_expts/experiment=operator_filter/dataset=operator,model=t5-base,version=v1.3.2/lr=8e-5/filters=P19,train_percentage=1.0/seed-2 --model_name_or_path t5-base --do_predict --eval_batch_size 128 --n_gpu 4 --test_name metrics_test.jsonl --train_path=v1.3.2/generated_clean_train.jsonl --val_path=v1.3.2/generated_clean_val.jsonl --test_path=v1.3.2/generated_clean_test.jsonl \n",
      "python -m neuraldb.commands.t5train2_operator --output_dir /checkpoint/jth/job_staging/neuraldb_expts/experiment=operator_filter/dataset=operator,model=t5-base,version=v1.3.2/lr=8e-5/filters=P19,train_percentage=1.0/seed-3 --model_name_or_path t5-base --do_predict --eval_batch_size 128 --n_gpu 4 --test_name metrics_test.jsonl --train_path=v1.3.2/generated_clean_train.jsonl --val_path=v1.3.2/generated_clean_val.jsonl --test_path=v1.3.2/generated_clean_test.jsonl \n",
      "python -m neuraldb.commands.t5train2_operator --output_dir /checkpoint/jth/job_staging/neuraldb_expts/experiment=operator_filter/dataset=operator,model=t5-base,version=v1.3.2/lr=8e-5/filters=P20,train_percentage=1.0/seed-3 --model_name_or_path t5-base --do_predict --eval_batch_size 128 --n_gpu 4 --test_name metrics_test.jsonl --train_path=v1.3.2/generated_clean_train.jsonl --val_path=v1.3.2/generated_clean_val.jsonl --test_path=v1.3.2/generated_clean_test.jsonl \n",
      "python -m neuraldb.commands.t5train2_operator --output_dir /checkpoint/jth/job_staging/neuraldb_expts/experiment=operator_filter/dataset=operator,model=t5-base,version=v1.3.2/lr=8e-5/filters=P20,train_percentage=1.0/seed-1 --model_name_or_path t5-base --do_predict --eval_batch_size 128 --n_gpu 4 --test_name metrics_test.jsonl --train_path=v1.3.2/generated_clean_train.jsonl --val_path=v1.3.2/generated_clean_val.jsonl --test_path=v1.3.2/generated_clean_test.jsonl \n",
      "python -m neuraldb.commands.t5train2_operator --output_dir /checkpoint/jth/job_staging/neuraldb_expts/experiment=operator_filter/dataset=operator,model=t5-base,version=v1.3.2/lr=8e-5/filters=P20,train_percentage=1.0/seed-2 --model_name_or_path t5-base --do_predict --eval_batch_size 128 --n_gpu 4 --test_name metrics_test.jsonl --train_path=v1.3.2/generated_clean_train.jsonl --val_path=v1.3.2/generated_clean_val.jsonl --test_path=v1.3.2/generated_clean_test.jsonl \n",
      "python -m neuraldb.commands.t5train2_operator --output_dir /checkpoint/jth/job_staging/neuraldb_expts/experiment=operator_filter/dataset=operator,model=t5-base,version=v1.3.2/lr=8e-5/filters=P19.P20,train_percentage=1.0/seed-1 --model_name_or_path t5-base --do_predict --eval_batch_size 128 --n_gpu 4 --test_name metrics_test.jsonl --train_path=v1.3.2/generated_clean_train.jsonl --val_path=v1.3.2/generated_clean_val.jsonl --test_path=v1.3.2/generated_clean_test.jsonl \n",
      "python -m neuraldb.commands.t5train2_operator --output_dir /checkpoint/jth/job_staging/neuraldb_expts/experiment=operator_filter/dataset=operator,model=t5-base,version=v1.3.2/lr=8e-5/filters=P19.P20,train_percentage=1.0/seed-2 --model_name_or_path t5-base --do_predict --eval_batch_size 128 --n_gpu 4 --test_name metrics_test.jsonl --train_path=v1.3.2/generated_clean_train.jsonl --val_path=v1.3.2/generated_clean_val.jsonl --test_path=v1.3.2/generated_clean_test.jsonl \n",
      "python -m neuraldb.commands.t5train2_operator --output_dir /checkpoint/jth/job_staging/neuraldb_expts/experiment=operator_filter/dataset=operator,model=t5-base,version=v1.3.2/lr=8e-5/filters=P19.P20,train_percentage=1.0/seed-3 --model_name_or_path t5-base --do_predict --eval_batch_size 128 --n_gpu 4 --test_name metrics_test.jsonl --train_path=v1.3.2/generated_clean_train.jsonl --val_path=v1.3.2/generated_clean_val.jsonl --test_path=v1.3.2/generated_clean_test.jsonl \n",
      "python -m neuraldb.commands.t5train2_operator --output_dir /checkpoint/jth/job_staging/neuraldb_expts/experiment=operator_filter/dataset=operator,model=t5-base,version=v1.3.2/lr=8e-5/filters=P21,train_percentage=1.0/seed-1 --model_name_or_path t5-base --do_predict --eval_batch_size 128 --n_gpu 4 --test_name metrics_test.jsonl --train_path=v1.3.2/generated_clean_train.jsonl --val_path=v1.3.2/generated_clean_val.jsonl --test_path=v1.3.2/generated_clean_test.jsonl \n",
      "python -m neuraldb.commands.t5train2_operator --output_dir /checkpoint/jth/job_staging/neuraldb_expts/experiment=operator_filter/dataset=operator,model=t5-base,version=v1.3.2/lr=8e-5/filters=P21,train_percentage=1.0/seed-2 --model_name_or_path t5-base --do_predict --eval_batch_size 128 --n_gpu 4 --test_name metrics_test.jsonl --train_path=v1.3.2/generated_clean_train.jsonl --val_path=v1.3.2/generated_clean_val.jsonl --test_path=v1.3.2/generated_clean_test.jsonl \n",
      "python -m neuraldb.commands.t5train2_operator --output_dir /checkpoint/jth/job_staging/neuraldb_expts/experiment=operator_filter/dataset=operator,model=t5-base,version=v1.3.2/lr=8e-5/filters=P21,train_percentage=1.0/seed-3 --model_name_or_path t5-base --do_predict --eval_batch_size 128 --n_gpu 4 --test_name metrics_test.jsonl --train_path=v1.3.2/generated_clean_train.jsonl --val_path=v1.3.2/generated_clean_val.jsonl --test_path=v1.3.2/generated_clean_test.jsonl \n",
      "python -m neuraldb.commands.t5train2_operator --output_dir /checkpoint/jth/job_staging/neuraldb_expts/experiment=operator_filter/dataset=operator,model=t5-base,version=v1.3.2/lr=8e-5/filters=P26,train_percentage=1.0/seed-3 --model_name_or_path t5-base --do_predict --eval_batch_size 128 --n_gpu 4 --test_name metrics_test.jsonl --train_path=v1.3.2/generated_clean_train.jsonl --val_path=v1.3.2/generated_clean_val.jsonl --test_path=v1.3.2/generated_clean_test.jsonl \n",
      "python -m neuraldb.commands.t5train2_operator --output_dir /checkpoint/jth/job_staging/neuraldb_expts/experiment=operator_filter/dataset=operator,model=t5-base,version=v1.3.2/lr=8e-5/filters=P26,train_percentage=1.0/seed-1 --model_name_or_path t5-base --do_predict --eval_batch_size 128 --n_gpu 4 --test_name metrics_test.jsonl --train_path=v1.3.2/generated_clean_train.jsonl --val_path=v1.3.2/generated_clean_val.jsonl --test_path=v1.3.2/generated_clean_test.jsonl \n",
      "python -m neuraldb.commands.t5train2_operator --output_dir /checkpoint/jth/job_staging/neuraldb_expts/experiment=operator_filter/dataset=operator,model=t5-base,version=v1.3.2/lr=8e-5/filters=P26,train_percentage=1.0/seed-2 --model_name_or_path t5-base --do_predict --eval_batch_size 128 --n_gpu 4 --test_name metrics_test.jsonl --train_path=v1.3.2/generated_clean_train.jsonl --val_path=v1.3.2/generated_clean_val.jsonl --test_path=v1.3.2/generated_clean_test.jsonl \n",
      "python -m neuraldb.commands.t5train2_operator --output_dir /checkpoint/jth/job_staging/neuraldb_expts/experiment=operator_filter/dataset=operator,model=t5-base,version=v1.3.2/lr=8e-5/filters=P22,train_percentage=1.0/seed-2 --model_name_or_path t5-base --do_predict --eval_batch_size 128 --n_gpu 4 --test_name metrics_test.jsonl --train_path=v1.3.2/generated_clean_train.jsonl --val_path=v1.3.2/generated_clean_val.jsonl --test_path=v1.3.2/generated_clean_test.jsonl \n",
      "python -m neuraldb.commands.t5train2_operator --output_dir /checkpoint/jth/job_staging/neuraldb_expts/experiment=operator_filter/dataset=operator,model=t5-base,version=v1.3.2/lr=8e-5/filters=P22,train_percentage=1.0/seed-1 --model_name_or_path t5-base --do_predict --eval_batch_size 128 --n_gpu 4 --test_name metrics_test.jsonl --train_path=v1.3.2/generated_clean_train.jsonl --val_path=v1.3.2/generated_clean_val.jsonl --test_path=v1.3.2/generated_clean_test.jsonl \n",
      "python -m neuraldb.commands.t5train2_operator --output_dir /checkpoint/jth/job_staging/neuraldb_expts/experiment=operator_filter/dataset=operator,model=t5-base,version=v1.3.2/lr=8e-5/filters=P22,train_percentage=1.0/seed-3 --model_name_or_path t5-base --do_predict --eval_batch_size 128 --n_gpu 4 --test_name metrics_test.jsonl --train_path=v1.3.2/generated_clean_train.jsonl --val_path=v1.3.2/generated_clean_val.jsonl --test_path=v1.3.2/generated_clean_test.jsonl \n",
      "python -m neuraldb.commands.t5train2_operator --output_dir /checkpoint/jth/job_staging/neuraldb_expts/experiment=operator_filter/dataset=operator,model=t5-base,version=v1.3.2/lr=8e-5/filters=P23,train_percentage=1.0/seed-3 --model_name_or_path t5-base --do_predict --eval_batch_size 128 --n_gpu 4 --test_name metrics_test.jsonl --train_path=v1.3.2/generated_clean_train.jsonl --val_path=v1.3.2/generated_clean_val.jsonl --test_path=v1.3.2/generated_clean_test.jsonl \n",
      "python -m neuraldb.commands.t5train2_operator --output_dir /checkpoint/jth/job_staging/neuraldb_expts/experiment=operator_filter/dataset=operator,model=t5-base,version=v1.3.2/lr=8e-5/filters=P23,train_percentage=1.0/seed-2 --model_name_or_path t5-base --do_predict --eval_batch_size 128 --n_gpu 4 --test_name metrics_test.jsonl --train_path=v1.3.2/generated_clean_train.jsonl --val_path=v1.3.2/generated_clean_val.jsonl --test_path=v1.3.2/generated_clean_test.jsonl \n",
      "python -m neuraldb.commands.t5train2_operator --output_dir /checkpoint/jth/job_staging/neuraldb_expts/experiment=operator_filter/dataset=operator,model=t5-base,version=v1.3.2/lr=8e-5/filters=P23,train_percentage=1.0/seed-1 --model_name_or_path t5-base --do_predict --eval_batch_size 128 --n_gpu 4 --test_name metrics_test.jsonl --train_path=v1.3.2/generated_clean_train.jsonl --val_path=v1.3.2/generated_clean_val.jsonl --test_path=v1.3.2/generated_clean_test.jsonl \n",
      "python -m neuraldb.commands.t5train2_operator --output_dir /checkpoint/jth/job_staging/neuraldb_expts/experiment=operator_filter/dataset=operator,model=t5-base,version=v1.3.2/lr=8e-5/filters=P22.P23,train_percentage=1.0/seed-2 --model_name_or_path t5-base --do_predict --eval_batch_size 128 --n_gpu 4 --test_name metrics_test.jsonl --train_path=v1.3.2/generated_clean_train.jsonl --val_path=v1.3.2/generated_clean_val.jsonl --test_path=v1.3.2/generated_clean_test.jsonl \n",
      "python -m neuraldb.commands.t5train2_operator --output_dir /checkpoint/jth/job_staging/neuraldb_expts/experiment=operator_filter/dataset=operator,model=t5-base,version=v1.3.2/lr=8e-5/filters=P22.P23,train_percentage=1.0/seed-1 --model_name_or_path t5-base --do_predict --eval_batch_size 128 --n_gpu 4 --test_name metrics_test.jsonl --train_path=v1.3.2/generated_clean_train.jsonl --val_path=v1.3.2/generated_clean_val.jsonl --test_path=v1.3.2/generated_clean_test.jsonl \n",
      "python -m neuraldb.commands.t5train2_operator --output_dir /checkpoint/jth/job_staging/neuraldb_expts/experiment=operator_filter/dataset=operator,model=t5-base,version=v1.3.2/lr=8e-5/filters=P22.P23,train_percentage=1.0/seed-3 --model_name_or_path t5-base --do_predict --eval_batch_size 128 --n_gpu 4 --test_name metrics_test.jsonl --train_path=v1.3.2/generated_clean_train.jsonl --val_path=v1.3.2/generated_clean_val.jsonl --test_path=v1.3.2/generated_clean_test.jsonl \n",
      "python -m neuraldb.commands.t5train2_operator --output_dir /checkpoint/jth/job_staging/neuraldb_expts/experiment=operator_filter/dataset=operator,model=t5-base,version=v1.3.2/lr=8e-5/filters=P27,train_percentage=1.0/seed-1 --model_name_or_path t5-base --do_predict --eval_batch_size 128 --n_gpu 4 --test_name metrics_test.jsonl --train_path=v1.3.2/generated_clean_train.jsonl --val_path=v1.3.2/generated_clean_val.jsonl --test_path=v1.3.2/generated_clean_test.jsonl \n",
      "python -m neuraldb.commands.t5train2_operator --output_dir /checkpoint/jth/job_staging/neuraldb_expts/experiment=operator_filter/dataset=operator,model=t5-base,version=v1.3.2/lr=8e-5/filters=P27,train_percentage=1.0/seed-3 --model_name_or_path t5-base --do_predict --eval_batch_size 128 --n_gpu 4 --test_name metrics_test.jsonl --train_path=v1.3.2/generated_clean_train.jsonl --val_path=v1.3.2/generated_clean_val.jsonl --test_path=v1.3.2/generated_clean_test.jsonl \n",
      "python -m neuraldb.commands.t5train2_operator --output_dir /checkpoint/jth/job_staging/neuraldb_expts/experiment=operator_filter/dataset=operator,model=t5-base,version=v1.3.2/lr=8e-5/filters=P27,train_percentage=1.0/seed-2 --model_name_or_path t5-base --do_predict --eval_batch_size 128 --n_gpu 4 --test_name metrics_test.jsonl --train_path=v1.3.2/generated_clean_train.jsonl --val_path=v1.3.2/generated_clean_val.jsonl --test_path=v1.3.2/generated_clean_test.jsonl \n",
      "python -m neuraldb.commands.t5train2_operator --output_dir /checkpoint/jth/job_staging/neuraldb_expts/experiment=operator_filter/dataset=operator,model=t5-base,version=v1.3.2/lr=8e-5/filters=P35,train_percentage=1.0/seed-1 --model_name_or_path t5-base --do_predict --eval_batch_size 128 --n_gpu 4 --test_name metrics_test.jsonl --train_path=v1.3.2/generated_clean_train.jsonl --val_path=v1.3.2/generated_clean_val.jsonl --test_path=v1.3.2/generated_clean_test.jsonl \n",
      "python -m neuraldb.commands.t5train2_operator --output_dir /checkpoint/jth/job_staging/neuraldb_expts/experiment=operator_filter/dataset=operator,model=t5-base,version=v1.3.2/lr=8e-5/filters=P35,train_percentage=1.0/seed-3 --model_name_or_path t5-base --do_predict --eval_batch_size 128 --n_gpu 4 --test_name metrics_test.jsonl --train_path=v1.3.2/generated_clean_train.jsonl --val_path=v1.3.2/generated_clean_val.jsonl --test_path=v1.3.2/generated_clean_test.jsonl \n",
      "python -m neuraldb.commands.t5train2_operator --output_dir /checkpoint/jth/job_staging/neuraldb_expts/experiment=operator_filter/dataset=operator,model=t5-base,version=v1.3.2/lr=8e-5/filters=P35,train_percentage=1.0/seed-2 --model_name_or_path t5-base --do_predict --eval_batch_size 128 --n_gpu 4 --test_name metrics_test.jsonl --train_path=v1.3.2/generated_clean_train.jsonl --val_path=v1.3.2/generated_clean_val.jsonl --test_path=v1.3.2/generated_clean_test.jsonl \n",
      "python -m neuraldb.commands.t5train2_operator --output_dir /checkpoint/jth/job_staging/neuraldb_expts/experiment=operator_filter/dataset=operator,model=t5-base,version=v1.3.2/lr=8e-5/filters=P38,train_percentage=1.0/seed-2 --model_name_or_path t5-base --do_predict --eval_batch_size 128 --n_gpu 4 --test_name metrics_test.jsonl --train_path=v1.3.2/generated_clean_train.jsonl --val_path=v1.3.2/generated_clean_val.jsonl --test_path=v1.3.2/generated_clean_test.jsonl \n",
      "python -m neuraldb.commands.t5train2_operator --output_dir /checkpoint/jth/job_staging/neuraldb_expts/experiment=operator_filter/dataset=operator,model=t5-base,version=v1.3.2/lr=8e-5/filters=P38,train_percentage=1.0/seed-1 --model_name_or_path t5-base --do_predict --eval_batch_size 128 --n_gpu 4 --test_name metrics_test.jsonl --train_path=v1.3.2/generated_clean_train.jsonl --val_path=v1.3.2/generated_clean_val.jsonl --test_path=v1.3.2/generated_clean_test.jsonl \n",
      "python -m neuraldb.commands.t5train2_operator --output_dir /checkpoint/jth/job_staging/neuraldb_expts/experiment=operator_filter/dataset=operator,model=t5-base,version=v1.3.2/lr=8e-5/filters=P38,train_percentage=1.0/seed-3 --model_name_or_path t5-base --do_predict --eval_batch_size 128 --n_gpu 4 --test_name metrics_test.jsonl --train_path=v1.3.2/generated_clean_train.jsonl --val_path=v1.3.2/generated_clean_val.jsonl --test_path=v1.3.2/generated_clean_test.jsonl \n",
      "python -m neuraldb.commands.t5train2_operator --output_dir /checkpoint/jth/job_staging/neuraldb_expts/experiment=operator_filter/dataset=operator,model=t5-base,version=v1.3.2/lr=8e-5/filters=P47,train_percentage=1.0/seed-1 --model_name_or_path t5-base --do_predict --eval_batch_size 128 --n_gpu 4 --test_name metrics_test.jsonl --train_path=v1.3.2/generated_clean_train.jsonl --val_path=v1.3.2/generated_clean_val.jsonl --test_path=v1.3.2/generated_clean_test.jsonl \n",
      "python -m neuraldb.commands.t5train2_operator --output_dir /checkpoint/jth/job_staging/neuraldb_expts/experiment=operator_filter/dataset=operator,model=t5-base,version=v1.3.2/lr=8e-5/filters=P47,train_percentage=1.0/seed-2 --model_name_or_path t5-base --do_predict --eval_batch_size 128 --n_gpu 4 --test_name metrics_test.jsonl --train_path=v1.3.2/generated_clean_train.jsonl --val_path=v1.3.2/generated_clean_val.jsonl --test_path=v1.3.2/generated_clean_test.jsonl \n",
      "python -m neuraldb.commands.t5train2_operator --output_dir /checkpoint/jth/job_staging/neuraldb_expts/experiment=operator_filter/dataset=operator,model=t5-base,version=v1.3.2/lr=8e-5/filters=P47,train_percentage=1.0/seed-3 --model_name_or_path t5-base --do_predict --eval_batch_size 128 --n_gpu 4 --test_name metrics_test.jsonl --train_path=v1.3.2/generated_clean_train.jsonl --val_path=v1.3.2/generated_clean_val.jsonl --test_path=v1.3.2/generated_clean_test.jsonl \n",
      "python -m neuraldb.commands.t5train2_operator --output_dir /checkpoint/jth/job_staging/neuraldb_expts/experiment=operator_filter/dataset=operator,model=t5-base,version=v1.3.2/lr=8e-5/filters=P50,train_percentage=1.0/seed-3 --model_name_or_path t5-base --do_predict --eval_batch_size 128 --n_gpu 4 --test_name metrics_test.jsonl --train_path=v1.3.2/generated_clean_train.jsonl --val_path=v1.3.2/generated_clean_val.jsonl --test_path=v1.3.2/generated_clean_test.jsonl \n",
      "python -m neuraldb.commands.t5train2_operator --output_dir /checkpoint/jth/job_staging/neuraldb_expts/experiment=operator_filter/dataset=operator,model=t5-base,version=v1.3.2/lr=8e-5/filters=P50,train_percentage=1.0/seed-1 --model_name_or_path t5-base --do_predict --eval_batch_size 128 --n_gpu 4 --test_name metrics_test.jsonl --train_path=v1.3.2/generated_clean_train.jsonl --val_path=v1.3.2/generated_clean_val.jsonl --test_path=v1.3.2/generated_clean_test.jsonl \n",
      "python -m neuraldb.commands.t5train2_operator --output_dir /checkpoint/jth/job_staging/neuraldb_expts/experiment=operator_filter/dataset=operator,model=t5-base,version=v1.3.2/lr=8e-5/filters=P50,train_percentage=1.0/seed-2 --model_name_or_path t5-base --do_predict --eval_batch_size 128 --n_gpu 4 --test_name metrics_test.jsonl --train_path=v1.3.2/generated_clean_train.jsonl --val_path=v1.3.2/generated_clean_val.jsonl --test_path=v1.3.2/generated_clean_test.jsonl \n",
      "python -m neuraldb.commands.t5train2_operator --output_dir /checkpoint/jth/job_staging/neuraldb_expts/experiment=operator_filter/dataset=operator,model=t5-base,version=v1.3.2/lr=8e-5/filters=P54,train_percentage=1.0/seed-1 --model_name_or_path t5-base --do_predict --eval_batch_size 128 --n_gpu 4 --test_name metrics_test.jsonl --train_path=v1.3.2/generated_clean_train.jsonl --val_path=v1.3.2/generated_clean_val.jsonl --test_path=v1.3.2/generated_clean_test.jsonl \n",
      "python -m neuraldb.commands.t5train2_operator --output_dir /checkpoint/jth/job_staging/neuraldb_expts/experiment=operator_filter/dataset=operator,model=t5-base,version=v1.3.2/lr=8e-5/filters=P54,train_percentage=1.0/seed-2 --model_name_or_path t5-base --do_predict --eval_batch_size 128 --n_gpu 4 --test_name metrics_test.jsonl --train_path=v1.3.2/generated_clean_train.jsonl --val_path=v1.3.2/generated_clean_val.jsonl --test_path=v1.3.2/generated_clean_test.jsonl \n",
      "python -m neuraldb.commands.t5train2_operator --output_dir /checkpoint/jth/job_staging/neuraldb_expts/experiment=operator_filter/dataset=operator,model=t5-base,version=v1.3.2/lr=8e-5/filters=P54,train_percentage=1.0/seed-3 --model_name_or_path t5-base --do_predict --eval_batch_size 128 --n_gpu 4 --test_name metrics_test.jsonl --train_path=v1.3.2/generated_clean_train.jsonl --val_path=v1.3.2/generated_clean_val.jsonl --test_path=v1.3.2/generated_clean_test.jsonl \n",
      "python -m neuraldb.commands.t5train2_operator --output_dir /checkpoint/jth/job_staging/neuraldb_expts/experiment=operator_filter/dataset=operator,model=t5-base,version=v1.3.2/lr=8e-5/filters=P57,train_percentage=1.0/seed-2 --model_name_or_path t5-base --do_predict --eval_batch_size 128 --n_gpu 4 --test_name metrics_test.jsonl --train_path=v1.3.2/generated_clean_train.jsonl --val_path=v1.3.2/generated_clean_val.jsonl --test_path=v1.3.2/generated_clean_test.jsonl \n",
      "python -m neuraldb.commands.t5train2_operator --output_dir /checkpoint/jth/job_staging/neuraldb_expts/experiment=operator_filter/dataset=operator,model=t5-base,version=v1.3.2/lr=8e-5/filters=P57,train_percentage=1.0/seed-3 --model_name_or_path t5-base --do_predict --eval_batch_size 128 --n_gpu 4 --test_name metrics_test.jsonl --train_path=v1.3.2/generated_clean_train.jsonl --val_path=v1.3.2/generated_clean_val.jsonl --test_path=v1.3.2/generated_clean_test.jsonl \n",
      "python -m neuraldb.commands.t5train2_operator --output_dir /checkpoint/jth/job_staging/neuraldb_expts/experiment=operator_filter/dataset=operator,model=t5-base,version=v1.3.2/lr=8e-5/filters=P57,train_percentage=1.0/seed-1 --model_name_or_path t5-base --do_predict --eval_batch_size 128 --n_gpu 4 --test_name metrics_test.jsonl --train_path=v1.3.2/generated_clean_train.jsonl --val_path=v1.3.2/generated_clean_val.jsonl --test_path=v1.3.2/generated_clean_test.jsonl \n",
      "python -m neuraldb.commands.t5train2_operator --output_dir /checkpoint/jth/job_staging/neuraldb_expts/experiment=operator_filter/dataset=operator,model=t5-base,version=v1.3.2/lr=8e-5/filters=P58,train_percentage=1.0/seed-2 --model_name_or_path t5-base --do_predict --eval_batch_size 128 --n_gpu 4 --test_name metrics_test.jsonl --train_path=v1.3.2/generated_clean_train.jsonl --val_path=v1.3.2/generated_clean_val.jsonl --test_path=v1.3.2/generated_clean_test.jsonl \n",
      "python -m neuraldb.commands.t5train2_operator --output_dir /checkpoint/jth/job_staging/neuraldb_expts/experiment=operator_filter/dataset=operator,model=t5-base,version=v1.3.2/lr=8e-5/filters=P58,train_percentage=1.0/seed-1 --model_name_or_path t5-base --do_predict --eval_batch_size 128 --n_gpu 4 --test_name metrics_test.jsonl --train_path=v1.3.2/generated_clean_train.jsonl --val_path=v1.3.2/generated_clean_val.jsonl --test_path=v1.3.2/generated_clean_test.jsonl \n",
      "python -m neuraldb.commands.t5train2_operator --output_dir /checkpoint/jth/job_staging/neuraldb_expts/experiment=operator_filter/dataset=operator,model=t5-base,version=v1.3.2/lr=8e-5/filters=P58,train_percentage=1.0/seed-3 --model_name_or_path t5-base --do_predict --eval_batch_size 128 --n_gpu 4 --test_name metrics_test.jsonl --train_path=v1.3.2/generated_clean_train.jsonl --val_path=v1.3.2/generated_clean_val.jsonl --test_path=v1.3.2/generated_clean_test.jsonl \n",
      "python -m neuraldb.commands.t5train2_operator --output_dir /checkpoint/jth/job_staging/neuraldb_expts/experiment=operator_filter/dataset=operator,model=t5-base,version=v1.3.2/lr=8e-5/filters=P61,train_percentage=1.0/seed-1 --model_name_or_path t5-base --do_predict --eval_batch_size 128 --n_gpu 4 --test_name metrics_test.jsonl --train_path=v1.3.2/generated_clean_train.jsonl --val_path=v1.3.2/generated_clean_val.jsonl --test_path=v1.3.2/generated_clean_test.jsonl \n",
      "python -m neuraldb.commands.t5train2_operator --output_dir /checkpoint/jth/job_staging/neuraldb_expts/experiment=operator_filter/dataset=operator,model=t5-base,version=v1.3.2/lr=8e-5/filters=P61,train_percentage=1.0/seed-2 --model_name_or_path t5-base --do_predict --eval_batch_size 128 --n_gpu 4 --test_name metrics_test.jsonl --train_path=v1.3.2/generated_clean_train.jsonl --val_path=v1.3.2/generated_clean_val.jsonl --test_path=v1.3.2/generated_clean_test.jsonl \n",
      "python -m neuraldb.commands.t5train2_operator --output_dir /checkpoint/jth/job_staging/neuraldb_expts/experiment=operator_filter/dataset=operator,model=t5-base,version=v1.3.2/lr=8e-5/filters=P61,train_percentage=1.0/seed-3 --model_name_or_path t5-base --do_predict --eval_batch_size 128 --n_gpu 4 --test_name metrics_test.jsonl --train_path=v1.3.2/generated_clean_train.jsonl --val_path=v1.3.2/generated_clean_val.jsonl --test_path=v1.3.2/generated_clean_test.jsonl \n",
      "python -m neuraldb.commands.t5train2_operator --output_dir /checkpoint/jth/job_staging/neuraldb_expts/experiment=operator_filter/dataset=operator,model=t5-base,version=v1.3.2/lr=8e-5/filters=P69,train_percentage=1.0/seed-2 --model_name_or_path t5-base --do_predict --eval_batch_size 128 --n_gpu 4 --test_name metrics_test.jsonl --train_path=v1.3.2/generated_clean_train.jsonl --val_path=v1.3.2/generated_clean_val.jsonl --test_path=v1.3.2/generated_clean_test.jsonl \n",
      "python -m neuraldb.commands.t5train2_operator --output_dir /checkpoint/jth/job_staging/neuraldb_expts/experiment=operator_filter/dataset=operator,model=t5-base,version=v1.3.2/lr=8e-5/filters=P69,train_percentage=1.0/seed-1 --model_name_or_path t5-base --do_predict --eval_batch_size 128 --n_gpu 4 --test_name metrics_test.jsonl --train_path=v1.3.2/generated_clean_train.jsonl --val_path=v1.3.2/generated_clean_val.jsonl --test_path=v1.3.2/generated_clean_test.jsonl \n",
      "python -m neuraldb.commands.t5train2_operator --output_dir /checkpoint/jth/job_staging/neuraldb_expts/experiment=operator_filter/dataset=operator,model=t5-base,version=v1.3.2/lr=8e-5/filters=P69,train_percentage=1.0/seed-3 --model_name_or_path t5-base --do_predict --eval_batch_size 128 --n_gpu 4 --test_name metrics_test.jsonl --train_path=v1.3.2/generated_clean_train.jsonl --val_path=v1.3.2/generated_clean_val.jsonl --test_path=v1.3.2/generated_clean_test.jsonl \n",
      "python -m neuraldb.commands.t5train2_operator --output_dir /checkpoint/jth/job_staging/neuraldb_expts/experiment=operator_filter/dataset=operator,model=t5-base,version=v1.3.2/lr=8e-5/filters=P106,train_percentage=1.0/seed-2 --model_name_or_path t5-base --do_predict --eval_batch_size 128 --n_gpu 4 --test_name metrics_test.jsonl --train_path=v1.3.2/generated_clean_train.jsonl --val_path=v1.3.2/generated_clean_val.jsonl --test_path=v1.3.2/generated_clean_test.jsonl \n",
      "python -m neuraldb.commands.t5train2_operator --output_dir /checkpoint/jth/job_staging/neuraldb_expts/experiment=operator_filter/dataset=operator,model=t5-base,version=v1.3.2/lr=8e-5/filters=P106,train_percentage=1.0/seed-1 --model_name_or_path t5-base --do_predict --eval_batch_size 128 --n_gpu 4 --test_name metrics_test.jsonl --train_path=v1.3.2/generated_clean_train.jsonl --val_path=v1.3.2/generated_clean_val.jsonl --test_path=v1.3.2/generated_clean_test.jsonl \n",
      "python -m neuraldb.commands.t5train2_operator --output_dir /checkpoint/jth/job_staging/neuraldb_expts/experiment=operator_filter/dataset=operator,model=t5-base,version=v1.3.2/lr=8e-5/filters=P106,train_percentage=1.0/seed-3 --model_name_or_path t5-base --do_predict --eval_batch_size 128 --n_gpu 4 --test_name metrics_test.jsonl --train_path=v1.3.2/generated_clean_train.jsonl --val_path=v1.3.2/generated_clean_val.jsonl --test_path=v1.3.2/generated_clean_test.jsonl \n",
      "python -m neuraldb.commands.t5train2_operator --output_dir /checkpoint/jth/job_staging/neuraldb_expts/experiment=operator_filter/dataset=operator,model=t5-base,version=v1.3.2/lr=8e-5/filters=P108,train_percentage=1.0/seed-1 --model_name_or_path t5-base --do_predict --eval_batch_size 128 --n_gpu 4 --test_name metrics_test.jsonl --train_path=v1.3.2/generated_clean_train.jsonl --val_path=v1.3.2/generated_clean_val.jsonl --test_path=v1.3.2/generated_clean_test.jsonl \n",
      "python -m neuraldb.commands.t5train2_operator --output_dir /checkpoint/jth/job_staging/neuraldb_expts/experiment=operator_filter/dataset=operator,model=t5-base,version=v1.3.2/lr=8e-5/filters=P108,train_percentage=1.0/seed-2 --model_name_or_path t5-base --do_predict --eval_batch_size 128 --n_gpu 4 --test_name metrics_test.jsonl --train_path=v1.3.2/generated_clean_train.jsonl --val_path=v1.3.2/generated_clean_val.jsonl --test_path=v1.3.2/generated_clean_test.jsonl \n",
      "python -m neuraldb.commands.t5train2_operator --output_dir /checkpoint/jth/job_staging/neuraldb_expts/experiment=operator_filter/dataset=operator,model=t5-base,version=v1.3.2/lr=8e-5/filters=P108,train_percentage=1.0/seed-3 --model_name_or_path t5-base --do_predict --eval_batch_size 128 --n_gpu 4 --test_name metrics_test.jsonl --train_path=v1.3.2/generated_clean_train.jsonl --val_path=v1.3.2/generated_clean_val.jsonl --test_path=v1.3.2/generated_clean_test.jsonl \n",
      "python -m neuraldb.commands.t5train2_operator --output_dir /checkpoint/jth/job_staging/neuraldb_expts/experiment=operator_filter/dataset=operator,model=t5-base,version=v1.3.2/lr=8e-5/filters=P118,train_percentage=1.0/seed-1 --model_name_or_path t5-base --do_predict --eval_batch_size 128 --n_gpu 4 --test_name metrics_test.jsonl --train_path=v1.3.2/generated_clean_train.jsonl --val_path=v1.3.2/generated_clean_val.jsonl --test_path=v1.3.2/generated_clean_test.jsonl \n",
      "python -m neuraldb.commands.t5train2_operator --output_dir /checkpoint/jth/job_staging/neuraldb_expts/experiment=operator_filter/dataset=operator,model=t5-base,version=v1.3.2/lr=8e-5/filters=P118,train_percentage=1.0/seed-2 --model_name_or_path t5-base --do_predict --eval_batch_size 128 --n_gpu 4 --test_name metrics_test.jsonl --train_path=v1.3.2/generated_clean_train.jsonl --val_path=v1.3.2/generated_clean_val.jsonl --test_path=v1.3.2/generated_clean_test.jsonl \n",
      "python -m neuraldb.commands.t5train2_operator --output_dir /checkpoint/jth/job_staging/neuraldb_expts/experiment=operator_filter/dataset=operator,model=t5-base,version=v1.3.2/lr=8e-5/filters=P118,train_percentage=1.0/seed-3 --model_name_or_path t5-base --do_predict --eval_batch_size 128 --n_gpu 4 --test_name metrics_test.jsonl --train_path=v1.3.2/generated_clean_train.jsonl --val_path=v1.3.2/generated_clean_val.jsonl --test_path=v1.3.2/generated_clean_test.jsonl \n",
      "python -m neuraldb.commands.t5train2_operator --output_dir /checkpoint/jth/job_staging/neuraldb_expts/experiment=operator_filter/dataset=operator,model=t5-base,version=v1.3.2/lr=8e-5/filters=P1082,train_percentage=1.0/seed-1 --model_name_or_path t5-base --do_predict --eval_batch_size 128 --n_gpu 4 --test_name metrics_test.jsonl --train_path=v1.3.2/generated_clean_train.jsonl --val_path=v1.3.2/generated_clean_val.jsonl --test_path=v1.3.2/generated_clean_test.jsonl \n",
      "python -m neuraldb.commands.t5train2_operator --output_dir /checkpoint/jth/job_staging/neuraldb_expts/experiment=operator_filter/dataset=operator,model=t5-base,version=v1.3.2/lr=8e-5/filters=P1082,train_percentage=1.0/seed-3 --model_name_or_path t5-base --do_predict --eval_batch_size 128 --n_gpu 4 --test_name metrics_test.jsonl --train_path=v1.3.2/generated_clean_train.jsonl --val_path=v1.3.2/generated_clean_val.jsonl --test_path=v1.3.2/generated_clean_test.jsonl \n",
      "python -m neuraldb.commands.t5train2_operator --output_dir /checkpoint/jth/job_staging/neuraldb_expts/experiment=operator_filter/dataset=operator,model=t5-base,version=v1.3.2/lr=8e-5/filters=P1082,train_percentage=1.0/seed-2 --model_name_or_path t5-base --do_predict --eval_batch_size 128 --n_gpu 4 --test_name metrics_test.jsonl --train_path=v1.3.2/generated_clean_train.jsonl --val_path=v1.3.2/generated_clean_val.jsonl --test_path=v1.3.2/generated_clean_test.jsonl \n",
      "python -m neuraldb.commands.t5train2_operator --output_dir /checkpoint/jth/job_staging/neuraldb_expts/experiment=operator_filter/dataset=operator,model=t5-base,version=v1.3.2/lr=8e-5/filters=P1092,train_percentage=1.0/seed-1 --model_name_or_path t5-base --do_predict --eval_batch_size 128 --n_gpu 4 --test_name metrics_test.jsonl --train_path=v1.3.2/generated_clean_train.jsonl --val_path=v1.3.2/generated_clean_val.jsonl --test_path=v1.3.2/generated_clean_test.jsonl \n",
      "python -m neuraldb.commands.t5train2_operator --output_dir /checkpoint/jth/job_staging/neuraldb_expts/experiment=operator_filter/dataset=operator,model=t5-base,version=v1.3.2/lr=8e-5/filters=P1092,train_percentage=1.0/seed-2 --model_name_or_path t5-base --do_predict --eval_batch_size 128 --n_gpu 4 --test_name metrics_test.jsonl --train_path=v1.3.2/generated_clean_train.jsonl --val_path=v1.3.2/generated_clean_val.jsonl --test_path=v1.3.2/generated_clean_test.jsonl \n",
      "python -m neuraldb.commands.t5train2_operator --output_dir /checkpoint/jth/job_staging/neuraldb_expts/experiment=operator_filter/dataset=operator,model=t5-base,version=v1.3.2/lr=8e-5/filters=P1092,train_percentage=1.0/seed-3 --model_name_or_path t5-base --do_predict --eval_batch_size 128 --n_gpu 4 --test_name metrics_test.jsonl --train_path=v1.3.2/generated_clean_train.jsonl --val_path=v1.3.2/generated_clean_val.jsonl --test_path=v1.3.2/generated_clean_test.jsonl \n",
      "python -m neuraldb.commands.t5train2_operator --output_dir /checkpoint/jth/job_staging/neuraldb_expts/experiment=operator_filter/dataset=operator,model=t5-base,version=v1.3.2/lr=8e-5/filters=P1110,train_percentage=1.0/seed-1 --model_name_or_path t5-base --do_predict --eval_batch_size 128 --n_gpu 4 --test_name metrics_test.jsonl --train_path=v1.3.2/generated_clean_train.jsonl --val_path=v1.3.2/generated_clean_val.jsonl --test_path=v1.3.2/generated_clean_test.jsonl \n",
      "python -m neuraldb.commands.t5train2_operator --output_dir /checkpoint/jth/job_staging/neuraldb_expts/experiment=operator_filter/dataset=operator,model=t5-base,version=v1.3.2/lr=8e-5/filters=P1110,train_percentage=1.0/seed-2 --model_name_or_path t5-base --do_predict --eval_batch_size 128 --n_gpu 4 --test_name metrics_test.jsonl --train_path=v1.3.2/generated_clean_train.jsonl --val_path=v1.3.2/generated_clean_val.jsonl --test_path=v1.3.2/generated_clean_test.jsonl \n",
      "python -m neuraldb.commands.t5train2_operator --output_dir /checkpoint/jth/job_staging/neuraldb_expts/experiment=operator_filter/dataset=operator,model=t5-base,version=v1.3.2/lr=8e-5/filters=P1110,train_percentage=1.0/seed-3 --model_name_or_path t5-base --do_predict --eval_batch_size 128 --n_gpu 4 --test_name metrics_test.jsonl --train_path=v1.3.2/generated_clean_train.jsonl --val_path=v1.3.2/generated_clean_val.jsonl --test_path=v1.3.2/generated_clean_test.jsonl \n",
      "python -m neuraldb.commands.t5train2_operator --output_dir /checkpoint/jth/job_staging/neuraldb_expts/experiment=operator_filter/dataset=operator,model=t5-base,version=v1.3.2/lr=8e-5/filters=P1174,train_percentage=1.0/seed-2 --model_name_or_path t5-base --do_predict --eval_batch_size 128 --n_gpu 4 --test_name metrics_test.jsonl --train_path=v1.3.2/generated_clean_train.jsonl --val_path=v1.3.2/generated_clean_val.jsonl --test_path=v1.3.2/generated_clean_test.jsonl \n",
      "python -m neuraldb.commands.t5train2_operator --output_dir /checkpoint/jth/job_staging/neuraldb_expts/experiment=operator_filter/dataset=operator,model=t5-base,version=v1.3.2/lr=8e-5/filters=P1174,train_percentage=1.0/seed-1 --model_name_or_path t5-base --do_predict --eval_batch_size 128 --n_gpu 4 --test_name metrics_test.jsonl --train_path=v1.3.2/generated_clean_train.jsonl --val_path=v1.3.2/generated_clean_val.jsonl --test_path=v1.3.2/generated_clean_test.jsonl \n",
      "python -m neuraldb.commands.t5train2_operator --output_dir /checkpoint/jth/job_staging/neuraldb_expts/experiment=operator_filter/dataset=operator,model=t5-base,version=v1.3.2/lr=8e-5/filters=P1174,train_percentage=1.0/seed-3 --model_name_or_path t5-base --do_predict --eval_batch_size 128 --n_gpu 4 --test_name metrics_test.jsonl --train_path=v1.3.2/generated_clean_train.jsonl --val_path=v1.3.2/generated_clean_val.jsonl --test_path=v1.3.2/generated_clean_test.jsonl \n",
      "python -m neuraldb.commands.t5train2_operator --output_dir /checkpoint/jth/job_staging/neuraldb_expts/experiment=operator_filter/dataset=operator,model=t5-base,version=v1.3.2/lr=8e-5/filters=P1198,train_percentage=1.0/seed-1 --model_name_or_path t5-base --do_predict --eval_batch_size 128 --n_gpu 4 --test_name metrics_test.jsonl --train_path=v1.3.2/generated_clean_train.jsonl --val_path=v1.3.2/generated_clean_val.jsonl --test_path=v1.3.2/generated_clean_test.jsonl \n",
      "python -m neuraldb.commands.t5train2_operator --output_dir /checkpoint/jth/job_staging/neuraldb_expts/experiment=operator_filter/dataset=operator,model=t5-base,version=v1.3.2/lr=8e-5/filters=P1198,train_percentage=1.0/seed-2 --model_name_or_path t5-base --do_predict --eval_batch_size 128 --n_gpu 4 --test_name metrics_test.jsonl --train_path=v1.3.2/generated_clean_train.jsonl --val_path=v1.3.2/generated_clean_val.jsonl --test_path=v1.3.2/generated_clean_test.jsonl \n",
      "python -m neuraldb.commands.t5train2_operator --output_dir /checkpoint/jth/job_staging/neuraldb_expts/experiment=operator_filter/dataset=operator,model=t5-base,version=v1.3.2/lr=8e-5/filters=P1198,train_percentage=1.0/seed-3 --model_name_or_path t5-base --do_predict --eval_batch_size 128 --n_gpu 4 --test_name metrics_test.jsonl --train_path=v1.3.2/generated_clean_train.jsonl --val_path=v1.3.2/generated_clean_val.jsonl --test_path=v1.3.2/generated_clean_test.jsonl \n",
      "python -m neuraldb.commands.t5train2_operator --output_dir /checkpoint/jth/job_staging/neuraldb_expts/experiment=operator_filter/dataset=operator,model=t5-base,version=v1.3.2/lr=8e-5/filters=P1867,train_percentage=1.0/seed-1 --model_name_or_path t5-base --do_predict --eval_batch_size 128 --n_gpu 4 --test_name metrics_test.jsonl --train_path=v1.3.2/generated_clean_train.jsonl --val_path=v1.3.2/generated_clean_val.jsonl --test_path=v1.3.2/generated_clean_test.jsonl \n",
      "python -m neuraldb.commands.t5train2_operator --output_dir /checkpoint/jth/job_staging/neuraldb_expts/experiment=operator_filter/dataset=operator,model=t5-base,version=v1.3.2/lr=8e-5/filters=P1867,train_percentage=1.0/seed-3 --model_name_or_path t5-base --do_predict --eval_batch_size 128 --n_gpu 4 --test_name metrics_test.jsonl --train_path=v1.3.2/generated_clean_train.jsonl --val_path=v1.3.2/generated_clean_val.jsonl --test_path=v1.3.2/generated_clean_test.jsonl \n",
      "python -m neuraldb.commands.t5train2_operator --output_dir /checkpoint/jth/job_staging/neuraldb_expts/experiment=operator_filter/dataset=operator,model=t5-base,version=v1.3.2/lr=8e-5/filters=P1867,train_percentage=1.0/seed-2 --model_name_or_path t5-base --do_predict --eval_batch_size 128 --n_gpu 4 --test_name metrics_test.jsonl --train_path=v1.3.2/generated_clean_train.jsonl --val_path=v1.3.2/generated_clean_val.jsonl --test_path=v1.3.2/generated_clean_test.jsonl \n"
     ]
    }
   ],
   "source": [
    "for exp in experiments:\n",
    "    version = exp[\"version\"]\n",
    "    print(\"python -m neuraldb.commands.t5train2_operator \"\n",
    "          \"--output_dir {} \"\n",
    "          \"--model_name_or_path t5-base \"\n",
    "          \"--do_predict \"\n",
    "          \"--eval_batch_size 128 \"\n",
    "          \"--n_gpu 4 \"\n",
    "          \"--test_name metrics_test.jsonl \"\n",
    "          \"--train_path={}/generated_clean_train.jsonl \"\n",
    "          \"--val_path={}/generated_clean_val.jsonl \"\n",
    "          \"--test_path={}/generated_clean_test.jsonl \"\n",
    "          .format(exp['dir'],version,version,version))\n",
    "\n"
   ],
   "metadata": {
    "collapsed": false,
    "pycharm": {
     "name": "#%%\n"
    }
   }
  }
 ],
 "metadata": {
  "kernelspec": {
   "name": "neuraldb",
   "language": "python",
   "display_name": "neuraldb"
  },
  "language_info": {
   "codemirror_mode": {
    "name": "ipython",
    "version": 2
   },
   "file_extension": ".py",
   "mimetype": "text/x-python",
   "name": "python",
   "nbconvert_exporter": "python",
   "pygments_lexer": "ipython2",
   "version": "2.7.6"
  }
 },
 "nbformat": 4,
 "nbformat_minor": 0
}