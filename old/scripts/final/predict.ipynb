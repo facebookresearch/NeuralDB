{
 "cells": [
  {
   "cell_type": "code",
   "execution_count": 16,
   "metadata": {
    "collapsed": true
   },
   "outputs": [],
   "source": [
    "import itertools\n",
    "import operator\n",
    "import sys\n",
    "import os\n",
    "sys.path.append(\"../src\")\n",
    "from glob import glob\n"
   ]
  },
  {
   "cell_type": "code",
   "execution_count": 17,
   "outputs": [
    {
     "name": "stdout",
     "output_type": "stream",
     "text": [
      "144\n"
     ]
    }
   ],
   "source": [
    "search_root = \"/checkpoint/jth/neuraldb/final=true\"\n",
    "checkpoint_name = \"best_em.ckpt\"\n",
    "files = glob(\"{}*/**/{}\".format(search_root,checkpoint_name), recursive=True)\n",
    "\n",
    "\n",
    "print(len(files))"
   ],
   "metadata": {
    "collapsed": false,
    "pycharm": {
     "name": "#%%\n"
    }
   }
  },
  {
   "cell_type": "code",
   "execution_count": 3,
   "outputs": [],
   "source": [
    "def expand(idx,chunk):\n",
    "  #if idx == 0:\n",
    "  #  return [\"job_id={}\".format(chunk)]\n",
    "  #elif idx == 1:\n",
    "  #  return [\"experiment={}\".format(chunk)]\n",
    "  if chunk.startswith(\"seed-\"):\n",
    "    return [\"seed={}\".format(chunk.replace(\"seed-\",\"\"))]\n",
    "  elif \",\" in chunk:\n",
    "    return chunk.split(\",\")\n",
    "  elif \"=\" in chunk:\n",
    "    return [chunk]\n",
    "  return []\n",
    "\n",
    "experiments = []\n",
    "for file in files:\n",
    "    chunks = file.replace(search_root,\"\").split(\"/\")\n",
    "    chunks = itertools.chain(*[expand(idx, chunk) for idx, chunk in enumerate(chunks)])\n",
    "\n",
    "    data = {k:v for k,v in (chunk.split(\"=\") for chunk in chunks)}\n",
    "    data[\"file\"] = file\n",
    "    data['dir'] = os.path.dirname(file)\n",
    "    experiments.append(data)\n",
    "\n",
    "\n"
   ],
   "metadata": {
    "collapsed": false,
    "pycharm": {
     "name": "#%%\n"
    }
   }
  },
  {
   "cell_type": "code",
   "execution_count": 15,
   "outputs": [
    {
     "name": "stdout",
     "output_type": "stream",
     "text": [
      "python -m neuraldb.commands.t5train2 --output_dir /checkpoint/jth/neuraldb/final=true/experiment=pipeline/dataset=ndb,model=t5-base,version=v0.5,pipeline=dpr/lr=5e-4/context=50,filters=null,max_queries=null/seed-1 --model_name_or_path t5-base --do_predict --train_batch_size 16 --eval_batch_size 16 --n_gpu 4 --train_path=v0.5/train_queries_last_50.json --val_path=v0.5/dev_queries_last_50.json --test_path=v0.5/dev_queries_last_50.json --retriever pipeline   --dataset_version=v0.5\n",
      "python -m neuraldb.commands.t5train2 --output_dir /checkpoint/jth/neuraldb/final=true/experiment=pipeline/dataset=ndb,model=t5-base,version=v0.5,pipeline=dpr/lr=5e-4/context=50,filters=null,max_queries=null/seed-3 --model_name_or_path t5-base --do_predict --train_batch_size 16 --eval_batch_size 16 --n_gpu 4 --train_path=v0.5/train_queries_last_50.json --val_path=v0.5/dev_queries_last_50.json --test_path=v0.5/dev_queries_last_50.json --retriever pipeline   --dataset_version=v0.5\n",
      "python -m neuraldb.commands.t5train2 --output_dir /checkpoint/jth/neuraldb/final=true/experiment=pipeline/dataset=ndb,model=t5-base,version=v0.5,pipeline=dpr/lr=5e-4/context=50,filters=null,max_queries=null/seed-4 --model_name_or_path t5-base --do_predict --train_batch_size 16 --eval_batch_size 16 --n_gpu 4 --train_path=v0.5/train_queries_last_50.json --val_path=v0.5/dev_queries_last_50.json --test_path=v0.5/dev_queries_last_50.json --retriever pipeline   --dataset_version=v0.5\n",
      "python -m neuraldb.commands.t5train2 --output_dir /checkpoint/jth/neuraldb/final=true/experiment=pipeline/dataset=ndb,model=t5-base,version=v0.5,pipeline=dpr/lr=5e-4/context=50,filters=null,max_queries=null/seed-5 --model_name_or_path t5-base --do_predict --train_batch_size 16 --eval_batch_size 16 --n_gpu 4 --train_path=v0.5/train_queries_last_50.json --val_path=v0.5/dev_queries_last_50.json --test_path=v0.5/dev_queries_last_50.json --retriever pipeline   --dataset_version=v0.5\n",
      "python -m neuraldb.commands.t5train2 --output_dir /checkpoint/jth/neuraldb/final=true/experiment=pipeline/dataset=ndb,model=t5-base,version=v0.5,pipeline=dpr/lr=5e-4/context=50,filters=null,max_queries=null/seed-2 --model_name_or_path t5-base --do_predict --train_batch_size 16 --eval_batch_size 16 --n_gpu 4 --train_path=v0.5/train_queries_last_50.json --val_path=v0.5/dev_queries_last_50.json --test_path=v0.5/dev_queries_last_50.json --retriever pipeline   --dataset_version=v0.5\n",
      "python -m neuraldb.commands.t5train2 --output_dir /checkpoint/jth/neuraldb/final=true/experiment=pipeline/dataset=ndb,model=t5-base,version=v0.5,pipeline=big_dpr/lr=5e-4/context=50,filters=null,max_queries=null/seed-2 --model_name_or_path t5-base --do_predict --train_batch_size 16 --eval_batch_size 16 --n_gpu 4 --train_path=v0.5/train_queries_last_50.json --val_path=v0.5/dev_queries_last_50.json --test_path=v0.5/dev_queries_last_50.json --retriever pipeline   --dataset_version=v0.5\n",
      "python -m neuraldb.commands.t5train2 --output_dir /checkpoint/jth/neuraldb/final=true/experiment=pipeline/dataset=ndb,model=t5-base,version=v0.5,pipeline=big_dpr/lr=5e-4/context=50,filters=null,max_queries=null/seed-4 --model_name_or_path t5-base --do_predict --train_batch_size 16 --eval_batch_size 16 --n_gpu 4 --train_path=v0.5/train_queries_last_50.json --val_path=v0.5/dev_queries_last_50.json --test_path=v0.5/dev_queries_last_50.json --retriever pipeline   --dataset_version=v0.5\n",
      "python -m neuraldb.commands.t5train2 --output_dir /checkpoint/jth/neuraldb/final=true/experiment=pipeline/dataset=ndb,model=t5-base,version=v0.5,pipeline=big_dpr/lr=5e-4/context=50,filters=null,max_queries=null/seed-5 --model_name_or_path t5-base --do_predict --train_batch_size 16 --eval_batch_size 16 --n_gpu 4 --train_path=v0.5/train_queries_last_50.json --val_path=v0.5/dev_queries_last_50.json --test_path=v0.5/dev_queries_last_50.json --retriever pipeline   --dataset_version=v0.5\n",
      "python -m neuraldb.commands.t5train2 --output_dir /checkpoint/jth/neuraldb/final=true/experiment=pipeline/dataset=ndb,model=t5-base,version=v0.5,pipeline=big_dpr/lr=5e-4/context=50,filters=null,max_queries=null/seed-1 --model_name_or_path t5-base --do_predict --train_batch_size 16 --eval_batch_size 16 --n_gpu 4 --train_path=v0.5/train_queries_last_50.json --val_path=v0.5/dev_queries_last_50.json --test_path=v0.5/dev_queries_last_50.json --retriever pipeline   --dataset_version=v0.5\n",
      "python -m neuraldb.commands.t5train2 --output_dir /checkpoint/jth/neuraldb/final=true/experiment=pipeline/dataset=ndb,model=t5-base,version=v0.5,pipeline=big_dpr/lr=5e-4/context=50,filters=null,max_queries=null/seed-3 --model_name_or_path t5-base --do_predict --train_batch_size 16 --eval_batch_size 16 --n_gpu 4 --train_path=v0.5/train_queries_last_50.json --val_path=v0.5/dev_queries_last_50.json --test_path=v0.5/dev_queries_last_50.json --retriever pipeline   --dataset_version=v0.5\n"
     ]
    }
   ],
   "source": [
    "for exp in experiments:\n",
    "    version = exp[\"version\"]\n",
    "\n",
    "\n",
    "    if \"dpr\" not in exp[\"file\"]:\n",
    "        continue\n",
    "\n",
    "    retriever = \"all\" if exp[\"experiment\"] == \"entire_database\" else (\"pipeline\" if \"pipeline\" in exp[\"experiment\"] else \"tfidf\" )\n",
    "    module = \"neuraldb.commands.t5train2\" if \"fusion\" not in exp[\"file\"] else \"neuraldb.commands.t5train2_fusion\"\n",
    "    iterate = \"--iterate\" if exp[\"experiment\"] == \"iterate_database\" else \"\"\n",
    "    oracle = \"--oracle\" if \"oracle\" in exp[\"experiment\"] else \"\"\n",
    "\n",
    "    print(\"python -m {} \"\n",
    "          \"--output_dir {} \"\n",
    "          \"--model_name_or_path t5-base \"\n",
    "          \"--do_predict \"\n",
    "          \"--train_batch_size 16 \"\n",
    "          \"--eval_batch_size 16 \"\n",
    "          \"--n_gpu 4 \"\n",
    "          \"--train_path={}/train_queries_last_{}.json \"\n",
    "          \"--val_path={}/dev_queries_last_{}.json \"\n",
    "          \"--test_path={}/dev_queries_last_{}.json \"\n",
    "          \"--retriever {} \"\n",
    "          \"{} {} \"\n",
    "          \"--dataset_version={}\".format(module, exp['dir'],version,exp['context'],version,exp['context'],version,exp['context'],retriever, iterate, oracle, version))\n",
    "\n"
   ],
   "metadata": {
    "collapsed": false,
    "pycharm": {
     "name": "#%%\n"
    }
   }
  }
 ],
 "metadata": {
  "kernelspec": {
   "name": "neuraldb",
   "language": "python",
   "display_name": "neuraldb"
  },
  "language_info": {
   "codemirror_mode": {
    "name": "ipython",
    "version": 2
   },
   "file_extension": ".py",
   "mimetype": "text/x-python",
   "name": "python",
   "nbconvert_exporter": "python",
   "pygments_lexer": "ipython2",
   "version": "2.7.6"
  }
 },
 "nbformat": 4,
 "nbformat_minor": 0
}